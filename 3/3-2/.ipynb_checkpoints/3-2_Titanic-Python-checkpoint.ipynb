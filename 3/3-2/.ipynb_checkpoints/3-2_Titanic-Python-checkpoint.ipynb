{
 "cells": [
  {
   "cell_type": "markdown",
   "metadata": {},
   "source": [
    "# Titanic - Supervised Classification\n",
    "### Ejercicio 3.2\n",
    "\n",
    "Pondremos en práctica los conocimientos aprendidos hasta ahora desarrollando un modelo predictivo a través de sus diferentes fases. Tomaremos el dataset del Titanic pero, en este caso, los datos a trabajar se encuentran en formato json."
   ]
  },
  {
   "cell_type": "markdown",
   "metadata": {},
   "source": [
    "## 1.- Conocimiento de los datos\n",
    "El dataset está formado por los siguientes campos:\n",
    "* **Passenger Class**: Clase de billete comprado: primera, segunda o tercera clase  \n",
    "* **Name**: Nombre del pasajero  \n",
    "* **Sex**: Sexo del pasajero  \n",
    "* **Age**: Edad del pasajero  \n",
    "* **No of Siblings or Spouses on Board**: Número de hermanos o cónyugues a bordo  \n",
    "* **No of Parents or Children on Board**: Número de padres o hijos a bordo  \n",
    "* **Ticket Number**: Número de ticket  \n",
    "* **Passanger Fare**: Tarifa pagada  \n",
    "* **Cabin**: Cabina  \n",
    "* **Port of Embarkation**: Puerto de embarque  \n",
    "* **Life Boat**: Bote salvavidas  \n",
    "* **Survived**: Yes=Sobrevivió | No=No sobrevivió  \n",
    "\n",
    "[**Objetivo**] Hay algún patrón en la supervivencia? Se podría haber predecido?\n"
   ]
  },
  {
   "cell_type": "markdown",
   "metadata": {},
   "source": [
    "## 2.- Librerías y parámetros\n",
    "Importar librerías necesarias"
   ]
  },
  {
   "cell_type": "code",
   "execution_count": null,
   "metadata": {},
   "outputs": [],
   "source": []
  },
  {
   "cell_type": "markdown",
   "metadata": {},
   "source": [
    "## 3.- Carga de datos\n",
    "Cargar los datos del fichero en un dataframe"
   ]
  },
  {
   "cell_type": "code",
   "execution_count": null,
   "metadata": {},
   "outputs": [],
   "source": []
  },
  {
   "cell_type": "markdown",
   "metadata": {},
   "source": [
    "## 4.- Información y Limpieza\n",
    "Información general de los datos"
   ]
  },
  {
   "cell_type": "markdown",
   "metadata": {},
   "source": [
    "[**EX1**] Info general"
   ]
  },
  {
   "cell_type": "code",
   "execution_count": null,
   "metadata": {},
   "outputs": [],
   "source": []
  },
  {
   "cell_type": "markdown",
   "metadata": {},
   "source": [
    "[**EX2**] Nulos por columna? Podemos eliminar alguna columna? Por qué?"
   ]
  },
  {
   "cell_type": "code",
   "execution_count": null,
   "metadata": {},
   "outputs": [],
   "source": []
  },
  {
   "cell_type": "markdown",
   "metadata": {},
   "source": [
    "[**EX3**] Hay registros duplicados?"
   ]
  },
  {
   "cell_type": "code",
   "execution_count": null,
   "metadata": {},
   "outputs": [],
   "source": []
  },
  {
   "cell_type": "markdown",
   "metadata": {},
   "source": [
    "[**EX4**] Cuantos valores hay de cada columna?  \n",
    "https://www.geeksforgeeks.org/python-pandas-series-unique/?ref=gcse"
   ]
  },
  {
   "cell_type": "code",
   "execution_count": null,
   "metadata": {},
   "outputs": [],
   "source": []
  },
  {
   "cell_type": "markdown",
   "metadata": {},
   "source": [
    "[**EX5**] Qué valores hay para cada columna categórica?  \n",
    "Tip: https://pandas.pydata.org/docs/reference/api/pandas.Series.value_counts.html"
   ]
  },
  {
   "cell_type": "code",
   "execution_count": null,
   "metadata": {},
   "outputs": [],
   "source": []
  },
  {
   "cell_type": "markdown",
   "metadata": {},
   "source": [
    "[**EX6**] Hay alguna columna altamente dependediente con la variable objetivo a simple vista?"
   ]
  },
  {
   "cell_type": "code",
   "execution_count": null,
   "metadata": {},
   "outputs": [],
   "source": []
  },
  {
   "cell_type": "markdown",
   "metadata": {},
   "source": [
    "[**EX7**] Alguna columna identificadora que no aporte valor para la predicción?"
   ]
  },
  {
   "cell_type": "code",
   "execution_count": null,
   "metadata": {},
   "outputs": [],
   "source": []
  },
  {
   "cell_type": "markdown",
   "metadata": {},
   "source": [
    "[**EX8**] Duplica la columna Survived como tipo numérico  \n",
    "Tip: https://www.geeksforgeeks.org/how-to-replace-values-in-column-based-on-condition-in-pandas/"
   ]
  },
  {
   "cell_type": "code",
   "execution_count": null,
   "metadata": {},
   "outputs": [],
   "source": []
  },
  {
   "cell_type": "markdown",
   "metadata": {},
   "source": [
    "[**EX9**] Comprueba los datos tratados"
   ]
  },
  {
   "cell_type": "code",
   "execution_count": null,
   "metadata": {},
   "outputs": [],
   "source": []
  },
  {
   "cell_type": "markdown",
   "metadata": {},
   "source": [
    "## 5.- Análisis\n",
    "Análisis estadístico y exploratorio "
   ]
  },
  {
   "cell_type": "markdown",
   "metadata": {},
   "source": [
    "[**EX10**] Estadísticas de las columnas numéricas"
   ]
  },
  {
   "cell_type": "code",
   "execution_count": null,
   "metadata": {},
   "outputs": [],
   "source": []
  },
  {
   "cell_type": "markdown",
   "metadata": {},
   "source": [
    "[**EX11**] Matriz de correlación   \n",
    "Tip: https://www.geeksforgeeks.org/create-a-correlation-matrix-using-python/?ref=gcse"
   ]
  },
  {
   "cell_type": "code",
   "execution_count": null,
   "metadata": {},
   "outputs": [],
   "source": []
  },
  {
   "cell_type": "markdown",
   "metadata": {},
   "source": [
    "[**EX12**] Graficar una distribución de las columnas numéricas  \n",
    "Tip: Histograma en pandas o Distribución/Boxplot en Matplotlib o Seaborn"
   ]
  },
  {
   "cell_type": "code",
   "execution_count": null,
   "metadata": {},
   "outputs": [],
   "source": []
  },
  {
   "cell_type": "markdown",
   "metadata": {},
   "source": [
    "[**EX13**] Graficar una distribución de las columnas categóricas  \n",
    "Tip: https://seaborn.pydata.org/tutorial/categorical.html y https://seaborn.pydata.org/generated/seaborn.barplot.html#seaborn.barplot"
   ]
  },
  {
   "cell_type": "code",
   "execution_count": null,
   "metadata": {},
   "outputs": [],
   "source": []
  },
  {
   "cell_type": "markdown",
   "metadata": {},
   "source": [
    "[**EX14**] Convertir las variables categóricas a dummies y eliminar las innecesarias \n",
    "Tip: https://www.geeksforgeeks.org/how-to-create-dummy-variables-in-python-with-pandas/#:~:text=A%20dummy%20variable%20is%20a,python%20using%20get_dummies()%20method."
   ]
  },
  {
   "cell_type": "code",
   "execution_count": null,
   "metadata": {},
   "outputs": [],
   "source": []
  },
  {
   "cell_type": "markdown",
   "metadata": {},
   "source": [
    "[**Recomendable**] Guardar los datos ya limpios"
   ]
  },
  {
   "cell_type": "code",
   "execution_count": null,
   "metadata": {},
   "outputs": [],
   "source": []
  },
  {
   "cell_type": "markdown",
   "metadata": {},
   "source": [
    "## 6.- Datos entrenamiento y testeo\n",
    "Dividir los datos"
   ]
  },
  {
   "cell_type": "markdown",
   "metadata": {},
   "source": [
    "[**EX15**] Extraer la variable objetivo  \n"
   ]
  },
  {
   "cell_type": "code",
   "execution_count": null,
   "metadata": {},
   "outputs": [],
   "source": []
  },
  {
   "cell_type": "markdown",
   "metadata": {},
   "source": [
    "[**EX16**] Splitar los datos en entrenamiento y testeo"
   ]
  },
  {
   "cell_type": "code",
   "execution_count": null,
   "metadata": {},
   "outputs": [],
   "source": []
  },
  {
   "cell_type": "markdown",
   "metadata": {},
   "source": [
    "[**EX17**] Normalizar los datos  \n",
    "Tip: https://scikit-learn.org/stable/modules/preprocessing.html"
   ]
  },
  {
   "cell_type": "markdown",
   "metadata": {},
   "source": []
  },
  {
   "cell_type": "markdown",
   "metadata": {},
   "source": [
    "## 7.- Entrenamiento\n",
    "Entrenar el modelo"
   ]
  },
  {
   "cell_type": "markdown",
   "metadata": {},
   "source": [
    "[**EX18**] Usa una regresión logística"
   ]
  },
  {
   "cell_type": "code",
   "execution_count": null,
   "metadata": {},
   "outputs": [],
   "source": []
  },
  {
   "cell_type": "markdown",
   "metadata": {},
   "source": [
    "## 8.- Evaluación\n",
    "Evaluar el modelo"
   ]
  },
  {
   "cell_type": "markdown",
   "metadata": {},
   "source": [
    "[**EX19**] Normaliza X_test"
   ]
  },
  {
   "cell_type": "code",
   "execution_count": null,
   "metadata": {},
   "outputs": [],
   "source": []
  },
  {
   "cell_type": "markdown",
   "metadata": {},
   "source": [
    "[**EX20**] Aplica el modelo de regr. logística"
   ]
  },
  {
   "cell_type": "code",
   "execution_count": null,
   "metadata": {},
   "outputs": [],
   "source": []
  },
  {
   "cell_type": "markdown",
   "metadata": {},
   "source": [
    "[**EX21**] Medidas de AUC, Accuracy y Matriz de Confusion"
   ]
  },
  {
   "cell_type": "code",
   "execution_count": null,
   "metadata": {},
   "outputs": [],
   "source": []
  },
  {
   "cell_type": "markdown",
   "metadata": {},
   "source": [
    "## 9.- Conclusiones"
   ]
  },
  {
   "cell_type": "markdown",
   "metadata": {},
   "source": [
    "* Hay sobreajuste?\n",
    "* Es bueno el resultado obtenido?"
   ]
  }
 ],
 "metadata": {
  "kernelspec": {
   "display_name": "Python 3 (ipykernel)",
   "language": "python",
   "name": "python3"
  },
  "language_info": {
   "codemirror_mode": {
    "name": "ipython",
    "version": 3
   },
   "file_extension": ".py",
   "mimetype": "text/x-python",
   "name": "python",
   "nbconvert_exporter": "python",
   "pygments_lexer": "ipython3",
   "version": "3.9.7"
  }
 },
 "nbformat": 4,
 "nbformat_minor": 4
}
