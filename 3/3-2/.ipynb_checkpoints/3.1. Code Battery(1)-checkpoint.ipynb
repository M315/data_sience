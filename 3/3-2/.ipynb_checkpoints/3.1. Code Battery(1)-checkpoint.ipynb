{
 "cells": [
  {
   "cell_type": "markdown",
   "metadata": {},
   "source": [
    "### Empezamos por poner en práctica los conocimientos de Python adquiridos hasta el momento a través de una batería de ejercicios:"
   ]
  },
  {
   "cell_type": "markdown",
   "metadata": {},
   "source": [
    "1.\tElabora una función que devuelva el valor del menor de dos números o cero si ocurre el caso en que ambos son iguales."
   ]
  },
  {
   "cell_type": "code",
   "execution_count": 5,
   "metadata": {},
   "outputs": [
    {
     "name": "stdout",
     "output_type": "stream",
     "text": [
      "10\n"
     ]
    }
   ],
   "source": [
    "def busca_num_menor (num1, num2):\n",
    "\n",
    "    if num1<num2:\n",
    "        return num1\n",
    "    elif num2<num1:\n",
    "        return num2\n",
    "    else:\n",
    "        return 0\n",
    "\n",
    "num1 = 30\n",
    "num2 = 10\n",
    "print (busca_num_menor(num1,num2))"
   ]
  },
  {
   "cell_type": "markdown",
   "metadata": {},
   "source": [
    "2.\tDesarrolla una función que sirva para determinar si un individuo es mayor de edad o no en EEUU a partir de su año de nacimiento."
   ]
  },
  {
   "cell_type": "code",
   "execution_count": 13,
   "metadata": {},
   "outputs": [
    {
     "data": {
      "text/plain": [
       "False"
      ]
     },
     "execution_count": 13,
     "metadata": {},
     "output_type": "execute_result"
    }
   ],
   "source": [
    "# importing date class from datetime module\n",
    "from datetime import date\n",
    "\n",
    "def es_mayor_edad (año_persona, limite_mayor_edad=18):\n",
    "\n",
    "    fecha_hoy = date.today()\n",
    "    if (fecha_hoy.year-año_persona) >= limite_mayor_edad:\n",
    "        return True\n",
    "    else:\n",
    "        return False\n",
    "    \n",
    "\n",
    "es_mayor_edad(2020)"
   ]
  },
  {
   "cell_type": "markdown",
   "metadata": {},
   "source": [
    "3.\tPrograma una función que permita identificar si una persona tiene una altura superior a la media de los Países Bajos en función del sexo (mujeres 168,7cm y hombres 182,5cm)."
   ]
  },
  {
   "cell_type": "code",
   "execution_count": 18,
   "metadata": {},
   "outputs": [
    {
     "data": {
      "text/plain": [
       "True"
      ]
     },
     "execution_count": 18,
     "metadata": {},
     "output_type": "execute_result"
    }
   ],
   "source": [
    "def superior_a_la_media (altura, sexo, media_hombres=182.5, media_mujeres=168.7):\n",
    "    \"\"\" Identifica si la altura de persona según su sexo es superior a la media o %notebook\n",
    "    Input: . altura: Altura de la persona\n",
    "           . sexo: 'Hombre' o 'Mujer'\n",
    "           . media_hombres: Por defecto la altura media en Paises Bajos\n",
    "           . media_mujeres: Por defecto la altura media en Paises Bajos\n",
    "    Output: Cierto si es superior a la media. Sino Falso\n",
    "    \"\"\"\n",
    "    \n",
    "    if sexo == 'Hombre':\n",
    "        if altura > media_hombres:\n",
    "            superior = True\n",
    "        else:\n",
    "            superior = False\n",
    "    else:\n",
    "        if altura > media_mujeres:\n",
    "            superior = True\n",
    "        else:\n",
    "            superior = False\n",
    "    \n",
    "    return superior\n",
    "\n",
    "superior_a_la_media(190, 'Mujer')\n",
    "        "
   ]
  },
  {
   "cell_type": "markdown",
   "metadata": {},
   "source": [
    "4.\tDespliega una función que, a partir de una temperatura expresada en grados Fahrenheit, sea capaz retornar la misma temperatura en grados centígrados."
   ]
  },
  {
   "cell_type": "code",
   "execution_count": 23,
   "metadata": {},
   "outputs": [
    {
     "data": {
      "text/plain": [
       "26.666666666666668"
      ]
     },
     "execution_count": 23,
     "metadata": {},
     "output_type": "execute_result"
    }
   ],
   "source": [
    "def farenheit_to_centigrados(temp):\n",
    "    \n",
    "    celsius = (temp-32)*5/9\n",
    "    return celsius\n",
    "\n",
    "farenheit_to_centigrados(80)\n"
   ]
  },
  {
   "cell_type": "markdown",
   "metadata": {},
   "source": [
    "5.\tEscribe una función que determine si una palabra es un palíndromo."
   ]
  },
  {
   "cell_type": "code",
   "execution_count": 33,
   "metadata": {},
   "outputs": [
    {
     "data": {
      "text/plain": [
       "True"
      ]
     },
     "execution_count": 33,
     "metadata": {},
     "output_type": "execute_result"
    }
   ],
   "source": [
    "def es_palindromo (palabra):\n",
    "    \n",
    "    len_palabra = len(palabra)\n",
    "    \n",
    "    #bucle de comparación entre primeros y últimos caracteres. Se recorre hasta la mitad de la palabra\n",
    "    for i in range(0,int(len_palabra/2),1):\n",
    "        if palabra[i]==palabra[len_palabra-i-1]:     #se continuan manteniendo caracteres iguales => Continuamos\n",
    "            es_igual = True\n",
    "        else:\n",
    "            es_igual = False   #se encuentran dos caracteres distintos => No Palíndromo\n",
    "            break\n",
    "            \n",
    "    return es_igual\n",
    "\n",
    "es_palindromo('paoap')"
   ]
  },
  {
   "cell_type": "code",
   "execution_count": 4,
   "metadata": {},
   "outputs": [
    {
     "data": {
      "text/plain": [
       "True"
      ]
     },
     "execution_count": 4,
     "metadata": {},
     "output_type": "execute_result"
    }
   ],
   "source": [
    "def es_palindromo_advanced (palabra):\n",
    "    \n",
    "    return palabra==palabra[::-1]  #Comparación de la palabra con la misma al revés\n",
    "    \n",
    "es_palindromo_advanced('paoap')"
   ]
  },
  {
   "cell_type": "markdown",
   "metadata": {},
   "source": [
    "6.\tCrea una función que asegure que todas aquellas letras posteriores a un punto sean mayúsculas. Es decir, en caso de que después de un punto haya una letra minúscula, está debería ser transformada a mayúscula."
   ]
  },
  {
   "cell_type": "code",
   "execution_count": 1,
   "metadata": {},
   "outputs": [
    {
     "data": {
      "text/plain": [
       "'hola.      Hola. Hola.Hola'"
      ]
     },
     "execution_count": 1,
     "metadata": {},
     "output_type": "execute_result"
    }
   ],
   "source": [
    "def mayusculiza (texto):\n",
    "        \n",
    "    hay_punto = False\n",
    "    texto_may = ''    #Generación del texto convertido\n",
    "    \n",
    "    for char in texto:\n",
    "        \n",
    "        if char=='.':\n",
    "            hay_punto = True\n",
    "            texto_may += char\n",
    "        else:\n",
    "            if hay_punto and char.lower()>='a' and char.lower()<='z':\n",
    "                texto_may += char.upper()\n",
    "                hay_punto = False\n",
    "            else:\n",
    "                texto_may += char\n",
    "                \n",
    "                \n",
    "    return texto_may\n",
    "\n",
    "mayusculiza('hola.      Hola. hola.hola')"
   ]
  },
  {
   "cell_type": "markdown",
   "metadata": {},
   "source": [
    "7.\tDesarrolla un programa que devuelva una lista que contenga todos los números del 1 a 100 que sean múltiplos de 3."
   ]
  },
  {
   "cell_type": "code",
   "execution_count": 44,
   "metadata": {},
   "outputs": [
    {
     "data": {
      "text/plain": [
       "[3,\n",
       " 6,\n",
       " 9,\n",
       " 12,\n",
       " 15,\n",
       " 18,\n",
       " 21,\n",
       " 24,\n",
       " 27,\n",
       " 30,\n",
       " 33,\n",
       " 36,\n",
       " 39,\n",
       " 42,\n",
       " 45,\n",
       " 48,\n",
       " 51,\n",
       " 54,\n",
       " 57,\n",
       " 60,\n",
       " 63,\n",
       " 66,\n",
       " 69,\n",
       " 72,\n",
       " 75,\n",
       " 78,\n",
       " 81,\n",
       " 84,\n",
       " 87,\n",
       " 90,\n",
       " 93,\n",
       " 96,\n",
       " 99]"
      ]
     },
     "execution_count": 44,
     "metadata": {},
     "output_type": "execute_result"
    }
   ],
   "source": [
    "def get_multiples (min=1, max=100, multiple=3):\n",
    "    \n",
    "    lista_nums = []\n",
    "    \n",
    "    for num in range (min,max,1):\n",
    "        if (num%multiple)==0:\n",
    "            lista_nums.append(num)\n",
    "            \n",
    "    return lista_nums\n",
    "\n",
    "get_multiples()"
   ]
  },
  {
   "cell_type": "markdown",
   "metadata": {},
   "source": [
    "8.\tPrograma una función que reciba una cadena de caracteres con una frase de más de 100 palabras y menos de 1000 y devuelva un diccionario que contenga como claves cada una de las distintas palabras y como valores el número de veces que ocurren."
   ]
  },
  {
   "cell_type": "code",
   "execution_count": 55,
   "metadata": {},
   "outputs": [
    {
     "data": {
      "text/plain": [
       "{'gdf': 1, 'gdfgdf': 1, 'gdfdgf': 1, 'ttttt': 1, 'ffff': 2, 'rrr': 1}"
      ]
     },
     "execution_count": 55,
     "metadata": {},
     "output_type": "execute_result"
    }
   ],
   "source": [
    "def dict_palabras(texto):\n",
    "    \n",
    "    lista_palabras = texto.split()\n",
    "    dic_veces_palabra = {}\n",
    "    \n",
    "    for palabra in lista_palabras:\n",
    "        \n",
    "        num_veces_palabra = dic_veces_palabra.get(palabra, 0)\n",
    "        dic_veces_palabra[palabra] = num_veces_palabra+1\n",
    "        \n",
    "    return dic_veces_palabra\n",
    "        \n",
    "dict_palabras('gdf gdfgdf gdfdgf ttttt ffff rrr ffff')"
   ]
  },
  {
   "cell_type": "markdown",
   "metadata": {},
   "source": [
    "9.\tElabora una función que sea capaz de detectar si una cadena de caracteres contiene las 3 primeras letras del abecedario (“a”, “b”, “c”), como sucede con la palabra “abecedario”. Modifica la función para que detecte únicamente aquellas cadenas que contengan una sola vez estas tres letras. En este segundo caso, el resultado de la función debería ser False para la entrada “abecedario” dado que la letra “a” aparece en dos ocasiones."
   ]
  },
  {
   "cell_type": "code",
   "execution_count": 57,
   "metadata": {},
   "outputs": [
    {
     "data": {
      "text/plain": [
       "False"
      ]
     },
     "execution_count": 57,
     "metadata": {},
     "output_type": "execute_result"
    }
   ],
   "source": [
    "def contiene_abc(texto):\n",
    "    \n",
    "    return ('a' in texto) and ('b' in texto) and ('c' in texto)  \n",
    "\n",
    "contiene_abc ('aecedario')    "
   ]
  },
  {
   "cell_type": "code",
   "execution_count": 30,
   "metadata": {},
   "outputs": [
    {
     "data": {
      "text/plain": [
       "False"
      ]
     },
     "execution_count": 30,
     "metadata": {},
     "output_type": "execute_result"
    }
   ],
   "source": [
    "import numpy as np\n",
    "\n",
    "def contiene_letras_una_vez(texto, caracteres='abc'):\n",
    "    \n",
    "    lista_chars = [ch for ch in caracteres]            #Convertimos el string de caracteres a buscar en una lista\n",
    "    dict_chars = {}                                    #Diccionario para llevar el cómputo de apariciones de caracteres\n",
    "    \n",
    "    for char in texto:                                 #Para cada caracter del texto\n",
    "        if char in lista_chars:                        #Está en caracteres?\n",
    "            num_veces_char = dict_chars.get(char, 0)\n",
    "            dict_chars[char] = num_veces_char+1        #Se aumenta la aparición de ch en 1 más\n",
    "            \n",
    "    \n",
    "    list_values = list(dict_chars.values())\n",
    "    # Si han aparecido en texto todos los caracteres una sola vez el producto de sus valores es 1   \n",
    "    return np.prod(list_values)==1 \\\n",
    "           and len(list_values)==len(lista_chars)\n",
    "\n",
    "\n",
    "contiene_letras_una_vez('abcffdfdfdfdfdc')           \n",
    "        \n",
    "    "
   ]
  },
  {
   "cell_type": "code",
   "execution_count": 24,
   "metadata": {},
   "outputs": [
    {
     "data": {
      "text/plain": [
       "False"
      ]
     },
     "execution_count": 24,
     "metadata": {},
     "output_type": "execute_result"
    }
   ],
   "source": [
    "def contiene_letras_una_vez_advanced(texto, caracteres='abc'):\n",
    "    \n",
    "    lista_chars = [ch for ch in caracteres]\n",
    "        \n",
    "    for ch in lista_chars:\n",
    "        num_veces = texto.count(ch)  #Contamos cuantas veces aparece ch en el texto dado\n",
    "        if num_veces > 1:\n",
    "            return False\n",
    "        \n",
    "    return True\n",
    "        \n",
    "contiene_letras_una_vez_advanced('abcffdfdfdfdfdc')           \n"
   ]
  },
  {
   "cell_type": "markdown",
   "metadata": {},
   "source": [
    "10.\tCrea una función que codifique cada una de las vocales siguiendo esta lógica: “a”=“6”, ”e”=“9”, “i”=“!”, “o”=”0”, “u”=“#”. Todas las consonantes deben ser codificadas atribuyendo la tercera de las letras consonantes que la siguen en el orden del abecedario (en el caso de las 3 últimas letras del abecedario se debería recurrir a las primeras del abecedario, por ejemplo, la “z” pasaría a ser una “d”).  "
   ]
  },
  {
   "cell_type": "code",
   "execution_count": 68,
   "metadata": {},
   "outputs": [],
   "source": [
    "def crea_codigo ():\n",
    "\n",
    "    #Diccionario de vocales\n",
    "    dict_vocales = {'a': '6', 'e': '9', 'i': '!', 'o': '0', 'u': '#'}\n",
    "    \n",
    "    #Diccionario de consonantes\n",
    "    dict_consonantes = {}\n",
    "\n",
    "    for ch in range(ord('a'),ord('z')+1,1):\n",
    "\n",
    "        if chr(ch) not in dict_vocales:\n",
    "            #Consonantes\n",
    "            if chr(ch)=='b':\n",
    "                dict_consonantes[chr(ch)] = 'f'         #La b por una f\n",
    "            elif chr(ch)=='x':\n",
    "                dict_consonantes[chr(ch)] = 'b'         #La x por una b\n",
    "            else:\n",
    "                if chr(ord(dict_consonantes[last_key])+1) not in dict_vocales:\n",
    "                    #El siguiente caracter del último caracter codificado no es una vocal => +1\n",
    "                    dict_consonantes[chr(ch)] = chr(ord(dict_consonantes[last_key])+1)\n",
    "                else:\n",
    "                    #El siguiente caracter del último caracter codificado es una vocal => +2\n",
    "                    dict_consonantes[chr(ch)] = chr(ord(dict_consonantes[last_key])+2)\n",
    "\n",
    "            last_key = chr(ch)\n",
    "            \n",
    "    return dict_vocales | dict_consonantes   #Python 3.9\n",
    "   "
   ]
  },
  {
   "cell_type": "code",
   "execution_count": 69,
   "metadata": {},
   "outputs": [],
   "source": [
    "def codifica (texto, codigo):\n",
    "    \"\"\" Codifica un texto según código. \n",
    "    Si no aparece alguno de los caracteres en codigo, no aplica ningún cambio\n",
    "    Input: texto: texto a codificar\n",
    "           codigo: diccionario de conversión de cada caracter\n",
    "    Output: texto codificado\n",
    "    \"\"\"\n",
    "    \n",
    "    texto_codificado = ''\n",
    "    \n",
    "    for ch in texto:\n",
    "        texto_codificado += codigo.get(ch,ch) #Si el carácter está en el código se devuelve su código, \n",
    "                                              #sino se deja el mismo caracter original\n",
    "        \n",
    "    return texto_codificado\n"
   ]
  },
  {
   "cell_type": "code",
   "execution_count": 78,
   "metadata": {},
   "outputs": [
    {
     "data": {
      "text/plain": [
       "'l0p6 mlnmlmn nmnplp KOJOJO bcd'"
      ]
     },
     "execution_count": 78,
     "metadata": {},
     "output_type": "execute_result"
    }
   ],
   "source": [
    "dict_codigo = crea_codigo()\n",
    "codifica('hola jhkjhjk kjklhl KOJOJO xyz',dict_codigo)"
   ]
  },
  {
   "cell_type": "markdown",
   "metadata": {},
   "source": [
    "11.\tDiseña una función que procese un array de 1.000.001 números enteros. En este array deben estar contenidos todos los números que van del 1 a 1.000.000 y, dado que la longitud es 1.000.001, debe haber uno repetido. El objetivo de la función consiste en filtrar aquel número que está repetido."
   ]
  },
  {
   "cell_type": "code",
   "execution_count": 120,
   "metadata": {},
   "outputs": [],
   "source": [
    "import numpy.random as rd\n",
    "\n",
    "def crea_array_enteros_con_repe (min=1, max=1000):\n",
    "    \"\"\" Crea un array de enteros de min a max repitiendo uno de los valores\"\"\"\n",
    "    \n",
    "    #Crea array de enteros de min a max\n",
    "    list_nums = list(range(min,max+1))\n",
    "\n",
    "    #Añade uno de los valores\n",
    "    list_nums.append(rd.randint(min,max+1))\n",
    "\n",
    "    #Se mezcla\n",
    "    rd.shuffle(list_nums)\n",
    "    \n",
    "    return list_nums\n"
   ]
  },
  {
   "cell_type": "code",
   "execution_count": 121,
   "metadata": {},
   "outputs": [
    {
     "data": {
      "text/plain": [
       "568"
      ]
     },
     "execution_count": 121,
     "metadata": {},
     "output_type": "execute_result"
    }
   ],
   "source": [
    "import pandas as pd\n",
    "\n",
    "def filtra_num_repe (list_nums):\n",
    "   \n",
    "    df = pd.DataFrame(list_nums, columns=['Valor'])\n",
    "    \n",
    "    return df.value_counts(sort=True).index[0][0]\n",
    "    \n",
    "    \n",
    "filtra_num_repe(crea_array_enteros_con_repe())"
   ]
  },
  {
   "cell_type": "markdown",
   "metadata": {},
   "source": [
    "12.\tEscribe una función que reciba como argumento un string que únicamente contenga letras mayúsculas. Esta función debe contar el mínimo número de caracteres que es necesario eliminar para que cada una de las letras ocurra un número distinto de ocasiones. En otras palabras, se espera que la función retorne el menor número de caracteres que se ha necesitado eliminar para que el string resultante no presente dos letras que ocurran el mismo número de veces. Solo debemos preocuparnos por aquellas letras de la cadena de caracteres final que aparezcan al menos en una ocasión, es decir, puede haber más de una letra cuyas ocurrencias hayan sido eliminadas por completo. Por ejemplo:\n",
    "    - Habiendo recibido el string “AAA” la función debe retornar 0 debido a que solo aparece un tipo de letra.\n",
    "    - Habiendo recibido el string “AAB” la función debe retornar 0 ya que no es necesario deshacerse de ningún carácter.\n",
    "    - Habiendo recibido el string “XXYYZZZ” la función debe retornar 1 porque hay letras que aparecen el mismo número de veces y es suficiente eliminar una letra para que se cumpla condición.\n",
    "    - Habiendo recibido el string “CIENTIFICA” la función debe retornar 4. Para este string ocurre el siguiente conteo inicial: “C”=2, “I”=3, “E”=1, “N”=1, “T”=1, “F”=1, “A”=1. En este caso, hay 5 letras que aparecen el mismo número de ocasiones y basta con eliminar 4 para que se cumpla que no haya dos o más letras que ocurran un mismo número de veces.\n"
   ]
  },
  {
   "cell_type": "code",
   "execution_count": 124,
   "metadata": {},
   "outputs": [
    {
     "data": {
      "text/plain": [
       "False"
      ]
     },
     "execution_count": 124,
     "metadata": {},
     "output_type": "execute_result"
    }
   ],
   "source": [
    "def texto_solo_mayusculas (texto):\n",
    "    \"\"\" Para un texto, devuelve cierto si todo el texto es en mayúsculas\n",
    "    \"\"\"\n",
    "    \n",
    "    for ch in range(ord('a'),ord('z')+1,1):\n",
    "        \n",
    "        if texto.find(chr(ch))>0:\n",
    "            return False\n",
    "        \n",
    "    return True\n",
    "\n",
    "texto_solo_mayusculas('ASJKJdKDJASKFJAKFAFH')"
   ]
  },
  {
   "cell_type": "code",
   "execution_count": 149,
   "metadata": {},
   "outputs": [
    {
     "name": "stdout",
     "output_type": "stream",
     "text": [
      "{'a': 4, 'b': 2, 'd': 2}\n",
      "{'4': 1, '2': 2}\n"
     ]
    },
    {
     "data": {
      "text/plain": [
       "1"
      ]
     },
     "execution_count": 149,
     "metadata": {},
     "output_type": "execute_result"
    }
   ],
   "source": [
    "def num_caracteres_eliminar (texto):\n",
    "    \"\"\"Para un texto en mayusculas indica numero de letras a eliminar para tener una única\n",
    "    letra por ocurrencia\n",
    "    Input: .texto\n",
    "    Output: -1 si el texto contiene una minúscula como mínimo\n",
    "            número de letras a eliminar\n",
    "    \"\"\"\n",
    "\n",
    "    if not texto_solo_mayusculas (texto):\n",
    "        return -1\n",
    "    \n",
    "    dict_caracteres = {}\n",
    "\n",
    "    for ch in texto:\n",
    "        dict_caracteres[ch] = dict_caracteres.get(ch,0)+1\n",
    "\n",
    "    print(dict_caracteres)\n",
    "\n",
    "    dict_ocurrencias = {}\n",
    "    for key in dict_caracteres:\n",
    "        dict_ocurrencias[str(dict_caracteres[key])] = dict_ocurrencias.get(str(dict_caracteres[key]),0)+1\n",
    "\n",
    "    print(dict_ocurrencias)\n",
    "\n",
    "    num_a_eliminar = 0\n",
    "    for key in dict_ocurrencias:\n",
    "        if dict_ocurrencias[key]>1:\n",
    "            num_a_eliminar += int(dict_ocurrencias[key])-1\n",
    "\n",
    "    return num_a_eliminar"
   ]
  }
 ],
 "metadata": {
  "kernelspec": {
   "display_name": "Python 3 (ipykernel)",
   "language": "python",
   "name": "python3"
  },
  "language_info": {
   "codemirror_mode": {
    "name": "ipython",
    "version": 3
   },
   "file_extension": ".py",
   "mimetype": "text/x-python",
   "name": "python",
   "nbconvert_exporter": "python",
   "pygments_lexer": "ipython3",
   "version": "3.9.7"
  }
 },
 "nbformat": 4,
 "nbformat_minor": 4
}
