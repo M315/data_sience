{
 "cells": [
  {
   "cell_type": "markdown",
   "metadata": {},
   "source": [
    "# Titanic - Supervised Classification\n",
    "### Ejercicio 3.2\n",
    "\n",
    "Pondremos en práctica los conocimientos aprendidos hasta ahora desarrollando un modelo predictivo a través de sus diferentes fases. Tomaremos el dataset del Titanic pero, en este caso, los datos a trabajar se encuentran en formato json."
   ]
  },
  {
   "cell_type": "markdown",
   "metadata": {},
   "source": [
    "## 1.- Conocimiento de los datos\n",
    "El dataset está formado por los siguientes campos:\n",
    "* **Passenger Class**: Clase de billete comprado: primera, segunda o tercera clase  \n",
    "* **Name**: Nombre del pasajero  \n",
    "* **Sex**: Sexo del pasajero  \n",
    "* **Age**: Edad del pasajero  \n",
    "* **No of Siblings or Spouses on Board**: Número de hermanos o cónyugues a bordo  \n",
    "* **No of Parents or Children on Board**: Número de padres o hijos a bordo  \n",
    "* **Ticket Number**: Número de ticket  \n",
    "* **Passanger Fare**: Tarifa pagada  \n",
    "* **Cabin**: Cabina  \n",
    "* **Port of Embarkation**: Puerto de embarque  \n",
    "* **Life Boat**: Bote salvavidas  \n",
    "* **Survived**: Yes=Sobrevivió | No=No sobrevivió  \n",
    "\n",
    "[**Objetivo**] Hay algún patrón en la supervivencia? Se podría haber predecido?\n"
   ]
  },
  {
   "cell_type": "markdown",
   "metadata": {},
   "source": [
    "## 2.- Librerías y parámetros\n",
    "Importar librerías necesarias"
   ]
  },
  {
   "cell_type": "code",
   "execution_count": 98,
   "metadata": {},
   "outputs": [],
   "source": [
    "import pandas as pd\n",
    "\n",
    "from matplotlib import pyplot as plt\n",
    "import seaborn as sns\n",
    "\n",
    "from sklearn.preprocessing import StandardScaler\n",
    "from sklearn.model_selection import train_test_split\n",
    "from sklearn.linear_model import LogisticRegression\n",
    "\n",
    "from sklearn import metrics\n",
    "from sklearn.feature_selection import RFE\n",
    "\n",
    "import pickle"
   ]
  },
  {
   "cell_type": "code",
   "execution_count": 5,
   "metadata": {},
   "outputs": [],
   "source": [
    "PATH = 'data/'\n",
    "FILE_NAME = '3_2_titanic.json'"
   ]
  },
  {
   "cell_type": "markdown",
   "metadata": {},
   "source": [
    "## 3.- Carga de datos\n",
    "Cargar los datos del fichero en un dataframe"
   ]
  },
  {
   "cell_type": "code",
   "execution_count": 126,
   "metadata": {},
   "outputs": [],
   "source": [
    "# Hacemos uso de la función read_json() que incorpora la librería de Pandas para cargar los datos en un dataframe.\n",
    "df = pd.read_json(PATH+FILE_NAME)"
   ]
  },
  {
   "cell_type": "code",
   "execution_count": 7,
   "metadata": {},
   "outputs": [
    {
     "data": {
      "text/html": [
       "<div>\n",
       "<style scoped>\n",
       "    .dataframe tbody tr th:only-of-type {\n",
       "        vertical-align: middle;\n",
       "    }\n",
       "\n",
       "    .dataframe tbody tr th {\n",
       "        vertical-align: top;\n",
       "    }\n",
       "\n",
       "    .dataframe thead th {\n",
       "        text-align: right;\n",
       "    }\n",
       "</style>\n",
       "<table border=\"1\" class=\"dataframe\">\n",
       "  <thead>\n",
       "    <tr style=\"text-align: right;\">\n",
       "      <th></th>\n",
       "      <th>Passenger Class</th>\n",
       "      <th>Name</th>\n",
       "      <th>Sex</th>\n",
       "      <th>Age</th>\n",
       "      <th>No of Siblings or Spouses on Board</th>\n",
       "      <th>No of Parents or Children on Board</th>\n",
       "      <th>Ticket Number</th>\n",
       "      <th>Passenger Fare</th>\n",
       "      <th>Cabin</th>\n",
       "      <th>Port of Embarkation</th>\n",
       "      <th>Life Boat</th>\n",
       "      <th>Survived</th>\n",
       "    </tr>\n",
       "  </thead>\n",
       "  <tbody>\n",
       "    <tr>\n",
       "      <th>0</th>\n",
       "      <td>First</td>\n",
       "      <td>Allen, Miss. Elisabeth Walton</td>\n",
       "      <td>Female</td>\n",
       "      <td>29.0</td>\n",
       "      <td>0</td>\n",
       "      <td>0</td>\n",
       "      <td>24160</td>\n",
       "      <td>211.3</td>\n",
       "      <td>B5</td>\n",
       "      <td>Southampton</td>\n",
       "      <td>2</td>\n",
       "      <td>Yes</td>\n",
       "    </tr>\n",
       "    <tr>\n",
       "      <th>1</th>\n",
       "      <td>First</td>\n",
       "      <td>Allison, Master. Hudson Trevor</td>\n",
       "      <td>Male</td>\n",
       "      <td>0.9</td>\n",
       "      <td>1</td>\n",
       "      <td>2</td>\n",
       "      <td>113781</td>\n",
       "      <td>151.6</td>\n",
       "      <td>C22 C26</td>\n",
       "      <td>Southampton</td>\n",
       "      <td>11</td>\n",
       "      <td>Yes</td>\n",
       "    </tr>\n",
       "    <tr>\n",
       "      <th>2</th>\n",
       "      <td>First</td>\n",
       "      <td>Allison, Miss. Helen Loraine</td>\n",
       "      <td>Female</td>\n",
       "      <td>2.0</td>\n",
       "      <td>1</td>\n",
       "      <td>2</td>\n",
       "      <td>113781</td>\n",
       "      <td>151.6</td>\n",
       "      <td>C22 C26</td>\n",
       "      <td>Southampton</td>\n",
       "      <td>None</td>\n",
       "      <td>No</td>\n",
       "    </tr>\n",
       "    <tr>\n",
       "      <th>3</th>\n",
       "      <td>First</td>\n",
       "      <td>Allison, Mr. Hudson Joshua Creighton</td>\n",
       "      <td>Male</td>\n",
       "      <td>30.0</td>\n",
       "      <td>1</td>\n",
       "      <td>2</td>\n",
       "      <td>113781</td>\n",
       "      <td>151.6</td>\n",
       "      <td>C22 C26</td>\n",
       "      <td>Southampton</td>\n",
       "      <td>None</td>\n",
       "      <td>No</td>\n",
       "    </tr>\n",
       "    <tr>\n",
       "      <th>4</th>\n",
       "      <td>First</td>\n",
       "      <td>Allison, Mrs. Hudson J C (Bessie Waldo Daniels)</td>\n",
       "      <td>Female</td>\n",
       "      <td>25.0</td>\n",
       "      <td>1</td>\n",
       "      <td>2</td>\n",
       "      <td>113781</td>\n",
       "      <td>151.6</td>\n",
       "      <td>C22 C26</td>\n",
       "      <td>Southampton</td>\n",
       "      <td>None</td>\n",
       "      <td>No</td>\n",
       "    </tr>\n",
       "  </tbody>\n",
       "</table>\n",
       "</div>"
      ],
      "text/plain": [
       "  Passenger Class                                             Name     Sex  \\\n",
       "0           First                    Allen, Miss. Elisabeth Walton  Female   \n",
       "1           First                   Allison, Master. Hudson Trevor    Male   \n",
       "2           First                     Allison, Miss. Helen Loraine  Female   \n",
       "3           First             Allison, Mr. Hudson Joshua Creighton    Male   \n",
       "4           First  Allison, Mrs. Hudson J C (Bessie Waldo Daniels)  Female   \n",
       "\n",
       "    Age  No of Siblings or Spouses on Board  \\\n",
       "0  29.0                                   0   \n",
       "1   0.9                                   1   \n",
       "2   2.0                                   1   \n",
       "3  30.0                                   1   \n",
       "4  25.0                                   1   \n",
       "\n",
       "   No of Parents or Children on Board Ticket Number  Passenger Fare    Cabin  \\\n",
       "0                                   0         24160           211.3       B5   \n",
       "1                                   2        113781           151.6  C22 C26   \n",
       "2                                   2        113781           151.6  C22 C26   \n",
       "3                                   2        113781           151.6  C22 C26   \n",
       "4                                   2        113781           151.6  C22 C26   \n",
       "\n",
       "  Port of Embarkation Life Boat Survived  \n",
       "0         Southampton         2      Yes  \n",
       "1         Southampton        11      Yes  \n",
       "2         Southampton      None       No  \n",
       "3         Southampton      None       No  \n",
       "4         Southampton      None       No  "
      ]
     },
     "execution_count": 7,
     "metadata": {},
     "output_type": "execute_result"
    }
   ],
   "source": [
    "# Comprobamos que los datos han sido cargados correctammente a través de la función head().\n",
    "# Esta devuelve, por defecto, los 5 primeros registros del dataframe.\n",
    "# Si le pasamos un número entero como argumento nos devolverá los primeros n registros.\n",
    "# Observamos que aparecen ya en estas primeras 5 líneas valores faltantes para la columna \"Life Boat\".\n",
    "# Esto tiene sentido en tanto en cuanto entendemos que mantienen una relación directa con la supervivencia del pasajero.\n",
    "df.head()"
   ]
  },
  {
   "cell_type": "code",
   "execution_count": 8,
   "metadata": {},
   "outputs": [
    {
     "data": {
      "text/html": [
       "<div>\n",
       "<style scoped>\n",
       "    .dataframe tbody tr th:only-of-type {\n",
       "        vertical-align: middle;\n",
       "    }\n",
       "\n",
       "    .dataframe tbody tr th {\n",
       "        vertical-align: top;\n",
       "    }\n",
       "\n",
       "    .dataframe thead th {\n",
       "        text-align: right;\n",
       "    }\n",
       "</style>\n",
       "<table border=\"1\" class=\"dataframe\">\n",
       "  <thead>\n",
       "    <tr style=\"text-align: right;\">\n",
       "      <th></th>\n",
       "      <th>Passenger Class</th>\n",
       "      <th>Name</th>\n",
       "      <th>Sex</th>\n",
       "      <th>Age</th>\n",
       "      <th>No of Siblings or Spouses on Board</th>\n",
       "      <th>No of Parents or Children on Board</th>\n",
       "      <th>Ticket Number</th>\n",
       "      <th>Passenger Fare</th>\n",
       "      <th>Cabin</th>\n",
       "      <th>Port of Embarkation</th>\n",
       "      <th>Life Boat</th>\n",
       "      <th>Survived</th>\n",
       "    </tr>\n",
       "  </thead>\n",
       "  <tbody>\n",
       "    <tr>\n",
       "      <th>1304</th>\n",
       "      <td>Third</td>\n",
       "      <td>Zabour, Miss. Hileni</td>\n",
       "      <td>Female</td>\n",
       "      <td>14.5</td>\n",
       "      <td>1</td>\n",
       "      <td>0</td>\n",
       "      <td>2665</td>\n",
       "      <td>14.5</td>\n",
       "      <td>None</td>\n",
       "      <td>Cherbourg</td>\n",
       "      <td>None</td>\n",
       "      <td>No</td>\n",
       "    </tr>\n",
       "    <tr>\n",
       "      <th>1305</th>\n",
       "      <td>Third</td>\n",
       "      <td>Zabour, Miss. Thaminen</td>\n",
       "      <td>Female</td>\n",
       "      <td>NaN</td>\n",
       "      <td>1</td>\n",
       "      <td>0</td>\n",
       "      <td>2665</td>\n",
       "      <td>14.5</td>\n",
       "      <td>None</td>\n",
       "      <td>Cherbourg</td>\n",
       "      <td>None</td>\n",
       "      <td>No</td>\n",
       "    </tr>\n",
       "    <tr>\n",
       "      <th>1306</th>\n",
       "      <td>Third</td>\n",
       "      <td>Zakarian, Mr. Mapriededer</td>\n",
       "      <td>Male</td>\n",
       "      <td>26.5</td>\n",
       "      <td>0</td>\n",
       "      <td>0</td>\n",
       "      <td>2656</td>\n",
       "      <td>7.2</td>\n",
       "      <td>None</td>\n",
       "      <td>Cherbourg</td>\n",
       "      <td>None</td>\n",
       "      <td>No</td>\n",
       "    </tr>\n",
       "    <tr>\n",
       "      <th>1307</th>\n",
       "      <td>Third</td>\n",
       "      <td>Zakarian, Mr. Ortin</td>\n",
       "      <td>Male</td>\n",
       "      <td>27.0</td>\n",
       "      <td>0</td>\n",
       "      <td>0</td>\n",
       "      <td>2670</td>\n",
       "      <td>7.2</td>\n",
       "      <td>None</td>\n",
       "      <td>Cherbourg</td>\n",
       "      <td>None</td>\n",
       "      <td>No</td>\n",
       "    </tr>\n",
       "    <tr>\n",
       "      <th>1308</th>\n",
       "      <td>Third</td>\n",
       "      <td>Zimmerman, Mr. Leo</td>\n",
       "      <td>Male</td>\n",
       "      <td>29.0</td>\n",
       "      <td>0</td>\n",
       "      <td>0</td>\n",
       "      <td>315082</td>\n",
       "      <td>7.9</td>\n",
       "      <td>None</td>\n",
       "      <td>Southampton</td>\n",
       "      <td>None</td>\n",
       "      <td>No</td>\n",
       "    </tr>\n",
       "  </tbody>\n",
       "</table>\n",
       "</div>"
      ],
      "text/plain": [
       "     Passenger Class                       Name     Sex   Age  \\\n",
       "1304           Third       Zabour, Miss. Hileni  Female  14.5   \n",
       "1305           Third     Zabour, Miss. Thaminen  Female   NaN   \n",
       "1306           Third  Zakarian, Mr. Mapriededer    Male  26.5   \n",
       "1307           Third        Zakarian, Mr. Ortin    Male  27.0   \n",
       "1308           Third         Zimmerman, Mr. Leo    Male  29.0   \n",
       "\n",
       "      No of Siblings or Spouses on Board  No of Parents or Children on Board  \\\n",
       "1304                                   1                                   0   \n",
       "1305                                   1                                   0   \n",
       "1306                                   0                                   0   \n",
       "1307                                   0                                   0   \n",
       "1308                                   0                                   0   \n",
       "\n",
       "     Ticket Number  Passenger Fare Cabin Port of Embarkation Life Boat  \\\n",
       "1304          2665            14.5  None           Cherbourg      None   \n",
       "1305          2665            14.5  None           Cherbourg      None   \n",
       "1306          2656             7.2  None           Cherbourg      None   \n",
       "1307          2670             7.2  None           Cherbourg      None   \n",
       "1308        315082             7.9  None         Southampton      None   \n",
       "\n",
       "     Survived  \n",
       "1304       No  \n",
       "1305       No  \n",
       "1306       No  \n",
       "1307       No  \n",
       "1308       No  "
      ]
     },
     "execution_count": 8,
     "metadata": {},
     "output_type": "execute_result"
    }
   ],
   "source": [
    "# También podemos obtener los últimos valores del datafram con la función tail().\n",
    "# Esta devuelve, por defecto, los 5 últimos registros del dataframe.\n",
    "# Si le pasamos un número entero como argumento nos devolverá los últimos n registros.\n",
    "# Observamos que la fila 1305 tiene un valor faltante para la columna \"Age\". \n",
    "df.tail()"
   ]
  },
  {
   "cell_type": "markdown",
   "metadata": {},
   "source": [
    "## 4.- Limpieza\n",
    "Limpiar datos. Hay nulos?"
   ]
  },
  {
   "cell_type": "markdown",
   "metadata": {},
   "source": [
    "[**EX1**] Info general"
   ]
  },
  {
   "cell_type": "code",
   "execution_count": 5,
   "metadata": {},
   "outputs": [
    {
     "name": "stdout",
     "output_type": "stream",
     "text": [
      "<class 'pandas.core.frame.DataFrame'>\n",
      "RangeIndex: 1309 entries, 0 to 1308\n",
      "Data columns (total 12 columns):\n",
      " #   Column                              Non-Null Count  Dtype  \n",
      "---  ------                              --------------  -----  \n",
      " 0   Passenger Class                     1309 non-null   object \n",
      " 1   Name                                1309 non-null   object \n",
      " 2   Sex                                 1309 non-null   object \n",
      " 3   Age                                 1046 non-null   float64\n",
      " 4   No of Siblings or Spouses on Board  1309 non-null   int64  \n",
      " 5   No of Parents or Children on Board  1309 non-null   int64  \n",
      " 6   Ticket Number                       1309 non-null   object \n",
      " 7   Passenger Fare                      1308 non-null   float64\n",
      " 8   Cabin                               295 non-null    object \n",
      " 9   Port of Embarkation                 1307 non-null   object \n",
      " 10  Life Boat                           486 non-null    object \n",
      " 11  Survived                            1309 non-null   object \n",
      "dtypes: float64(2), int64(2), object(8)\n",
      "memory usage: 122.8+ KB\n"
     ]
    }
   ],
   "source": [
    "# La función info nos aporta información compacta acerca de la estructura del objeto que acabamos de generar.\n",
    "# Concretamente, nos ofrece la dimensionalidad del dataframe: 1309 filas y 8 columnas.\n",
    "# Además, la misma función aporta información sobre:\n",
    "    # La memoria usada.\n",
    "    # El tipo de dato y el conteo de observaciones para cada uno de los atributos.\n",
    "# En este caso vemos, por ejemplo, que la edad y la tarifa son valores de tipo decimal.\n",
    "# También vemos que se está detectando la presencia de valores nulos.\n",
    "# Pandas representa los valores nulos como \"NaN\" (Not a Number) o \"None\".\n",
    "df.info()"
   ]
  },
  {
   "cell_type": "markdown",
   "metadata": {},
   "source": [
    "[**EX2**] Nulos por columna?"
   ]
  },
  {
   "cell_type": "code",
   "execution_count": 6,
   "metadata": {},
   "outputs": [
    {
     "data": {
      "text/plain": [
       "Passenger Class                          0\n",
       "Name                                     0\n",
       "Sex                                      0\n",
       "Age                                    263\n",
       "No of Siblings or Spouses on Board       0\n",
       "No of Parents or Children on Board       0\n",
       "Ticket Number                            0\n",
       "Passenger Fare                           1\n",
       "Cabin                                 1014\n",
       "Port of Embarkation                      2\n",
       "Life Boat                              823\n",
       "Survived                                 0\n",
       "dtype: int64"
      ]
     },
     "execution_count": 6,
     "metadata": {},
     "output_type": "execute_result"
    }
   ],
   "source": [
    "# Vemos el número de valores nulos por columna \n",
    "df.isnull().sum()"
   ]
  },
  {
   "cell_type": "code",
   "execution_count": 20,
   "metadata": {},
   "outputs": [],
   "source": [
    "# La columna \"Cabin\" contiene demasiados valores faltantes, por lo que la eliminamos.\n",
    "df = df.drop(columns=[\"Cabin\"])"
   ]
  },
  {
   "cell_type": "markdown",
   "metadata": {},
   "source": [
    "[**EX3**] Hay registros duplicados?"
   ]
  },
  {
   "cell_type": "code",
   "execution_count": 7,
   "metadata": {},
   "outputs": [
    {
     "data": {
      "text/plain": [
       "False"
      ]
     },
     "execution_count": 7,
     "metadata": {},
     "output_type": "execute_result"
    }
   ],
   "source": [
    "# Asimismo, también conviene comprobar que no haya registros duplicados en nuestro dataframe.\n",
    "# Esto se puede chequear rápidamente con la función duplicated().\n",
    "# Esta devuelve una serie booleana que indica el valor verdadero para aquellas filas duplicadas.\n",
    "# Acompañada de la función any (retorna verdadero en caso de encontrar algún elemento verdadero).\n",
    "# Como resultando, constatamos que no tenemos filas enteras duplicadas.\n",
    "df.duplicated().any()"
   ]
  },
  {
   "cell_type": "markdown",
   "metadata": {},
   "source": [
    "[**EX4**] Cuantos valores hay de cada columna?"
   ]
  },
  {
   "cell_type": "code",
   "execution_count": 8,
   "metadata": {},
   "outputs": [
    {
     "data": {
      "text/plain": [
       "Passenger Class                          3\n",
       "Name                                  1306\n",
       "Sex                                      2\n",
       "Age                                     97\n",
       "No of Siblings or Spouses on Board       7\n",
       "No of Parents or Children on Board       8\n",
       "Ticket Number                          929\n",
       "Passenger Fare                         210\n",
       "Cabin                                  186\n",
       "Port of Embarkation                      3\n",
       "Life Boat                               27\n",
       "Survived                                 2\n",
       "dtype: int64"
      ]
     },
     "execution_count": 8,
     "metadata": {},
     "output_type": "execute_result"
    }
   ],
   "source": [
    "# Si usamos la función nunique podemos conocer el número total de observaciones únicas para cada uno de los atributos.\n",
    "df.nunique()"
   ]
  },
  {
   "cell_type": "markdown",
   "metadata": {},
   "source": [
    "[**EX5**] Qué valores hay para cada columna categórica? Se puede rellenar algún nulo?"
   ]
  },
  {
   "cell_type": "code",
   "execution_count": 21,
   "metadata": {},
   "outputs": [
    {
     "data": {
      "text/plain": [
       "array(['Southampton', 'Cherbourg', None, 'Queenstown'], dtype=object)"
      ]
     },
     "execution_count": 21,
     "metadata": {},
     "output_type": "execute_result"
    }
   ],
   "source": [
    "# También podemos obtener los diferentes valores para columnas concretas:\n",
    "df[\"Port of Embarkation\"].unique()\n",
    "# Observamos que entre los valores distintos del campo \"Port of Embarkation\" hay strings que no contienen nada.\n",
    "# Vemos como, contrariamente a la información que obteníamos en la función info(), hay valores suscepribles de ser considerados nulos."
   ]
  },
  {
   "cell_type": "code",
   "execution_count": 23,
   "metadata": {},
   "outputs": [
    {
     "data": {
      "text/plain": [
       "Third     709\n",
       "First     323\n",
       "Second    277\n",
       "Name: Passenger Class, dtype: int64"
      ]
     },
     "execution_count": 23,
     "metadata": {},
     "output_type": "execute_result"
    }
   ],
   "source": [
    "df[\"Passenger Class\"].value_counts()"
   ]
  },
  {
   "cell_type": "code",
   "execution_count": 22,
   "metadata": {},
   "outputs": [],
   "source": [
    "# Es importante completar los valores faltantes, porque algunos algoritmos de aprendizaje automático\n",
    "# no pueden aceptarlos. Existen varias formas de completar los valores faltantes como, por ejemplo, usando:\n",
    "# la media, la mediana, el valor inmediatamente anterior, entre otros.\n",
    "# En nuestro caso rellenaremos los valores faltantes para \"Age\" y \"Passenger Fare\" con la media para dichas columnas.\n",
    "# El resto de valores desconocidos serán transformados en el valor más común para la columna.\n",
    "df[\"Age\"].fillna(df[\"Age\"].mean(), inplace=True)\n",
    "df[\"Passenger Fare\"].fillna(df[\"Passenger Fare\"].mean(), inplace=True)\n",
    "df[\"Port of Embarkation\"].fillna(df[\"Port of Embarkation\"].value_counts().index[0], inplace=True)"
   ]
  },
  {
   "cell_type": "markdown",
   "metadata": {},
   "source": [
    "[**EX6**] Hay alguna columna altamente dependediente con la variable objetivo a simple vista?"
   ]
  },
  {
   "cell_type": "code",
   "execution_count": 31,
   "metadata": {},
   "outputs": [
    {
     "data": {
      "text/plain": [
       "NaN    800\n",
       "A        4\n",
       "14       1\n",
       "12       1\n",
       "D        1\n",
       "B        1\n",
       "C        1\n",
       "Name: Life Boat, dtype: int64"
      ]
     },
     "execution_count": 31,
     "metadata": {},
     "output_type": "execute_result"
    }
   ],
   "source": [
    "df[df['Survived']=='No']['Life Boat'].value_counts(dropna=False)"
   ]
  },
  {
   "cell_type": "code",
   "execution_count": 32,
   "metadata": {},
   "outputs": [],
   "source": [
    "# Eliminamos la columna \"Life Boat\" ya que el hecho de contener un valor no nulo es equivalente a que\n",
    "# la persona hayq sobrevivido.\n",
    "df = df.drop(columns=[\"Life Boat\"])"
   ]
  },
  {
   "cell_type": "markdown",
   "metadata": {},
   "source": [
    "[**EX7**] Alguna columna identificadora que no aporte valor para la predicción?"
   ]
  },
  {
   "cell_type": "code",
   "execution_count": 33,
   "metadata": {},
   "outputs": [],
   "source": [
    "# Observamos que la columna \"Name\" es un identificador y no aporta valor, por lo que la eliminamos:\n",
    "df = df.drop(columns=[\"Name\"])\n",
    "# La variable \"Ticket Number\" también tiene demasiada dispersión y la eliminamos:\n",
    "df = df.drop(columns=[\"Ticket Number\"])"
   ]
  },
  {
   "cell_type": "markdown",
   "metadata": {},
   "source": [
    "[**EX8**] Duplica la columna Survived como tipo numérico  \n",
    "Tip: https://www.geeksforgeeks.org/how-to-replace-values-in-column-based-on-condition-in-pandas/abs"
   ]
  },
  {
   "cell_type": "code",
   "execution_count": 56,
   "metadata": {},
   "outputs": [
    {
     "data": {
      "text/html": [
       "<div>\n",
       "<style scoped>\n",
       "    .dataframe tbody tr th:only-of-type {\n",
       "        vertical-align: middle;\n",
       "    }\n",
       "\n",
       "    .dataframe tbody tr th {\n",
       "        vertical-align: top;\n",
       "    }\n",
       "\n",
       "    .dataframe thead th {\n",
       "        text-align: right;\n",
       "    }\n",
       "</style>\n",
       "<table border=\"1\" class=\"dataframe\">\n",
       "  <thead>\n",
       "    <tr style=\"text-align: right;\">\n",
       "      <th></th>\n",
       "      <th>Survived</th>\n",
       "      <th>target</th>\n",
       "    </tr>\n",
       "  </thead>\n",
       "  <tbody>\n",
       "    <tr>\n",
       "      <th>0</th>\n",
       "      <td>Yes</td>\n",
       "      <td>1.0</td>\n",
       "    </tr>\n",
       "    <tr>\n",
       "      <th>1</th>\n",
       "      <td>Yes</td>\n",
       "      <td>1.0</td>\n",
       "    </tr>\n",
       "    <tr>\n",
       "      <th>2</th>\n",
       "      <td>No</td>\n",
       "      <td>0.0</td>\n",
       "    </tr>\n",
       "    <tr>\n",
       "      <th>3</th>\n",
       "      <td>No</td>\n",
       "      <td>0.0</td>\n",
       "    </tr>\n",
       "    <tr>\n",
       "      <th>4</th>\n",
       "      <td>No</td>\n",
       "      <td>0.0</td>\n",
       "    </tr>\n",
       "  </tbody>\n",
       "</table>\n",
       "</div>"
      ],
      "text/plain": [
       "  Survived  target\n",
       "0      Yes     1.0\n",
       "1      Yes     1.0\n",
       "2       No     0.0\n",
       "3       No     0.0\n",
       "4       No     0.0"
      ]
     },
     "execution_count": 56,
     "metadata": {},
     "output_type": "execute_result"
    }
   ],
   "source": [
    "df.loc[df['Survived']=='Yes', 'target'] = 1\n",
    "df.loc[df['Survived']=='No', 'target'] = 0\n",
    "df[['Survived','target']].head()"
   ]
  },
  {
   "cell_type": "markdown",
   "metadata": {},
   "source": [
    "[**EX9**] Comprueba los datos tratados"
   ]
  },
  {
   "cell_type": "code",
   "execution_count": 34,
   "metadata": {},
   "outputs": [
    {
     "data": {
      "text/html": [
       "<div>\n",
       "<style scoped>\n",
       "    .dataframe tbody tr th:only-of-type {\n",
       "        vertical-align: middle;\n",
       "    }\n",
       "\n",
       "    .dataframe tbody tr th {\n",
       "        vertical-align: top;\n",
       "    }\n",
       "\n",
       "    .dataframe thead th {\n",
       "        text-align: right;\n",
       "    }\n",
       "</style>\n",
       "<table border=\"1\" class=\"dataframe\">\n",
       "  <thead>\n",
       "    <tr style=\"text-align: right;\">\n",
       "      <th></th>\n",
       "      <th>Passenger Class</th>\n",
       "      <th>Sex</th>\n",
       "      <th>Age</th>\n",
       "      <th>No of Siblings or Spouses on Board</th>\n",
       "      <th>No of Parents or Children on Board</th>\n",
       "      <th>Passenger Fare</th>\n",
       "      <th>Port of Embarkation</th>\n",
       "      <th>Survived</th>\n",
       "    </tr>\n",
       "  </thead>\n",
       "  <tbody>\n",
       "    <tr>\n",
       "      <th>0</th>\n",
       "      <td>First</td>\n",
       "      <td>Female</td>\n",
       "      <td>29.0</td>\n",
       "      <td>0</td>\n",
       "      <td>0</td>\n",
       "      <td>211.3</td>\n",
       "      <td>Southampton</td>\n",
       "      <td>Yes</td>\n",
       "    </tr>\n",
       "    <tr>\n",
       "      <th>1</th>\n",
       "      <td>First</td>\n",
       "      <td>Male</td>\n",
       "      <td>0.9</td>\n",
       "      <td>1</td>\n",
       "      <td>2</td>\n",
       "      <td>151.6</td>\n",
       "      <td>Southampton</td>\n",
       "      <td>Yes</td>\n",
       "    </tr>\n",
       "    <tr>\n",
       "      <th>2</th>\n",
       "      <td>First</td>\n",
       "      <td>Female</td>\n",
       "      <td>2.0</td>\n",
       "      <td>1</td>\n",
       "      <td>2</td>\n",
       "      <td>151.6</td>\n",
       "      <td>Southampton</td>\n",
       "      <td>No</td>\n",
       "    </tr>\n",
       "    <tr>\n",
       "      <th>3</th>\n",
       "      <td>First</td>\n",
       "      <td>Male</td>\n",
       "      <td>30.0</td>\n",
       "      <td>1</td>\n",
       "      <td>2</td>\n",
       "      <td>151.6</td>\n",
       "      <td>Southampton</td>\n",
       "      <td>No</td>\n",
       "    </tr>\n",
       "    <tr>\n",
       "      <th>4</th>\n",
       "      <td>First</td>\n",
       "      <td>Female</td>\n",
       "      <td>25.0</td>\n",
       "      <td>1</td>\n",
       "      <td>2</td>\n",
       "      <td>151.6</td>\n",
       "      <td>Southampton</td>\n",
       "      <td>No</td>\n",
       "    </tr>\n",
       "  </tbody>\n",
       "</table>\n",
       "</div>"
      ],
      "text/plain": [
       "  Passenger Class     Sex   Age  No of Siblings or Spouses on Board  \\\n",
       "0           First  Female  29.0                                   0   \n",
       "1           First    Male   0.9                                   1   \n",
       "2           First  Female   2.0                                   1   \n",
       "3           First    Male  30.0                                   1   \n",
       "4           First  Female  25.0                                   1   \n",
       "\n",
       "   No of Parents or Children on Board  Passenger Fare Port of Embarkation  \\\n",
       "0                                   0           211.3         Southampton   \n",
       "1                                   2           151.6         Southampton   \n",
       "2                                   2           151.6         Southampton   \n",
       "3                                   2           151.6         Southampton   \n",
       "4                                   2           151.6         Southampton   \n",
       "\n",
       "  Survived  \n",
       "0      Yes  \n",
       "1      Yes  \n",
       "2       No  \n",
       "3       No  \n",
       "4       No  "
      ]
     },
     "execution_count": 34,
     "metadata": {},
     "output_type": "execute_result"
    }
   ],
   "source": [
    "df.head()"
   ]
  },
  {
   "cell_type": "code",
   "execution_count": 46,
   "metadata": {},
   "outputs": [
    {
     "name": "stdout",
     "output_type": "stream",
     "text": [
      "<class 'pandas.core.frame.DataFrame'>\n",
      "RangeIndex: 1309 entries, 0 to 1308\n",
      "Data columns (total 8 columns):\n",
      " #   Column                              Non-Null Count  Dtype  \n",
      "---  ------                              --------------  -----  \n",
      " 0   Passenger Class                     1309 non-null   object \n",
      " 1   Sex                                 1309 non-null   object \n",
      " 2   Age                                 1309 non-null   float64\n",
      " 3   No of Siblings or Spouses on Board  1309 non-null   int64  \n",
      " 4   No of Parents or Children on Board  1309 non-null   int64  \n",
      " 5   Passenger Fare                      1309 non-null   float64\n",
      " 6   Port of Embarkation                 1309 non-null   object \n",
      " 7   Survived                            1309 non-null   object \n",
      "dtypes: float64(2), int64(2), object(4)\n",
      "memory usage: 81.9+ KB\n"
     ]
    }
   ],
   "source": [
    "df.info()"
   ]
  },
  {
   "cell_type": "markdown",
   "metadata": {},
   "source": [
    "## 5.- Análisis\n",
    "Análisis estadístico y exploratorio "
   ]
  },
  {
   "cell_type": "markdown",
   "metadata": {},
   "source": [
    "[**EX10**] Estadísticas de las columnas numéricas"
   ]
  },
  {
   "cell_type": "code",
   "execution_count": 35,
   "metadata": {},
   "outputs": [
    {
     "data": {
      "text/html": [
       "<div>\n",
       "<style scoped>\n",
       "    .dataframe tbody tr th:only-of-type {\n",
       "        vertical-align: middle;\n",
       "    }\n",
       "\n",
       "    .dataframe tbody tr th {\n",
       "        vertical-align: top;\n",
       "    }\n",
       "\n",
       "    .dataframe thead th {\n",
       "        text-align: right;\n",
       "    }\n",
       "</style>\n",
       "<table border=\"1\" class=\"dataframe\">\n",
       "  <thead>\n",
       "    <tr style=\"text-align: right;\">\n",
       "      <th></th>\n",
       "      <th>count</th>\n",
       "      <th>mean</th>\n",
       "      <th>std</th>\n",
       "      <th>min</th>\n",
       "      <th>25%</th>\n",
       "      <th>50%</th>\n",
       "      <th>75%</th>\n",
       "      <th>max</th>\n",
       "    </tr>\n",
       "  </thead>\n",
       "  <tbody>\n",
       "    <tr>\n",
       "      <th>Age</th>\n",
       "      <td>1309.0</td>\n",
       "      <td>29.881166</td>\n",
       "      <td>12.883141</td>\n",
       "      <td>0.2</td>\n",
       "      <td>22.0</td>\n",
       "      <td>29.881166</td>\n",
       "      <td>35.0</td>\n",
       "      <td>80.0</td>\n",
       "    </tr>\n",
       "    <tr>\n",
       "      <th>No of Siblings or Spouses on Board</th>\n",
       "      <td>1309.0</td>\n",
       "      <td>0.498854</td>\n",
       "      <td>1.041658</td>\n",
       "      <td>0.0</td>\n",
       "      <td>0.0</td>\n",
       "      <td>0.000000</td>\n",
       "      <td>1.0</td>\n",
       "      <td>8.0</td>\n",
       "    </tr>\n",
       "    <tr>\n",
       "      <th>No of Parents or Children on Board</th>\n",
       "      <td>1309.0</td>\n",
       "      <td>0.385027</td>\n",
       "      <td>0.865560</td>\n",
       "      <td>0.0</td>\n",
       "      <td>0.0</td>\n",
       "      <td>0.000000</td>\n",
       "      <td>0.0</td>\n",
       "      <td>9.0</td>\n",
       "    </tr>\n",
       "    <tr>\n",
       "      <th>Passenger Fare</th>\n",
       "      <td>1309.0</td>\n",
       "      <td>33.307492</td>\n",
       "      <td>51.736270</td>\n",
       "      <td>0.0</td>\n",
       "      <td>7.9</td>\n",
       "      <td>14.500000</td>\n",
       "      <td>31.3</td>\n",
       "      <td>512.3</td>\n",
       "    </tr>\n",
       "  </tbody>\n",
       "</table>\n",
       "</div>"
      ],
      "text/plain": [
       "                                     count       mean        std  min   25%  \\\n",
       "Age                                 1309.0  29.881166  12.883141  0.2  22.0   \n",
       "No of Siblings or Spouses on Board  1309.0   0.498854   1.041658  0.0   0.0   \n",
       "No of Parents or Children on Board  1309.0   0.385027   0.865560  0.0   0.0   \n",
       "Passenger Fare                      1309.0  33.307492  51.736270  0.0   7.9   \n",
       "\n",
       "                                          50%   75%    max  \n",
       "Age                                 29.881166  35.0   80.0  \n",
       "No of Siblings or Spouses on Board   0.000000   1.0    8.0  \n",
       "No of Parents or Children on Board   0.000000   0.0    9.0  \n",
       "Passenger Fare                      14.500000  31.3  512.3  "
      ]
     },
     "execution_count": 35,
     "metadata": {},
     "output_type": "execute_result"
    }
   ],
   "source": [
    "# Asimismo, la función describe —muy semejante a la función summary en R— puede resultar útil en tanto que nos ofrece\n",
    "# un pequeño resumen estadístico con diferentes medidas para aquellas variables numéricas:\n",
    "# el conteo, la media, la desviación estándar, el mínimo, el primer cuartil, el segundo cuartil o mediana, el tercer cuartil y el valor máximo.\n",
    "# Dicha función nos permite constatar que los rangos de la distribución de valores difieren notablemente entre los distintos atributos numéricos.\n",
    "df.describe().T"
   ]
  },
  {
   "cell_type": "markdown",
   "metadata": {},
   "source": [
    "[**EX11**] Matriz de correlación   \n",
    "Tip: https://www.geeksforgeeks.org/create-a-correlation-matrix-using-python/?ref=gcse"
   ]
  },
  {
   "cell_type": "code",
   "execution_count": 39,
   "metadata": {},
   "outputs": [
    {
     "name": "stderr",
     "output_type": "stream",
     "text": [
      "C:\\Users\\monts\\AppData\\Local\\Temp/ipykernel_16088/2519779758.py:7: FutureWarning: this method is deprecated in favour of `Styler.format(precision=..)`\n",
      "  correlation_matrix.style.background_gradient(cmap='RdBu_r').set_precision(2)\n"
     ]
    },
    {
     "data": {
      "text/html": [
       "<style type=\"text/css\">\n",
       "#T_3ac59_row0_col0, #T_3ac59_row1_col1, #T_3ac59_row2_col2, #T_3ac59_row3_col3 {\n",
       "  background-color: #67001f;\n",
       "  color: #f1f1f1;\n",
       "}\n",
       "#T_3ac59_row0_col1, #T_3ac59_row0_col2, #T_3ac59_row1_col0, #T_3ac59_row1_col3 {\n",
       "  background-color: #053061;\n",
       "  color: #f1f1f1;\n",
       "}\n",
       "#T_3ac59_row0_col3 {\n",
       "  background-color: #08366a;\n",
       "  color: #f1f1f1;\n",
       "}\n",
       "#T_3ac59_row1_col2 {\n",
       "  background-color: #e3edf3;\n",
       "  color: #000000;\n",
       "}\n",
       "#T_3ac59_row2_col0 {\n",
       "  background-color: #124984;\n",
       "  color: #f1f1f1;\n",
       "}\n",
       "#T_3ac59_row2_col1 {\n",
       "  background-color: #edf2f5;\n",
       "  color: #000000;\n",
       "}\n",
       "#T_3ac59_row2_col3 {\n",
       "  background-color: #195696;\n",
       "  color: #f1f1f1;\n",
       "}\n",
       "#T_3ac59_row3_col0 {\n",
       "  background-color: #93c6de;\n",
       "  color: #000000;\n",
       "}\n",
       "#T_3ac59_row3_col1 {\n",
       "  background-color: #8dc2dc;\n",
       "  color: #000000;\n",
       "}\n",
       "#T_3ac59_row3_col2 {\n",
       "  background-color: #98c8e0;\n",
       "  color: #000000;\n",
       "}\n",
       "</style>\n",
       "<table id=\"T_3ac59_\">\n",
       "  <thead>\n",
       "    <tr>\n",
       "      <th class=\"blank level0\" >&nbsp;</th>\n",
       "      <th class=\"col_heading level0 col0\" >Age</th>\n",
       "      <th class=\"col_heading level0 col1\" >No of Siblings or Spouses on Board</th>\n",
       "      <th class=\"col_heading level0 col2\" >No of Parents or Children on Board</th>\n",
       "      <th class=\"col_heading level0 col3\" >Passenger Fare</th>\n",
       "    </tr>\n",
       "  </thead>\n",
       "  <tbody>\n",
       "    <tr>\n",
       "      <th id=\"T_3ac59_level0_row0\" class=\"row_heading level0 row0\" >Age</th>\n",
       "      <td id=\"T_3ac59_row0_col0\" class=\"data row0 col0\" >1.00</td>\n",
       "      <td id=\"T_3ac59_row0_col1\" class=\"data row0 col1\" >-0.19</td>\n",
       "      <td id=\"T_3ac59_row0_col2\" class=\"data row0 col2\" >-0.13</td>\n",
       "      <td id=\"T_3ac59_row0_col3\" class=\"data row0 col3\" >0.17</td>\n",
       "    </tr>\n",
       "    <tr>\n",
       "      <th id=\"T_3ac59_level0_row1\" class=\"row_heading level0 row1\" >No of Siblings or Spouses on Board</th>\n",
       "      <td id=\"T_3ac59_row1_col0\" class=\"data row1 col0\" >-0.19</td>\n",
       "      <td id=\"T_3ac59_row1_col1\" class=\"data row1 col1\" >1.00</td>\n",
       "      <td id=\"T_3ac59_row1_col2\" class=\"data row1 col2\" >0.37</td>\n",
       "      <td id=\"T_3ac59_row1_col3\" class=\"data row1 col3\" >0.16</td>\n",
       "    </tr>\n",
       "    <tr>\n",
       "      <th id=\"T_3ac59_level0_row2\" class=\"row_heading level0 row2\" >No of Parents or Children on Board</th>\n",
       "      <td id=\"T_3ac59_row2_col0\" class=\"data row2 col0\" >-0.13</td>\n",
       "      <td id=\"T_3ac59_row2_col1\" class=\"data row2 col1\" >0.37</td>\n",
       "      <td id=\"T_3ac59_row2_col2\" class=\"data row2 col2\" >1.00</td>\n",
       "      <td id=\"T_3ac59_row2_col3\" class=\"data row2 col3\" >0.22</td>\n",
       "    </tr>\n",
       "    <tr>\n",
       "      <th id=\"T_3ac59_level0_row3\" class=\"row_heading level0 row3\" >Passenger Fare</th>\n",
       "      <td id=\"T_3ac59_row3_col0\" class=\"data row3 col0\" >0.17</td>\n",
       "      <td id=\"T_3ac59_row3_col1\" class=\"data row3 col1\" >0.16</td>\n",
       "      <td id=\"T_3ac59_row3_col2\" class=\"data row3 col2\" >0.22</td>\n",
       "      <td id=\"T_3ac59_row3_col3\" class=\"data row3 col3\" >1.00</td>\n",
       "    </tr>\n",
       "  </tbody>\n",
       "</table>\n"
      ],
      "text/plain": [
       "<pandas.io.formats.style.Styler at 0x24d36b74400>"
      ]
     },
     "execution_count": 39,
     "metadata": {},
     "output_type": "execute_result"
    }
   ],
   "source": [
    "# Desplegamos la matriz de correlación para las variables cuantitativas con la función corr.\n",
    "# Asimismo, configuramos la presentación de los coeficientes con tal de destacar a través de\n",
    "# la intensidad de tonalidades rojizas y azuladas, aquellas dependencias lineales positivas y negativas.\n",
    "# Observamos que las correlaciones positivas y negativas son prácticamente nulas.\n",
    "quantitative_cols = [\"Age\", \"No of Siblings or Spouses on Board\", \"No of Parents or Children on Board\", \"Passenger Fare\"]\n",
    "correlation_matrix = df[quantitative_cols].corr()\n",
    "correlation_matrix.style.background_gradient(cmap='RdBu_r').set_precision(2)"
   ]
  },
  {
   "cell_type": "markdown",
   "metadata": {},
   "source": [
    "[**EX12**] Graficar una distribución de las columnas numéricas"
   ]
  },
  {
   "cell_type": "code",
   "execution_count": 40,
   "metadata": {},
   "outputs": [
    {
     "name": "stderr",
     "output_type": "stream",
     "text": [
      "C:\\Users\\monts\\anaconda3\\lib\\site-packages\\seaborn\\axisgrid.py:2076: UserWarning: The `size` parameter has been renamed to `height`; please update your code.\n",
      "  warnings.warn(msg, UserWarning)\n"
     ]
    },
    {
     "data": {
      "image/png": "[encoded data removed]",
      "text/plain": [
       "<Figure size 1152x1152 with 20 Axes>"
      ]
     },
     "metadata": {},
     "output_type": "display_data"
    }
   ],
   "source": [
    "# Acompañamos nuestro análisis de las variables cuantitativas, representamos gráficamente su distribución \n",
    "# de probabilidad (curva de densidad) y cruzamos los valores de dichas variables entre sí (gráfico de dispersión), \n",
    "#todo ello integrado en una misma matriz con la función pairplot de la librería seaborn. \n",
    "# La dispersión de los valores resultantes del cruce de variables refuerza visualmente lo que ya señalaban\n",
    "# los coeficientes de la matriz de correlación, a saber: la ausencia de dependencias lineales fuertes.\n",
    "sns.set(style='whitegrid', color_codes=True)\n",
    "quantitative_plots = sns.pairplot(df[quantitative_cols], size=4, kind='scatter', diag_kind='kde')\n",
    "# Nótese la diferencia con la misma función integrada con la librería pandas:\n",
    "# pd.plotting.scatter_matrix(quantitative_fields, figsize = (12, 12), diagonal='kde')"
   ]
  },
  {
   "cell_type": "code",
   "execution_count": 41,
   "metadata": {},
   "outputs": [],
   "source": [
    "# En relación a la distribución probabilística de las variables por separado, \n",
    "# definimos una función para ver en más detalle las mismas y, al mismo tiempo, \n",
    "# acompañar la curva de densidad con un histograma junto a un diagrama de caja y bigotes\n",
    "# con fin de obtener un soporte a la hora de dar cuenta de la presencia de valores atípicos. \n",
    "def quantitative_probability_distribution(df, column):\n",
    "    # Dividimos el marco en dos partes.\n",
    "    f, (ax_box, ax_hist) = plt.subplots(2, sharex=True, gridspec_kw={\"height_ratios\": (.20, .80)})\n",
    "    # Añadimos un gráfico a cada una de las partes.\n",
    "    sns.boxplot(df[column], ax=ax_box)\n",
    "    sns.distplot(df[column], ax=ax_hist)"
   ]
  },
  {
   "cell_type": "code",
   "execution_count": 42,
   "metadata": {},
   "outputs": [
    {
     "name": "stderr",
     "output_type": "stream",
     "text": [
      "C:\\Users\\monts\\anaconda3\\lib\\site-packages\\seaborn\\_decorators.py:36: FutureWarning: Pass the following variable as a keyword arg: x. From version 0.12, the only valid positional argument will be `data`, and passing other arguments without an explicit keyword will result in an error or misinterpretation.\n",
      "  warnings.warn(\n",
      "C:\\Users\\monts\\anaconda3\\lib\\site-packages\\seaborn\\distributions.py:2619: FutureWarning: `distplot` is a deprecated function and will be removed in a future version. Please adapt your code to use either `displot` (a figure-level function with similar flexibility) or `histplot` (an axes-level function for histograms).\n",
      "  warnings.warn(msg, FutureWarning)\n",
      "C:\\Users\\monts\\anaconda3\\lib\\site-packages\\seaborn\\_decorators.py:36: FutureWarning: Pass the following variable as a keyword arg: x. From version 0.12, the only valid positional argument will be `data`, and passing other arguments without an explicit keyword will result in an error or misinterpretation.\n",
      "  warnings.warn(\n",
      "C:\\Users\\monts\\anaconda3\\lib\\site-packages\\seaborn\\distributions.py:2619: FutureWarning: `distplot` is a deprecated function and will be removed in a future version. Please adapt your code to use either `displot` (a figure-level function with similar flexibility) or `histplot` (an axes-level function for histograms).\n",
      "  warnings.warn(msg, FutureWarning)\n",
      "C:\\Users\\monts\\anaconda3\\lib\\site-packages\\seaborn\\_decorators.py:36: FutureWarning: Pass the following variable as a keyword arg: x. From version 0.12, the only valid positional argument will be `data`, and passing other arguments without an explicit keyword will result in an error or misinterpretation.\n",
      "  warnings.warn(\n",
      "C:\\Users\\monts\\anaconda3\\lib\\site-packages\\seaborn\\distributions.py:2619: FutureWarning: `distplot` is a deprecated function and will be removed in a future version. Please adapt your code to use either `displot` (a figure-level function with similar flexibility) or `histplot` (an axes-level function for histograms).\n",
      "  warnings.warn(msg, FutureWarning)\n",
      "C:\\Users\\monts\\anaconda3\\lib\\site-packages\\seaborn\\_decorators.py:36: FutureWarning: Pass the following variable as a keyword arg: x. From version 0.12, the only valid positional argument will be `data`, and passing other arguments without an explicit keyword will result in an error or misinterpretation.\n",
      "  warnings.warn(\n",
      "C:\\Users\\monts\\anaconda3\\lib\\site-packages\\seaborn\\distributions.py:2619: FutureWarning: `distplot` is a deprecated function and will be removed in a future version. Please adapt your code to use either `displot` (a figure-level function with similar flexibility) or `histplot` (an axes-level function for histograms).\n",
      "  warnings.warn(msg, FutureWarning)\n"
     ]
    },
    {
     "data": {
      "image/png": "[encoded data removed]",
      "text/plain": [
       "<Figure size 432x288 with 2 Axes>"
      ]
     },
     "metadata": {},
     "output_type": "display_data"
    },
    {
     "data": {
      "image/png": "[encoded data removed]",
      "text/plain": [
       "<Figure size 432x288 with 2 Axes>"
      ]
     },
     "metadata": {},
     "output_type": "display_data"
    },
    {
     "data": {
      "image/png": "[encoded data removed]",
      "text/plain": [
       "<Figure size 432x288 with 2 Axes>"
      ]
     },
     "metadata": {},
     "output_type": "display_data"
    },
    {
     "data": {
      "image/png": "[encoded data removed]",
      "text/plain": [
       "<Figure size 432x288 with 2 Axes>"
      ]
     },
     "metadata": {},
     "output_type": "display_data"
    }
   ],
   "source": [
    "for col in quantitative_cols:\n",
    "    quantitative_probability_distribution(df, col)"
   ]
  },
  {
   "cell_type": "markdown",
   "metadata": {},
   "source": [
    "[**EX13**] Graficar una distribución de las columnas categóricas  \n",
    "Tip: https://seaborn.pydata.org/tutorial/categorical.html y https://seaborn.pydata.org/generated/seaborn.barplot.html#seaborn.barplot     "
   ]
  },
  {
   "cell_type": "code",
   "execution_count": 87,
   "metadata": {},
   "outputs": [],
   "source": [
    "# Una vez hemos realizado el análisis de las variables numéricas, pasamos a explorar \n",
    "# las variables categóricas. Para ello, definimos la función qualitative_probability_distribution \n",
    "# que espera recibir como argumentos el dataframe y el nombre de la columna que queremos representar. \n",
    "# El cuerpo de la función consiste sencillamente en el despliegue de un gráfico de barras que muestre \n",
    "# el conteo del número de ocurrencias para cada uno de los valores de la variable y un diagrama de caja\n",
    "# y bigotes para la distribución de los valores de la variable dependiente “Survived” con respecto\n",
    "# a los diferentes valores de la columna en cuestión.\n",
    "\n",
    "def qualitative_probability_distribution(df, column):\n",
    "    # Dividimos el marco en dos partes.\n",
    "    fig, axs = plt.subplots(1, 2, figsize=(12, 4))\n",
    "    # Añadimos un gráfico a cada una de las partes.\n",
    "    sns.countplot(x=column, data=df, ax=axs[0])\n",
    "    sns.barplot(x = col, y = 'target', data = df, ax=axs[1])"
   ]
  },
  {
   "cell_type": "code",
   "execution_count": 88,
   "metadata": {},
   "outputs": [
    {
     "data": {
      "image/png": "[encoded data removed]",
      "text/plain": [
       "<Figure size 864x288 with 2 Axes>"
      ]
     },
     "metadata": {},
     "output_type": "display_data"
    },
    {
     "data": {
      "image/png": "[encoded data removed]",
      "text/plain": [
       "<Figure size 864x288 with 2 Axes>"
      ]
     },
     "metadata": {},
     "output_type": "display_data"
    },
    {
     "data": {
      "image/png": "[encoded data removed]",
      "text/plain": [
       "<Figure size 864x288 with 2 Axes>"
      ]
     },
     "metadata": {},
     "output_type": "display_data"
    }
   ],
   "source": [
    "qualitative_cols = [\"Passenger Class\", \"Sex\", \"Port of Embarkation\"]\n",
    "for col in qualitative_cols:\n",
    "    qualitative_probability_distribution(df, col)"
   ]
  },
  {
   "cell_type": "markdown",
   "metadata": {},
   "source": [
    "[**EX14**] Convertir las variables categóricas a dummies y eliminar las innecesarias"
   ]
  },
  {
   "cell_type": "code",
   "execution_count": 90,
   "metadata": {},
   "outputs": [],
   "source": [
    "# Realizamos una conversión de las variables categóricas a dummies numéricas.\n",
    "for category in qualitative_cols:\n",
    "    cat_dummies = pd.get_dummies(df[category], prefix=category)\n",
    "    df = df.join(cat_dummies)"
   ]
  },
  {
   "cell_type": "code",
   "execution_count": 92,
   "metadata": {},
   "outputs": [
    {
     "name": "stdout",
     "output_type": "stream",
     "text": [
      "<class 'pandas.core.frame.DataFrame'>\n",
      "RangeIndex: 1309 entries, 0 to 1308\n",
      "Data columns (total 17 columns):\n",
      " #   Column                              Non-Null Count  Dtype  \n",
      "---  ------                              --------------  -----  \n",
      " 0   Passenger Class                     1309 non-null   object \n",
      " 1   Sex                                 1309 non-null   object \n",
      " 2   Age                                 1309 non-null   float64\n",
      " 3   No of Siblings or Spouses on Board  1309 non-null   int64  \n",
      " 4   No of Parents or Children on Board  1309 non-null   int64  \n",
      " 5   Passenger Fare                      1309 non-null   float64\n",
      " 6   Port of Embarkation                 1309 non-null   object \n",
      " 7   Survived                            1309 non-null   object \n",
      " 8   target                              1309 non-null   float64\n",
      " 9   Passenger Class_First               1309 non-null   uint8  \n",
      " 10  Passenger Class_Second              1309 non-null   uint8  \n",
      " 11  Passenger Class_Third               1309 non-null   uint8  \n",
      " 12  Sex_Female                          1309 non-null   uint8  \n",
      " 13  Sex_Male                            1309 non-null   uint8  \n",
      " 14  Port of Embarkation_Cherbourg       1309 non-null   uint8  \n",
      " 15  Port of Embarkation_Queenstown      1309 non-null   uint8  \n",
      " 16  Port of Embarkation_Southampton     1309 non-null   uint8  \n",
      "dtypes: float64(3), int64(2), object(4), uint8(8)\n",
      "memory usage: 102.4+ KB\n"
     ]
    }
   ],
   "source": [
    "df.info()"
   ]
  },
  {
   "cell_type": "code",
   "execution_count": 93,
   "metadata": {},
   "outputs": [],
   "source": [
    "# Eliminamos las columnas categóricas originales porque ya no las vamos a necesitar.\n",
    "# Para ello usamos una lista por compresión para definir el subconjunto de columnas que vamos a querer:\n",
    "df_cols = df.columns.values.tolist()\n",
    "keep_cols = [col for col in df_cols if col not in qualitative_cols]\n",
    "df = df[keep_cols]"
   ]
  },
  {
   "cell_type": "code",
   "execution_count": 94,
   "metadata": {},
   "outputs": [
    {
     "name": "stdout",
     "output_type": "stream",
     "text": [
      "<class 'pandas.core.frame.DataFrame'>\n",
      "RangeIndex: 1309 entries, 0 to 1308\n",
      "Data columns (total 14 columns):\n",
      " #   Column                              Non-Null Count  Dtype  \n",
      "---  ------                              --------------  -----  \n",
      " 0   Age                                 1309 non-null   float64\n",
      " 1   No of Siblings or Spouses on Board  1309 non-null   int64  \n",
      " 2   No of Parents or Children on Board  1309 non-null   int64  \n",
      " 3   Passenger Fare                      1309 non-null   float64\n",
      " 4   Survived                            1309 non-null   object \n",
      " 5   target                              1309 non-null   float64\n",
      " 6   Passenger Class_First               1309 non-null   uint8  \n",
      " 7   Passenger Class_Second              1309 non-null   uint8  \n",
      " 8   Passenger Class_Third               1309 non-null   uint8  \n",
      " 9   Sex_Female                          1309 non-null   uint8  \n",
      " 10  Sex_Male                            1309 non-null   uint8  \n",
      " 11  Port of Embarkation_Cherbourg       1309 non-null   uint8  \n",
      " 12  Port of Embarkation_Queenstown      1309 non-null   uint8  \n",
      " 13  Port of Embarkation_Southampton     1309 non-null   uint8  \n",
      "dtypes: float64(3), int64(2), object(1), uint8(8)\n",
      "memory usage: 71.7+ KB\n"
     ]
    }
   ],
   "source": [
    "df.info()"
   ]
  },
  {
   "cell_type": "code",
   "execution_count": 129,
   "metadata": {},
   "outputs": [],
   "source": [
    "# Eliminamos Survived, que es lo mismo que target\n",
    "target_categorical = df.pop('Survived')"
   ]
  },
  {
   "cell_type": "code",
   "execution_count": 101,
   "metadata": {},
   "outputs": [
    {
     "data": {
      "text/html": [
       "<div>\n",
       "<style scoped>\n",
       "    .dataframe tbody tr th:only-of-type {\n",
       "        vertical-align: middle;\n",
       "    }\n",
       "\n",
       "    .dataframe tbody tr th {\n",
       "        vertical-align: top;\n",
       "    }\n",
       "\n",
       "    .dataframe thead th {\n",
       "        text-align: right;\n",
       "    }\n",
       "</style>\n",
       "<table border=\"1\" class=\"dataframe\">\n",
       "  <thead>\n",
       "    <tr style=\"text-align: right;\">\n",
       "      <th></th>\n",
       "      <th>Age</th>\n",
       "      <th>No of Siblings or Spouses on Board</th>\n",
       "      <th>No of Parents or Children on Board</th>\n",
       "      <th>Passenger Fare</th>\n",
       "      <th>target</th>\n",
       "      <th>Passenger Class_First</th>\n",
       "      <th>Passenger Class_Second</th>\n",
       "      <th>Passenger Class_Third</th>\n",
       "      <th>Sex_Female</th>\n",
       "      <th>Sex_Male</th>\n",
       "      <th>Port of Embarkation_Cherbourg</th>\n",
       "      <th>Port of Embarkation_Queenstown</th>\n",
       "      <th>Port of Embarkation_Southampton</th>\n",
       "    </tr>\n",
       "  </thead>\n",
       "  <tbody>\n",
       "    <tr>\n",
       "      <th>0</th>\n",
       "      <td>29.000000</td>\n",
       "      <td>0</td>\n",
       "      <td>0</td>\n",
       "      <td>211.3</td>\n",
       "      <td>1.0</td>\n",
       "      <td>1</td>\n",
       "      <td>0</td>\n",
       "      <td>0</td>\n",
       "      <td>1</td>\n",
       "      <td>0</td>\n",
       "      <td>0</td>\n",
       "      <td>0</td>\n",
       "      <td>1</td>\n",
       "    </tr>\n",
       "    <tr>\n",
       "      <th>1</th>\n",
       "      <td>0.900000</td>\n",
       "      <td>1</td>\n",
       "      <td>2</td>\n",
       "      <td>151.6</td>\n",
       "      <td>1.0</td>\n",
       "      <td>1</td>\n",
       "      <td>0</td>\n",
       "      <td>0</td>\n",
       "      <td>0</td>\n",
       "      <td>1</td>\n",
       "      <td>0</td>\n",
       "      <td>0</td>\n",
       "      <td>1</td>\n",
       "    </tr>\n",
       "    <tr>\n",
       "      <th>2</th>\n",
       "      <td>2.000000</td>\n",
       "      <td>1</td>\n",
       "      <td>2</td>\n",
       "      <td>151.6</td>\n",
       "      <td>0.0</td>\n",
       "      <td>1</td>\n",
       "      <td>0</td>\n",
       "      <td>0</td>\n",
       "      <td>1</td>\n",
       "      <td>0</td>\n",
       "      <td>0</td>\n",
       "      <td>0</td>\n",
       "      <td>1</td>\n",
       "    </tr>\n",
       "    <tr>\n",
       "      <th>3</th>\n",
       "      <td>30.000000</td>\n",
       "      <td>1</td>\n",
       "      <td>2</td>\n",
       "      <td>151.6</td>\n",
       "      <td>0.0</td>\n",
       "      <td>1</td>\n",
       "      <td>0</td>\n",
       "      <td>0</td>\n",
       "      <td>0</td>\n",
       "      <td>1</td>\n",
       "      <td>0</td>\n",
       "      <td>0</td>\n",
       "      <td>1</td>\n",
       "    </tr>\n",
       "    <tr>\n",
       "      <th>4</th>\n",
       "      <td>25.000000</td>\n",
       "      <td>1</td>\n",
       "      <td>2</td>\n",
       "      <td>151.6</td>\n",
       "      <td>0.0</td>\n",
       "      <td>1</td>\n",
       "      <td>0</td>\n",
       "      <td>0</td>\n",
       "      <td>1</td>\n",
       "      <td>0</td>\n",
       "      <td>0</td>\n",
       "      <td>0</td>\n",
       "      <td>1</td>\n",
       "    </tr>\n",
       "    <tr>\n",
       "      <th>...</th>\n",
       "      <td>...</td>\n",
       "      <td>...</td>\n",
       "      <td>...</td>\n",
       "      <td>...</td>\n",
       "      <td>...</td>\n",
       "      <td>...</td>\n",
       "      <td>...</td>\n",
       "      <td>...</td>\n",
       "      <td>...</td>\n",
       "      <td>...</td>\n",
       "      <td>...</td>\n",
       "      <td>...</td>\n",
       "      <td>...</td>\n",
       "    </tr>\n",
       "    <tr>\n",
       "      <th>1304</th>\n",
       "      <td>14.500000</td>\n",
       "      <td>1</td>\n",
       "      <td>0</td>\n",
       "      <td>14.5</td>\n",
       "      <td>0.0</td>\n",
       "      <td>0</td>\n",
       "      <td>0</td>\n",
       "      <td>1</td>\n",
       "      <td>1</td>\n",
       "      <td>0</td>\n",
       "      <td>1</td>\n",
       "      <td>0</td>\n",
       "      <td>0</td>\n",
       "    </tr>\n",
       "    <tr>\n",
       "      <th>1305</th>\n",
       "      <td>29.881166</td>\n",
       "      <td>1</td>\n",
       "      <td>0</td>\n",
       "      <td>14.5</td>\n",
       "      <td>0.0</td>\n",
       "      <td>0</td>\n",
       "      <td>0</td>\n",
       "      <td>1</td>\n",
       "      <td>1</td>\n",
       "      <td>0</td>\n",
       "      <td>1</td>\n",
       "      <td>0</td>\n",
       "      <td>0</td>\n",
       "    </tr>\n",
       "    <tr>\n",
       "      <th>1306</th>\n",
       "      <td>26.500000</td>\n",
       "      <td>0</td>\n",
       "      <td>0</td>\n",
       "      <td>7.2</td>\n",
       "      <td>0.0</td>\n",
       "      <td>0</td>\n",
       "      <td>0</td>\n",
       "      <td>1</td>\n",
       "      <td>0</td>\n",
       "      <td>1</td>\n",
       "      <td>1</td>\n",
       "      <td>0</td>\n",
       "      <td>0</td>\n",
       "    </tr>\n",
       "    <tr>\n",
       "      <th>1307</th>\n",
       "      <td>27.000000</td>\n",
       "      <td>0</td>\n",
       "      <td>0</td>\n",
       "      <td>7.2</td>\n",
       "      <td>0.0</td>\n",
       "      <td>0</td>\n",
       "      <td>0</td>\n",
       "      <td>1</td>\n",
       "      <td>0</td>\n",
       "      <td>1</td>\n",
       "      <td>1</td>\n",
       "      <td>0</td>\n",
       "      <td>0</td>\n",
       "    </tr>\n",
       "    <tr>\n",
       "      <th>1308</th>\n",
       "      <td>29.000000</td>\n",
       "      <td>0</td>\n",
       "      <td>0</td>\n",
       "      <td>7.9</td>\n",
       "      <td>0.0</td>\n",
       "      <td>0</td>\n",
       "      <td>0</td>\n",
       "      <td>1</td>\n",
       "      <td>0</td>\n",
       "      <td>1</td>\n",
       "      <td>0</td>\n",
       "      <td>0</td>\n",
       "      <td>1</td>\n",
       "    </tr>\n",
       "  </tbody>\n",
       "</table>\n",
       "<p>1309 rows × 13 columns</p>\n",
       "</div>"
      ],
      "text/plain": [
       "            Age  No of Siblings or Spouses on Board  \\\n",
       "0     29.000000                                   0   \n",
       "1      0.900000                                   1   \n",
       "2      2.000000                                   1   \n",
       "3     30.000000                                   1   \n",
       "4     25.000000                                   1   \n",
       "...         ...                                 ...   \n",
       "1304  14.500000                                   1   \n",
       "1305  29.881166                                   1   \n",
       "1306  26.500000                                   0   \n",
       "1307  27.000000                                   0   \n",
       "1308  29.000000                                   0   \n",
       "\n",
       "      No of Parents or Children on Board  Passenger Fare  target  \\\n",
       "0                                      0           211.3     1.0   \n",
       "1                                      2           151.6     1.0   \n",
       "2                                      2           151.6     0.0   \n",
       "3                                      2           151.6     0.0   \n",
       "4                                      2           151.6     0.0   \n",
       "...                                  ...             ...     ...   \n",
       "1304                                   0            14.5     0.0   \n",
       "1305                                   0            14.5     0.0   \n",
       "1306                                   0             7.2     0.0   \n",
       "1307                                   0             7.2     0.0   \n",
       "1308                                   0             7.9     0.0   \n",
       "\n",
       "      Passenger Class_First  Passenger Class_Second  Passenger Class_Third  \\\n",
       "0                         1                       0                      0   \n",
       "1                         1                       0                      0   \n",
       "2                         1                       0                      0   \n",
       "3                         1                       0                      0   \n",
       "4                         1                       0                      0   \n",
       "...                     ...                     ...                    ...   \n",
       "1304                      0                       0                      1   \n",
       "1305                      0                       0                      1   \n",
       "1306                      0                       0                      1   \n",
       "1307                      0                       0                      1   \n",
       "1308                      0                       0                      1   \n",
       "\n",
       "      Sex_Female  Sex_Male  Port of Embarkation_Cherbourg  \\\n",
       "0              1         0                              0   \n",
       "1              0         1                              0   \n",
       "2              1         0                              0   \n",
       "3              0         1                              0   \n",
       "4              1         0                              0   \n",
       "...          ...       ...                            ...   \n",
       "1304           1         0                              1   \n",
       "1305           1         0                              1   \n",
       "1306           0         1                              1   \n",
       "1307           0         1                              1   \n",
       "1308           0         1                              0   \n",
       "\n",
       "      Port of Embarkation_Queenstown  Port of Embarkation_Southampton  \n",
       "0                                  0                                1  \n",
       "1                                  0                                1  \n",
       "2                                  0                                1  \n",
       "3                                  0                                1  \n",
       "4                                  0                                1  \n",
       "...                              ...                              ...  \n",
       "1304                               0                                0  \n",
       "1305                               0                                0  \n",
       "1306                               0                                0  \n",
       "1307                               0                                0  \n",
       "1308                               0                                1  \n",
       "\n",
       "[1309 rows x 13 columns]"
      ]
     },
     "execution_count": 101,
     "metadata": {},
     "output_type": "execute_result"
    }
   ],
   "source": [
    "df"
   ]
  },
  {
   "cell_type": "markdown",
   "metadata": {},
   "source": [
    "[**Recomendable**] Guardar los datos ya limpios"
   ]
  },
  {
   "cell_type": "code",
   "execution_count": 99,
   "metadata": {},
   "outputs": [],
   "source": [
    "with open(PATH+'titanic_cleaned.pkl', 'wb') as f:\n",
    "    pickle.dump(df, f)"
   ]
  },
  {
   "cell_type": "code",
   "execution_count": 130,
   "metadata": {},
   "outputs": [],
   "source": [
    "with open(PATH+'titanic_cleaned.pkl', 'rb') as f:\n",
    "    df_cleaned = pickle.load(f)\n",
    "df = df_cleaned"
   ]
  },
  {
   "cell_type": "markdown",
   "metadata": {},
   "source": [
    "## 6.- Datos entrenamiento y testeo\n",
    "Dividir los datos"
   ]
  },
  {
   "cell_type": "markdown",
   "metadata": {},
   "source": [
    "[**EX15**] Extraer la variable objetivo"
   ]
  },
  {
   "cell_type": "code",
   "execution_count": 131,
   "metadata": {},
   "outputs": [],
   "source": [
    "# Extraemos la variable dependiente de las variables predictoras:\n",
    "target = df.pop(\"target\")"
   ]
  },
  {
   "cell_type": "markdown",
   "metadata": {},
   "source": [
    "[**EX16**] Splitar los datos en train y test"
   ]
  },
  {
   "cell_type": "code",
   "execution_count": 132,
   "metadata": {},
   "outputs": [],
   "source": [
    "# Una vez tenemos los datos preparados, dividimos los registros del dataframe en dos subconjuntos \n",
    "# (entrenamiento [75%] y test [25%]). Asimismo, dividimos cada subconjunto a su vez en dos conjuntos \n",
    "# de columnas, separamos las variables predictoras de la variable objetivo. Para llevar a cabo todas \n",
    "# estas divisiones hacemos uso de la función train_test_split procedente del paquete sklearn.model_selection.\n",
    "X_train, X_test, y_train, y_test = train_test_split(df, target)"
   ]
  },
  {
   "cell_type": "markdown",
   "metadata": {},
   "source": [
    "[**EX17**] Normalizar los datos"
   ]
  },
  {
   "cell_type": "code",
   "execution_count": 133,
   "metadata": {},
   "outputs": [
    {
     "data": {
      "text/plain": [
       "array([[ 1.6327711 , -0.47239368,  0.70819715, ...,  2.00767757,\n",
       "        -0.32935479, -1.5398487 ],\n",
       "       [ 0.86478761, -0.47239368,  5.34753876, ..., -0.49808795,\n",
       "        -0.32935479,  0.64941445],\n",
       "       [-0.05679258, -0.47239368, -0.45163825, ..., -0.49808795,\n",
       "        -0.32935479,  0.64941445],\n",
       "       ...,\n",
       "       [ 0.25040081, -0.47239368, -0.45163825, ..., -0.49808795,\n",
       "        -0.32935479,  0.64941445],\n",
       "       [-1.89995297, -0.47239368, -0.45163825, ..., -0.49808795,\n",
       "        -0.32935479,  0.64941445],\n",
       "       [-0.67117938, -0.47239368, -0.45163825, ..., -0.49808795,\n",
       "        -0.32935479,  0.64941445]])"
      ]
     },
     "execution_count": 133,
     "metadata": {},
     "output_type": "execute_result"
    }
   ],
   "source": [
    "# Escalamos los datos de las variables independientes:\n",
    "modelo_normalizacion = StandardScaler().fit(X_train)\n",
    "features = modelo_normalizacion.transform(X_train)\n",
    "features"
   ]
  },
  {
   "cell_type": "code",
   "execution_count": 109,
   "metadata": {},
   "outputs": [
    {
     "data": {
      "text/html": [
       "<div>\n",
       "<style scoped>\n",
       "    .dataframe tbody tr th:only-of-type {\n",
       "        vertical-align: middle;\n",
       "    }\n",
       "\n",
       "    .dataframe tbody tr th {\n",
       "        vertical-align: top;\n",
       "    }\n",
       "\n",
       "    .dataframe thead th {\n",
       "        text-align: right;\n",
       "    }\n",
       "</style>\n",
       "<table border=\"1\" class=\"dataframe\">\n",
       "  <thead>\n",
       "    <tr style=\"text-align: right;\">\n",
       "      <th></th>\n",
       "      <th>count</th>\n",
       "      <th>mean</th>\n",
       "      <th>std</th>\n",
       "      <th>min</th>\n",
       "      <th>25%</th>\n",
       "      <th>50%</th>\n",
       "      <th>75%</th>\n",
       "      <th>max</th>\n",
       "    </tr>\n",
       "  </thead>\n",
       "  <tbody>\n",
       "    <tr>\n",
       "      <th>Age</th>\n",
       "      <td>981.0</td>\n",
       "      <td>1.020817e-16</td>\n",
       "      <td>1.00051</td>\n",
       "      <td>-2.326855</td>\n",
       "      <td>-0.612309</td>\n",
       "      <td>0.007535</td>\n",
       "      <td>0.410126</td>\n",
       "      <td>3.949325</td>\n",
       "    </tr>\n",
       "    <tr>\n",
       "      <th>No of Siblings or Spouses on Board</th>\n",
       "      <td>981.0</td>\n",
       "      <td>-8.442675e-17</td>\n",
       "      <td>1.00051</td>\n",
       "      <td>-0.484871</td>\n",
       "      <td>-0.484871</td>\n",
       "      <td>-0.484871</td>\n",
       "      <td>0.451465</td>\n",
       "      <td>7.005814</td>\n",
       "    </tr>\n",
       "    <tr>\n",
       "      <th>No of Parents or Children on Board</th>\n",
       "      <td>981.0</td>\n",
       "      <td>-2.437737e-16</td>\n",
       "      <td>1.00051</td>\n",
       "      <td>-0.454142</td>\n",
       "      <td>-0.454142</td>\n",
       "      <td>-0.454142</td>\n",
       "      <td>-0.454142</td>\n",
       "      <td>10.471249</td>\n",
       "    </tr>\n",
       "    <tr>\n",
       "      <th>Passenger Fare</th>\n",
       "      <td>981.0</td>\n",
       "      <td>1.595733e-16</td>\n",
       "      <td>1.00051</td>\n",
       "      <td>-0.671305</td>\n",
       "      <td>-0.508991</td>\n",
       "      <td>-0.373386</td>\n",
       "      <td>-0.040538</td>\n",
       "      <td>9.854506</td>\n",
       "    </tr>\n",
       "    <tr>\n",
       "      <th>Passenger Class_First</th>\n",
       "      <td>981.0</td>\n",
       "      <td>7.220411e-17</td>\n",
       "      <td>1.00051</td>\n",
       "      <td>-0.564401</td>\n",
       "      <td>-0.564401</td>\n",
       "      <td>-0.564401</td>\n",
       "      <td>-0.564401</td>\n",
       "      <td>1.771790</td>\n",
       "    </tr>\n",
       "    <tr>\n",
       "      <th>Passenger Class_Second</th>\n",
       "      <td>981.0</td>\n",
       "      <td>-2.204602e-16</td>\n",
       "      <td>1.00051</td>\n",
       "      <td>-0.515564</td>\n",
       "      <td>-0.515564</td>\n",
       "      <td>-0.515564</td>\n",
       "      <td>-0.515564</td>\n",
       "      <td>1.939623</td>\n",
       "    </tr>\n",
       "    <tr>\n",
       "      <th>Passenger Class_Third</th>\n",
       "      <td>981.0</td>\n",
       "      <td>-1.131726e-17</td>\n",
       "      <td>1.00051</td>\n",
       "      <td>-1.102019</td>\n",
       "      <td>-1.102019</td>\n",
       "      <td>0.907425</td>\n",
       "      <td>0.907425</td>\n",
       "      <td>0.907425</td>\n",
       "    </tr>\n",
       "    <tr>\n",
       "      <th>Sex_Female</th>\n",
       "      <td>981.0</td>\n",
       "      <td>1.824342e-16</td>\n",
       "      <td>1.00051</td>\n",
       "      <td>-0.731581</td>\n",
       "      <td>-0.731581</td>\n",
       "      <td>-0.731581</td>\n",
       "      <td>1.366902</td>\n",
       "      <td>1.366902</td>\n",
       "    </tr>\n",
       "    <tr>\n",
       "      <th>Sex_Male</th>\n",
       "      <td>981.0</td>\n",
       "      <td>-1.824342e-16</td>\n",
       "      <td>1.00051</td>\n",
       "      <td>-1.366902</td>\n",
       "      <td>-1.366902</td>\n",
       "      <td>0.731581</td>\n",
       "      <td>0.731581</td>\n",
       "      <td>0.731581</td>\n",
       "    </tr>\n",
       "    <tr>\n",
       "      <th>Port of Embarkation_Cherbourg</th>\n",
       "      <td>981.0</td>\n",
       "      <td>5.522822e-17</td>\n",
       "      <td>1.00051</td>\n",
       "      <td>-0.509222</td>\n",
       "      <td>-0.509222</td>\n",
       "      <td>-0.509222</td>\n",
       "      <td>-0.509222</td>\n",
       "      <td>1.963781</td>\n",
       "    </tr>\n",
       "    <tr>\n",
       "      <th>Port of Embarkation_Queenstown</th>\n",
       "      <td>981.0</td>\n",
       "      <td>4.072515e-16</td>\n",
       "      <td>1.00051</td>\n",
       "      <td>-0.327450</td>\n",
       "      <td>-0.327450</td>\n",
       "      <td>-0.327450</td>\n",
       "      <td>-0.327450</td>\n",
       "      <td>3.053902</td>\n",
       "    </tr>\n",
       "    <tr>\n",
       "      <th>Port of Embarkation_Southampton</th>\n",
       "      <td>981.0</td>\n",
       "      <td>-4.341300e-16</td>\n",
       "      <td>1.00051</td>\n",
       "      <td>-1.517574</td>\n",
       "      <td>-1.517574</td>\n",
       "      <td>0.658947</td>\n",
       "      <td>0.658947</td>\n",
       "      <td>0.658947</td>\n",
       "    </tr>\n",
       "  </tbody>\n",
       "</table>\n",
       "</div>"
      ],
      "text/plain": [
       "                                    count          mean      std       min  \\\n",
       "Age                                 981.0  1.020817e-16  1.00051 -2.326855   \n",
       "No of Siblings or Spouses on Board  981.0 -8.442675e-17  1.00051 -0.484871   \n",
       "No of Parents or Children on Board  981.0 -2.437737e-16  1.00051 -0.454142   \n",
       "Passenger Fare                      981.0  1.595733e-16  1.00051 -0.671305   \n",
       "Passenger Class_First               981.0  7.220411e-17  1.00051 -0.564401   \n",
       "Passenger Class_Second              981.0 -2.204602e-16  1.00051 -0.515564   \n",
       "Passenger Class_Third               981.0 -1.131726e-17  1.00051 -1.102019   \n",
       "Sex_Female                          981.0  1.824342e-16  1.00051 -0.731581   \n",
       "Sex_Male                            981.0 -1.824342e-16  1.00051 -1.366902   \n",
       "Port of Embarkation_Cherbourg       981.0  5.522822e-17  1.00051 -0.509222   \n",
       "Port of Embarkation_Queenstown      981.0  4.072515e-16  1.00051 -0.327450   \n",
       "Port of Embarkation_Southampton     981.0 -4.341300e-16  1.00051 -1.517574   \n",
       "\n",
       "                                         25%       50%       75%        max  \n",
       "Age                                -0.612309  0.007535  0.410126   3.949325  \n",
       "No of Siblings or Spouses on Board -0.484871 -0.484871  0.451465   7.005814  \n",
       "No of Parents or Children on Board -0.454142 -0.454142 -0.454142  10.471249  \n",
       "Passenger Fare                     -0.508991 -0.373386 -0.040538   9.854506  \n",
       "Passenger Class_First              -0.564401 -0.564401 -0.564401   1.771790  \n",
       "Passenger Class_Second             -0.515564 -0.515564 -0.515564   1.939623  \n",
       "Passenger Class_Third              -1.102019  0.907425  0.907425   0.907425  \n",
       "Sex_Female                         -0.731581 -0.731581  1.366902   1.366902  \n",
       "Sex_Male                           -1.366902  0.731581  0.731581   0.731581  \n",
       "Port of Embarkation_Cherbourg      -0.509222 -0.509222 -0.509222   1.963781  \n",
       "Port of Embarkation_Queenstown     -0.327450 -0.327450 -0.327450   3.053902  \n",
       "Port of Embarkation_Southampton    -1.517574  0.658947  0.658947   0.658947  "
      ]
     },
     "execution_count": 109,
     "metadata": {},
     "output_type": "execute_result"
    }
   ],
   "source": [
    "#Para ver como ha realizado la normalización....\n",
    "df_features = pd.DataFrame(features,columns=df.columns)\n",
    "df_features.describe().T"
   ]
  },
  {
   "cell_type": "code",
   "execution_count": 26,
   "metadata": {},
   "outputs": [
    {
     "data": {
      "text/plain": [
       "\"\\ndef calculateVIF(data):\\n    features = list(data.columns)\\n    num_features = len(features)\\n    model = LinearRegression()\\n    result = pd.DataFrame(index = ['VIF'], columns = features)\\n    result = result.fillna(0)\\n    for i in range(num_features):\\n        x_features = features[:]\\n        y_feature = features[i]\\n        x_features.remove(y_feature)\\n        x = data[x_features]\\n        y = data[y_feature]\\n        model.fit(data[x_features], data[y_feature])\\n        result[y_feature] = 1/(1 - model.score(data[x_features], data[y_feature]))\\n    return(result)\\n\\ndef selectDataUsingVIF(data, max_VIF=5):\\n    result = data.copy(deep = True)\\n    VIF = calculateVIF(result)\\n    while VIF.to_numpy().max() > max_VIF:\\n        col_max = np.where(VIF == VIF.to_numpy().max())[1][0]\\n        features = list(result.columns)\\n        features.remove(features[col_max])\\n        result = result[features]\\n        VIF = calculateVIF(result)\\n    return(result)\\n\\nfeatures = selectDataUsingVIF(df)\\ncalculateVIF(features)\\n\""
      ]
     },
     "execution_count": 26,
     "metadata": {},
     "output_type": "execute_result"
    }
   ],
   "source": [
    "'''\n",
    "La multicolinealidad es un problema habitual en el conjunto de características independientes que afecta negativamente\n",
    "a los modelos, sobre todo en las regresiones lineales múltiples. \n",
    "Esta se produce cuando existen asociaciones lineales en el conjunto de variables predictoras; esto es, \n",
    "cuando dos o más variables de entrada tienen una correlación alta y, por lo tanto, son dependientes. \n",
    "Para evitar dicho problema, cuantificamos la intensidad de la multicolinealidad \n",
    "con el factor de inflación de la varianza (VIF) y excluimos aquellas variables cuyo factor sea demasiado \n",
    "elevado (situado por encima de 5). \n",
    "Existe un amplio debate acerca de qué valor VIF determina que podamos considerar que una variable debe ser omitida. \n",
    "Por lo general, aquellas posturas más conservadoras sitúan el umbral en 5 mientras que las que toman un riesgo mayor \n",
    "tienden a colocarlo en 10. \n",
    "'''\n",
    "'''\n",
    "def calculateVIF(data):\n",
    "    features = list(data.columns)\n",
    "    num_features = len(features)\n",
    "    model = LinearRegression()\n",
    "    result = pd.DataFrame(index = ['VIF'], columns = features)\n",
    "    result = result.fillna(0)\n",
    "    for i in range(num_features):\n",
    "        x_features = features[:]\n",
    "        y_feature = features[i]\n",
    "        x_features.remove(y_feature)\n",
    "        x = data[x_features]\n",
    "        y = data[y_feature]\n",
    "        model.fit(data[x_features], data[y_feature])\n",
    "        result[y_feature] = 1/(1 - model.score(data[x_features], data[y_feature]))\n",
    "    return(result)\n",
    "\n",
    "def selectDataUsingVIF(data, max_VIF=5):\n",
    "    result = data.copy(deep = True)\n",
    "    VIF = calculateVIF(result)\n",
    "    while VIF.to_numpy().max() > max_VIF:\n",
    "        col_max = np.where(VIF == VIF.to_numpy().max())[1][0]\n",
    "        features = list(result.columns)\n",
    "        features.remove(features[col_max])\n",
    "        result = result[features]\n",
    "        VIF = calculateVIF(result)\n",
    "    return(result)\n",
    "\n",
    "features = selectDataUsingVIF(df)\n",
    "calculateVIF(features)\n",
    "'''"
   ]
  },
  {
   "cell_type": "markdown",
   "metadata": {},
   "source": [
    "## 7.- Entrenar el modelo\n",
    "Entrenar el modelo usando una regresión logística"
   ]
  },
  {
   "cell_type": "markdown",
   "metadata": {},
   "source": [
    "[**EX18**] Usa una regresión logística"
   ]
  },
  {
   "cell_type": "code",
   "execution_count": 134,
   "metadata": {},
   "outputs": [
    {
     "name": "stderr",
     "output_type": "stream",
     "text": [
      "C:\\Users\\monts\\anaconda3\\lib\\site-packages\\sklearn\\linear_model\\_logistic.py:763: ConvergenceWarning: lbfgs failed to converge (status=1):\n",
      "STOP: TOTAL NO. of ITERATIONS REACHED LIMIT.\n",
      "\n",
      "Increase the number of iterations (max_iter) or scale the data as shown in:\n",
      "    https://scikit-learn.org/stable/modules/preprocessing.html\n",
      "Please also refer to the documentation for alternative solver options:\n",
      "    https://scikit-learn.org/stable/modules/linear_model.html#logistic-regression\n",
      "  n_iter_i = _check_optimize_result(\n"
     ]
    },
    {
     "data": {
      "text/plain": [
       "LogisticRegression()"
      ]
     },
     "execution_count": 134,
     "metadata": {},
     "output_type": "execute_result"
    }
   ],
   "source": [
    "lr = LogisticRegression()\n",
    "lr.fit(X_train, y_train)"
   ]
  },
  {
   "cell_type": "code",
   "execution_count": 135,
   "metadata": {},
   "outputs": [
    {
     "data": {
      "text/plain": [
       "0.7869520897043832"
      ]
     },
     "execution_count": 135,
     "metadata": {},
     "output_type": "execute_result"
    }
   ],
   "source": [
    "lr.score(X_train, y_train)"
   ]
  },
  {
   "cell_type": "markdown",
   "metadata": {},
   "source": [
    "## 8.- Evaluación\n",
    "Evaluar el modelo"
   ]
  },
  {
   "cell_type": "markdown",
   "metadata": {},
   "source": [
    "[**EX19**] Normaliza X_test"
   ]
  },
  {
   "cell_type": "code",
   "execution_count": 136,
   "metadata": {},
   "outputs": [],
   "source": [
    "X_test_norm = modelo_normalizacion.transform(X_test)"
   ]
  },
  {
   "cell_type": "markdown",
   "metadata": {},
   "source": [
    "[**EX20**] Aplica el modelo de regr. logística"
   ]
  },
  {
   "cell_type": "code",
   "execution_count": 137,
   "metadata": {},
   "outputs": [
    {
     "data": {
      "text/plain": [
       "array([0., 0., 0., 0., 0., 1., 0., 0., 1., 1., 0., 1., 1., 1., 0., 1., 0.,\n",
       "       1., 0., 0., 1., 1., 1., 1., 0., 1., 0., 0., 1., 1., 1., 1., 1., 0.,\n",
       "       1., 1., 0., 0., 1., 0., 1., 1., 1., 0., 1., 1., 1., 1., 0., 0., 0.,\n",
       "       0., 1., 1., 0., 1., 1., 0., 0., 0., 0., 0., 0., 0., 0., 1., 0., 0.,\n",
       "       1., 0., 0., 1., 0., 1., 1., 0., 1., 0., 0., 0., 0., 1., 0., 0., 0.,\n",
       "       0., 0., 0., 0., 1., 1., 1., 1., 0., 1., 0., 0., 0., 0., 0., 0., 0.,\n",
       "       0., 1., 0., 1., 0., 0., 0., 1., 0., 0., 0., 0., 1., 0., 1., 0., 1.,\n",
       "       1., 0., 0., 0., 0., 1., 0., 1., 0., 1., 0., 1., 0., 1., 1., 0., 1.,\n",
       "       1., 0., 0., 0., 1., 1., 0., 0., 1., 1., 0., 0., 1., 0., 1., 0., 0.,\n",
       "       1., 0., 0., 1., 1., 1., 0., 0., 1., 1., 0., 0., 1., 1., 1., 0., 0.,\n",
       "       0., 0., 1., 0., 0., 0., 0., 1., 1., 1., 1., 0., 1., 1., 1., 0., 0.,\n",
       "       1., 0., 0., 0., 0., 0., 1., 1., 1., 0., 1., 0., 1., 0., 0., 0., 0.,\n",
       "       0., 0., 1., 1., 1., 1., 0., 1., 0., 0., 0., 0., 1., 0., 0., 0., 0.,\n",
       "       0., 0., 0., 0., 0., 1., 0., 0., 0., 0., 1., 1., 0., 1., 1., 0., 1.,\n",
       "       0., 0., 1., 1., 1., 0., 0., 1., 1., 1., 1., 1., 1., 0., 0., 1., 0.,\n",
       "       0., 1., 1., 0., 0., 1., 0., 1., 1., 0., 0., 1., 1., 0., 0., 1., 0.,\n",
       "       1., 1., 0., 1., 0., 0., 1., 1., 0., 1., 1., 0., 1., 1., 0., 0., 1.,\n",
       "       1., 1., 1., 0., 1., 1., 0., 0., 0., 0., 0., 1., 0., 0., 0., 1., 0.,\n",
       "       0., 0., 0., 1., 0., 1., 1., 0., 1., 1., 1., 0., 1., 0., 0., 1., 1.,\n",
       "       1., 0., 1., 0., 0.])"
      ]
     },
     "execution_count": 137,
     "metadata": {},
     "output_type": "execute_result"
    }
   ],
   "source": [
    "predictions = lr.predict(X_test_norm)\n",
    "predictions"
   ]
  },
  {
   "cell_type": "code",
   "execution_count": 138,
   "metadata": {},
   "outputs": [
    {
     "data": {
      "text/plain": [
       "array([[0.89593915, 0.10406085],\n",
       "       [0.74821119, 0.25178881],\n",
       "       [0.95406414, 0.04593586],\n",
       "       [0.82934169, 0.17065831],\n",
       "       [0.77956665, 0.22043335],\n",
       "       [0.05233093, 0.94766907],\n",
       "       [0.75506633, 0.24493367],\n",
       "       [0.84714241, 0.15285759],\n",
       "       [0.07694249, 0.92305751],\n",
       "       [0.09402601, 0.90597399],\n",
       "       [0.79328356, 0.20671644],\n",
       "       [0.30295159, 0.69704841],\n",
       "       [0.1377527 , 0.8622473 ],\n",
       "       [0.72667991, 0.27332009],\n",
       "       [0.89604047, 0.10395953],\n",
       "       [0.22285575, 0.77714425],\n",
       "       [0.87747201, 0.12252799],\n",
       "       [0.60913569, 0.39086431],\n",
       "       [0.86694415, 0.13305585],\n",
       "       [0.92413181, 0.07586819],\n",
       "       [0.19203702, 0.80796298],\n",
       "       [0.10680843, 0.89319157],\n",
       "       [0.79458651, 0.20541349],\n",
       "       [0.32709375, 0.67290625],\n",
       "       [0.77746762, 0.22253238],\n",
       "       [0.45276077, 0.54723923],\n",
       "       [0.88662938, 0.11337062],\n",
       "       [0.88659295, 0.11340705],\n",
       "       [0.2552236 , 0.7447764 ],\n",
       "       [0.20545636, 0.79454364],\n",
       "       [0.23388089, 0.76611911],\n",
       "       [0.37033662, 0.62966338],\n",
       "       [0.25855558, 0.74144442],\n",
       "       [0.90455858, 0.09544142],\n",
       "       [0.59399483, 0.40600517],\n",
       "       [0.4394637 , 0.5605363 ],\n",
       "       [0.91473348, 0.08526652],\n",
       "       [0.78145925, 0.21854075],\n",
       "       [0.60010091, 0.39989909],\n",
       "       [0.88531142, 0.11468858],\n",
       "       [0.71153535, 0.28846465],\n",
       "       [0.44506422, 0.55493578],\n",
       "       [0.73792026, 0.26207974],\n",
       "       [0.90703297, 0.09296703],\n",
       "       [0.08673082, 0.91326918],\n",
       "       [0.36674095, 0.63325905],\n",
       "       [0.09088576, 0.90911424],\n",
       "       [0.4018568 , 0.5981432 ],\n",
       "       [0.8804014 , 0.1195986 ],\n",
       "       [0.88403853, 0.11596147],\n",
       "       [0.88662938, 0.11337062],\n",
       "       [0.83473369, 0.16526631],\n",
       "       [0.37020987, 0.62979013],\n",
       "       [0.6192545 , 0.3807455 ],\n",
       "       [0.93502599, 0.06497401],\n",
       "       [0.21941082, 0.78058918],\n",
       "       [0.26140281, 0.73859719],\n",
       "       [0.84523221, 0.15476779],\n",
       "       [0.88850449, 0.11149551],\n",
       "       [0.78810575, 0.21189425],\n",
       "       [0.92087444, 0.07912556],\n",
       "       [0.66317806, 0.33682194],\n",
       "       [0.79731586, 0.20268414],\n",
       "       [0.94647148, 0.05352852],\n",
       "       [0.75998115, 0.24001885],\n",
       "       [0.58490989, 0.41509011],\n",
       "       [0.81305495, 0.18694505],\n",
       "       [0.88038232, 0.11961768],\n",
       "       [0.21242227, 0.78757773],\n",
       "       [0.75998115, 0.24001885],\n",
       "       [0.84347367, 0.15652633],\n",
       "       [0.61647303, 0.38352697],\n",
       "       [0.85542774, 0.14457226],\n",
       "       [0.55311866, 0.44688134],\n",
       "       [0.33506597, 0.66493403],\n",
       "       [0.8189063 , 0.1810937 ],\n",
       "       [0.21505125, 0.78494875],\n",
       "       [0.93618808, 0.06381192],\n",
       "       [0.79518692, 0.20481308],\n",
       "       [0.89891908, 0.10108092],\n",
       "       [0.86305603, 0.13694397],\n",
       "       [0.22620703, 0.77379297],\n",
       "       [0.89011847, 0.10988153],\n",
       "       [0.87742304, 0.12257696],\n",
       "       [0.87387646, 0.12612354],\n",
       "       [0.82368098, 0.17631902],\n",
       "       [0.88662938, 0.11337062],\n",
       "       [0.90553901, 0.09446099],\n",
       "       [0.89712581, 0.10287419],\n",
       "       [0.50413339, 0.49586661],\n",
       "       [0.75273965, 0.24726035],\n",
       "       [0.0533239 , 0.9466761 ],\n",
       "       [0.32223886, 0.67776114],\n",
       "       [0.80947844, 0.19052156],\n",
       "       [0.21220638, 0.78779362],\n",
       "       [0.95667968, 0.04332032],\n",
       "       [0.9380319 , 0.0619681 ],\n",
       "       [0.84352151, 0.15647849],\n",
       "       [0.8864836 , 0.1135164 ],\n",
       "       [0.77143619, 0.22856381],\n",
       "       [0.85971837, 0.14028163],\n",
       "       [0.88059623, 0.11940377],\n",
       "       [0.86314366, 0.13685634],\n",
       "       [0.0471748 , 0.9528252 ],\n",
       "       [0.88668401, 0.11331599],\n",
       "       [0.66215732, 0.33784268],\n",
       "       [0.7308334 , 0.2691666 ],\n",
       "       [0.83912325, 0.16087675],\n",
       "       [0.66438627, 0.33561373],\n",
       "       [0.10631165, 0.89368835],\n",
       "       [0.91230208, 0.08769792],\n",
       "       [0.85986266, 0.14013734],\n",
       "       [0.88664759, 0.11335241],\n",
       "       [0.870512  , 0.129488  ],\n",
       "       [0.6218223 , 0.3781777 ],\n",
       "       [0.90880482, 0.09119518],\n",
       "       [0.67472212, 0.32527788],\n",
       "       [0.87564863, 0.12435137],\n",
       "       [0.63402058, 0.36597942],\n",
       "       [0.45934384, 0.54065616],\n",
       "       [0.85940557, 0.14059443],\n",
       "       [0.77130318, 0.22869682],\n",
       "       [0.80605804, 0.19394196],\n",
       "       [0.85955875, 0.14044125],\n",
       "       [0.37183611, 0.62816389],\n",
       "       [0.78206267, 0.21793733],\n",
       "       [0.1572639 , 0.8427361 ],\n",
       "       [0.66909941, 0.33090059],\n",
       "       [0.0474961 , 0.9525039 ],\n",
       "       [0.88700257, 0.11299743],\n",
       "       [0.63386586, 0.36613414],\n",
       "       [0.80947844, 0.19052156],\n",
       "       [0.59599468, 0.40400532],\n",
       "       [0.05096532, 0.94903468],\n",
       "       [0.87935867, 0.12064133],\n",
       "       [0.66080028, 0.33919972],\n",
       "       [0.09328945, 0.90671055],\n",
       "       [0.86312226, 0.13687774],\n",
       "       [0.88633765, 0.11366235],\n",
       "       [0.8512838 , 0.1487162 ],\n",
       "       [0.1033672 , 0.8966328 ],\n",
       "       [0.37037887, 0.62962113],\n",
       "       [0.866735  , 0.133265  ],\n",
       "       [0.91477325, 0.08522675],\n",
       "       [0.65947831, 0.34052169],\n",
       "       [0.5848659 , 0.4151341 ],\n",
       "       [0.7119742 , 0.2880258 ],\n",
       "       [0.88038232, 0.11961768],\n",
       "       [0.61534229, 0.38465771],\n",
       "       [0.87280452, 0.12719548],\n",
       "       [0.05146168, 0.94853832],\n",
       "       [0.91805525, 0.08194475],\n",
       "       [0.89304092, 0.10695908],\n",
       "       [0.45981499, 0.54018501],\n",
       "       [0.78542476, 0.21457524],\n",
       "       [0.94972039, 0.05027961],\n",
       "       [0.37809694, 0.62190306],\n",
       "       [0.48024154, 0.51975846],\n",
       "       [0.38214409, 0.61785591],\n",
       "       [0.9239132 , 0.0760868 ],\n",
       "       [0.88659295, 0.11340705],\n",
       "       [0.09188201, 0.90811799],\n",
       "       [0.21663203, 0.78336797],\n",
       "       [0.84758145, 0.15241855],\n",
       "       [0.81701182, 0.18298818],\n",
       "       [0.37033662, 0.62966338],\n",
       "       [0.70552693, 0.29447307],\n",
       "       [0.0571863 , 0.9428137 ],\n",
       "       [0.7695681 , 0.2304319 ],\n",
       "       [0.89057271, 0.10942729],\n",
       "       [0.94892285, 0.05107715],\n",
       "       [0.91806069, 0.08193931],\n",
       "       [0.32769224, 0.67230776],\n",
       "       [0.81236546, 0.18763454],\n",
       "       [0.89312422, 0.10687578],\n",
       "       [0.92181194, 0.07818806],\n",
       "       [0.91955372, 0.08044628],\n",
       "       [0.29953869, 0.70046131],\n",
       "       [0.34953142, 0.65046858],\n",
       "       [0.65736076, 0.34263924],\n",
       "       [0.72812954, 0.27187046],\n",
       "       [0.87708954, 0.12291046],\n",
       "       [0.35741099, 0.64258901],\n",
       "       [0.38254461, 0.61745539],\n",
       "       [0.11226675, 0.88773325],\n",
       "       [0.88662938, 0.11337062],\n",
       "       [0.80947844, 0.19052156],\n",
       "       [0.04693985, 0.95306015],\n",
       "       [0.80947844, 0.19052156],\n",
       "       [0.87028527, 0.12971473],\n",
       "       [0.6973808 , 0.3026192 ],\n",
       "       [0.88027197, 0.11972803],\n",
       "       [0.89512707, 0.10487293],\n",
       "       [0.3500509 , 0.6499491 ],\n",
       "       [0.12970117, 0.87029883],\n",
       "       [0.43034665, 0.56965335],\n",
       "       [0.88659295, 0.11340705],\n",
       "       [0.06283221, 0.93716779],\n",
       "       [0.94145544, 0.05854456],\n",
       "       [0.37323143, 0.62676857],\n",
       "       [0.80947844, 0.19052156],\n",
       "       [0.88696625, 0.11303375],\n",
       "       [0.92603613, 0.07396387],\n",
       "       [0.84610311, 0.15389689],\n",
       "       [0.88542175, 0.11457825],\n",
       "       [0.83610774, 0.16389226],\n",
       "       [0.52149149, 0.47850851],\n",
       "       [0.08196847, 0.91803153],\n",
       "       [0.38451537, 0.61548463],\n",
       "       [0.41132344, 0.58867656],\n",
       "       [0.83920057, 0.16079943],\n",
       "       [0.18970327, 0.81029673],\n",
       "       [0.9240398 , 0.0759602 ],\n",
       "       [0.88673861, 0.11326139],\n",
       "       [0.80272463, 0.19727537],\n",
       "       [0.87038941, 0.12961059],\n",
       "       [0.13975155, 0.86024845],\n",
       "       [0.80947844, 0.19052156],\n",
       "       [0.93236907, 0.06763093],\n",
       "       [0.89308962, 0.10691038],\n",
       "       [0.83070126, 0.16929874],\n",
       "       [0.79808417, 0.20191583],\n",
       "       [0.87385835, 0.12614165],\n",
       "       [0.84523221, 0.15476779],\n",
       "       [0.80264027, 0.19735973],\n",
       "       [0.80970189, 0.19029811],\n",
       "       [0.58784733, 0.41215267],\n",
       "       [0.86329342, 0.13670658],\n",
       "       [0.89314151, 0.10685849],\n",
       "       [0.77120922, 0.22879078],\n",
       "       [0.88027197, 0.11972803],\n",
       "       [0.7212039 , 0.2787961 ],\n",
       "       [0.0926782 , 0.9073218 ],\n",
       "       [0.88662938, 0.11337062],\n",
       "       [0.69589131, 0.30410869],\n",
       "       [0.04693985, 0.95306015],\n",
       "       [0.83802574, 0.16197426],\n",
       "       [0.30444237, 0.69555763],\n",
       "       [0.80993473, 0.19006527],\n",
       "       [0.89891908, 0.10108092],\n",
       "       [0.67996191, 0.32003809],\n",
       "       [0.05879014, 0.94120986],\n",
       "       [0.33498523, 0.66501477],\n",
       "       [0.68840063, 0.31159937],\n",
       "       [0.86683961, 0.13316039],\n",
       "       [0.16828196, 0.83171804],\n",
       "       [0.16314831, 0.83685169],\n",
       "       [0.62843822, 0.37156178],\n",
       "       [0.43034665, 0.56965335],\n",
       "       [0.05263484, 0.94736516],\n",
       "       [0.4083922 , 0.5916078 ],\n",
       "       [0.93813714, 0.06186286],\n",
       "       [0.88662938, 0.11337062],\n",
       "       [0.30382629, 0.69617371],\n",
       "       [0.8973861 , 0.1026139 ],\n",
       "       [0.8393205 , 0.1606795 ],\n",
       "       [0.10651257, 0.89348743],\n",
       "       [0.81165068, 0.18834932],\n",
       "       [0.81817545, 0.18182455],\n",
       "       [0.93243445, 0.06756555],\n",
       "       [0.43828245, 0.56171755],\n",
       "       [0.82090339, 0.17909661],\n",
       "       [0.08670849, 0.91329151],\n",
       "       [0.23104966, 0.76895034],\n",
       "       [0.90964727, 0.09035273],\n",
       "       [0.88673861, 0.11326139],\n",
       "       [0.58557389, 0.41442611],\n",
       "       [0.70304468, 0.29695532],\n",
       "       [0.80947844, 0.19052156],\n",
       "       [0.80264027, 0.19735973],\n",
       "       [0.18225718, 0.81774282],\n",
       "       [0.868995  , 0.131005  ],\n",
       "       [0.37033662, 0.62966338],\n",
       "       [0.29838503, 0.70161497],\n",
       "       [0.90606951, 0.09393049],\n",
       "       [0.44620656, 0.55379344],\n",
       "       [0.8738353 , 0.1261647 ],\n",
       "       [0.83989134, 0.16010866],\n",
       "       [0.12156035, 0.87843965],\n",
       "       [0.16093159, 0.83906841],\n",
       "       [0.85297531, 0.14702469],\n",
       "       [0.64271494, 0.35728506],\n",
       "       [0.31417114, 0.68582886],\n",
       "       [0.84789471, 0.15210529],\n",
       "       [0.04809721, 0.95190279],\n",
       "       [0.13842234, 0.86157766],\n",
       "       [0.8393205 , 0.1606795 ],\n",
       "       [0.88038232, 0.11961768],\n",
       "       [0.62869549, 0.37130451],\n",
       "       [0.3144872 , 0.6855128 ],\n",
       "       [0.16726962, 0.83273038],\n",
       "       [0.07881925, 0.92118075],\n",
       "       [0.88038232, 0.11961768],\n",
       "       [0.72406477, 0.27593523],\n",
       "       [0.80118727, 0.19881273],\n",
       "       [0.87532965, 0.12467035],\n",
       "       [0.90424527, 0.09575473],\n",
       "       [0.98497199, 0.01502801],\n",
       "       [0.92726166, 0.07273834],\n",
       "       [0.85556007, 0.14443993],\n",
       "       [0.13893407, 0.86106593],\n",
       "       [0.89312422, 0.10687578],\n",
       "       [0.88358464, 0.11641536],\n",
       "       [0.66365279, 0.33634721],\n",
       "       [0.58174627, 0.41825373],\n",
       "       [0.88711149, 0.11288851],\n",
       "       [0.75721387, 0.24278613],\n",
       "       [0.88659295, 0.11340705],\n",
       "       [0.89010075, 0.10989925],\n",
       "       [0.78762043, 0.21237957],\n",
       "       [0.74923386, 0.25076614],\n",
       "       [0.57880651, 0.42119349],\n",
       "       [0.28849807, 0.71150193],\n",
       "       [0.924012  , 0.075988  ],\n",
       "       [0.7014531 , 0.2985469 ],\n",
       "       [0.73240539, 0.26759461],\n",
       "       [0.63484177, 0.36515823],\n",
       "       [0.76291947, 0.23708053],\n",
       "       [0.37033662, 0.62966338],\n",
       "       [0.77956665, 0.22043335],\n",
       "       [0.85938368, 0.14061632],\n",
       "       [0.70648882, 0.29351118],\n",
       "       [0.2331034 , 0.7668966 ],\n",
       "       [0.09615652, 0.90384348],\n",
       "       [0.85538085, 0.14461915],\n",
       "       [0.37029437, 0.62970563],\n",
       "       [0.9407367 , 0.0592633 ],\n",
       "       [0.80947844, 0.19052156]])"
      ]
     },
     "execution_count": 138,
     "metadata": {},
     "output_type": "execute_result"
    }
   ],
   "source": [
    "# Obtenemos las probabilidades que predice el modelo y a partir de las cuales el modelo clasifica.\n",
    "# En la primera columna vemos la probabilidad (Cómo de seguro está?) y, en la segunda, observamos la \n",
    "# probabilidad del valor de salida: ha sobrevivido o no. En base al umbral de 0,5.\n",
    "probability = lr.predict_proba(X_test)\n",
    "probability"
   ]
  },
  {
   "cell_type": "markdown",
   "metadata": {},
   "source": [
    "[**EX21**] Medidas de AUC, Accuracy y Matriz de Confusion"
   ]
  },
  {
   "cell_type": "code",
   "execution_count": 139,
   "metadata": {},
   "outputs": [
    {
     "data": {
      "text/plain": [
       "0.7774944756076833"
      ]
     },
     "execution_count": 139,
     "metadata": {},
     "output_type": "execute_result"
    }
   ],
   "source": [
    "# ROC - AUC\n",
    "metrics.roc_auc_score(y_test, predictions)"
   ]
  },
  {
   "cell_type": "code",
   "execution_count": 140,
   "metadata": {},
   "outputs": [
    {
     "data": {
      "text/plain": [
       "0.7621951219512195"
      ]
     },
     "execution_count": 140,
     "metadata": {},
     "output_type": "execute_result"
    }
   ],
   "source": [
    "# Accuracy\n",
    "metrics.accuracy_score(y_test, predictions)"
   ]
  },
  {
   "cell_type": "code",
   "execution_count": 141,
   "metadata": {},
   "outputs": [
    {
     "data": {
      "text/plain": [
       "0.5958904109589042"
      ]
     },
     "execution_count": 141,
     "metadata": {},
     "output_type": "execute_result"
    }
   ],
   "source": [
    "# Precision\n",
    "metrics.precision_score(y_test, predictions)"
   ]
  },
  {
   "cell_type": "code",
   "execution_count": 142,
   "metadata": {},
   "outputs": [
    {
     "data": {
      "text/plain": [
       "0.8207547169811321"
      ]
     },
     "execution_count": 142,
     "metadata": {},
     "output_type": "execute_result"
    }
   ],
   "source": [
    "# Recall\n",
    "metrics.recall_score(y_test, predictions)"
   ]
  },
  {
   "cell_type": "code",
   "execution_count": 143,
   "metadata": {},
   "outputs": [
    {
     "data": {
      "text/plain": [
       "0.6904761904761905"
      ]
     },
     "execution_count": 143,
     "metadata": {},
     "output_type": "execute_result"
    }
   ],
   "source": [
    "# Fscore\n",
    "metrics.f1_score(y_test, predictions)"
   ]
  },
  {
   "cell_type": "code",
   "execution_count": 144,
   "metadata": {},
   "outputs": [
    {
     "name": "stdout",
     "output_type": "stream",
     "text": [
      "\u001b[1mAccuracy for Decision Tree \u001b[0m \n",
      "\n",
      "Accuracy:  0.7621951219512195\n",
      "              precision    recall  f1-score   support\n",
      "\n",
      "         Yes       0.90      0.73      0.81       222\n",
      "          No       0.60      0.82      0.69       106\n",
      "\n",
      "    accuracy                           0.76       328\n",
      "   macro avg       0.75      0.78      0.75       328\n",
      "weighted avg       0.80      0.76      0.77       328\n",
      "\n"
     ]
    }
   ],
   "source": [
    "print('\\033[1m' + 'Accuracy for Decision Tree','\\033[0m', '\\n')\n",
    "\n",
    "print ('Accuracy: ', metrics.accuracy_score(y_test, predictions) )\n",
    "\n",
    "print(metrics.classification_report(y_test, predictions,target_names=target_categorical.unique()))"
   ]
  },
  {
   "cell_type": "code",
   "execution_count": 149,
   "metadata": {},
   "outputs": [
    {
     "name": "stdout",
     "output_type": "stream",
     "text": [
      "\u001b[1mConfusion Matrix for Logistic Regression \u001b[0m \n",
      "\n"
     ]
    },
    {
     "data": {
      "text/plain": [
       "<sklearn.metrics._plot.confusion_matrix.ConfusionMatrixDisplay at 0x24d3f31df10>"
      ]
     },
     "execution_count": 149,
     "metadata": {},
     "output_type": "execute_result"
    },
    {
     "data": {
      "image/png": "[encoded data removed]",
      "text/plain": [
       "<Figure size 432x288 with 2 Axes>"
      ]
     },
     "metadata": {},
     "output_type": "display_data"
    }
   ],
   "source": [
    "print('\\033[1m' + 'Confusion Matrix for Logistic Regression','\\033[0m', '\\n')\n",
    "\n",
    "# The next plot is more beatiful than the commented one\n",
    "#cm_lr = metrics.confusion_matrix(y_test, predictions)\n",
    "#print(cm_lr)\n",
    "\n",
    "metrics.plot_confusion_matrix(lr, X_test, y_test)"
   ]
  },
  {
   "cell_type": "markdown",
   "metadata": {},
   "source": [
    "## 9.- Mejoras"
   ]
  },
  {
   "cell_type": "markdown",
   "metadata": {},
   "source": [
    "#### Para mejorar el modelo con una mejor selección de variables"
   ]
  },
  {
   "cell_type": "code",
   "execution_count": 37,
   "metadata": {},
   "outputs": [],
   "source": [
    "# Fijamos el número final de variables que vamos a emplear para el modelo logístico.\n",
    "n_features = 5\n",
    "lr = LogisticRegression()\n",
    "# Utilizamos el método RFE para elegir el número de variables que hemos seleccionado.\n",
    "rfe = RFE(lr, n_features_to_select=n_features)\n",
    "rfe = rfe.fit(X_train, y_train)"
   ]
  },
  {
   "cell_type": "code",
   "execution_count": 38,
   "metadata": {},
   "outputs": [
    {
     "data": {
      "text/plain": [
       "[('Age', True, 1),\n",
       " ('No of Siblings or Spouses on Board', False, 2),\n",
       " ('No of Parents or Children on Board', False, 6),\n",
       " ('Passenger Fare', False, 7),\n",
       " ('Passenger Class_First', True, 1),\n",
       " ('Passenger Class_Second', False, 5),\n",
       " ('Passenger Class_Third', True, 1),\n",
       " ('Sex_Female', True, 1),\n",
       " ('Sex_Male', True, 1),\n",
       " ('Port of Embarkation_Cherbourg', False, 3),\n",
       " ('Port of Embarkation_Queenstown', False, 8),\n",
       " ('Port of Embarkation_Southampton', False, 4)]"
      ]
     },
     "execution_count": 38,
     "metadata": {},
     "output_type": "execute_result"
    }
   ],
   "source": [
    "# Ranking de las variables que podríamos seleccionar como definitivas:\n",
    "ranking = zip(df.columns, rfe.support_, rfe.ranking_)\n",
    "list(ranking)\n",
    "# Vemos con True las variables que han salido seleccionadas para nuestro modelo:\n",
    "# \"Age\", \"Passenger Class_First\", \"Passenger Class_Third\", \"Sex_Female\", \"Sex_Male\""
   ]
  }
 ],
 "metadata": {
  "kernelspec": {
   "display_name": "Python 3 (ipykernel)",
   "language": "python",
   "name": "python3"
  },
  "language_info": {
   "codemirror_mode": {
    "name": "ipython",
    "version": 3
   },
   "file_extension": ".py",
   "mimetype": "text/x-python",
   "name": "python",
   "nbconvert_exporter": "python",
   "pygments_lexer": "ipython3",
   "version": "3.9.7"
  }
 },
 "nbformat": 4,
 "nbformat_minor": 4
}
