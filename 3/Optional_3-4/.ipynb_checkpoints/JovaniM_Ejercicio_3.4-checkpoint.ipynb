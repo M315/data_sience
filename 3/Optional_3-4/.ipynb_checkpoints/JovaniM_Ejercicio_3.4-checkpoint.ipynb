{
 "cells": [
  {
   "cell_type": "markdown",
   "id": "0b358988",
   "metadata": {},
   "source": [
    "# 3.4"
   ]
  },
  {
   "cell_type": "code",
   "execution_count": 1,
   "id": "19c81b75",
   "metadata": {},
   "outputs": [],
   "source": [
    "import pandas as pd\n",
    "import json\n",
    "import requests"
   ]
  },
  {
   "cell_type": "markdown",
   "id": "9df0b642",
   "metadata": {},
   "source": [
    "## ETL's"
   ]
  },
  {
   "cell_type": "markdown",
   "id": "8de61c73",
   "metadata": {},
   "source": [
    "### Purchases"
   ]
  },
  {
   "cell_type": "code",
   "execution_count": 2,
   "id": "abdc6749",
   "metadata": {},
   "outputs": [],
   "source": [
    "# Helper funcion to clean the data\n",
    "def find_index(s):\n",
    "    cmp = \": G\"\n",
    "    n = len(cmp)\n",
    "    \n",
    "    for i in range(len(s) - n):\n",
    "        if s[i : i + n] == cmp[:]:\n",
    "            return i + n - 1\n",
    "    return -1\n",
    "\n",
    "# Get data from file\n",
    "purchases = pd.read_csv('data/log_Purchases.log', sep = \"}\", header = None).values[0][:-1]\n",
    "\n",
    "# Transform the json's to dictionaries\n",
    "for i in range(len(purchases)):\n",
    "    j = find_index(purchases[i])\n",
    "    if j != -1:\n",
    "        purchases[i] = purchases[i][:j] + \"\\\"\" + purchases[i][j : j + 10] + \"\\\"\" + purchases[i][j + 10:]\n",
    "    purchases[i] = json.loads(purchases[i][1:]+'}')\n",
    "    \n",
    "    if purchases[i][\"currency\"] == \"unknown\":\n",
    "        purchases[i][\"currency\"] = 'USD'"
   ]
  },
  {
   "cell_type": "markdown",
   "id": "93277ae7",
   "metadata": {},
   "source": [
    "### New Users"
   ]
  },
  {
   "cell_type": "code",
   "execution_count": 3,
   "id": "dd5dc00c",
   "metadata": {},
   "outputs": [],
   "source": [
    "# Get data from file\n",
    "new_users = pd.read_csv('data/log_NewUsers.log', sep = \"}\", header = None).values[0][:-1]\n",
    "\n",
    "# Transform the json's to dictionaries\n",
    "for i in range(len(new_users)):\n",
    "    new_users[i] = json.loads(new_users[i][1:]+'}')"
   ]
  },
  {
   "cell_type": "markdown",
   "id": "0f43dcef",
   "metadata": {},
   "source": [
    "### Exchange rates form api"
   ]
  },
  {
   "cell_type": "code",
   "execution_count": 4,
   "id": "eeead157",
   "metadata": {},
   "outputs": [
    {
     "data": {
      "text/plain": [
       "\"\\n# Get the exchange data\\nexchange_rates = get_exchange_data(purchases)\\n\\n\\n# Convert the json's recived from the api to json's and store it in a pandas Series \\ndata = pd.Series([json.dumps(e) for e in exchange_rates])\\n\\n# Write the data to a csv file\\ndata.to_csv('data/exchange_rates.csv')\\n\""
      ]
     },
     "execution_count": 4,
     "metadata": {},
     "output_type": "execute_result"
    }
   ],
   "source": [
    "# Function to get the exchange rates of the dates in purchases file\n",
    "def get_exchange_data(purchase):\n",
    "    # Get the dates of purchases\n",
    "    dates = set([p[\"datetime\"].split(\" \")[0] for p in purchase])\n",
    "\n",
    "    exchange_rates = []\n",
    "    \n",
    "    for date in dates:\n",
    "        # Generate the url to call the api\n",
    "        api = \"http://api.exchangeratesapi.io/v1/\"\n",
    "        api += date\n",
    "        api += \"?access_key=213ab9d91cd8150dbd682ba2d13a9a17\"\n",
    "        #api += \"&base=USD\"\n",
    "        api += \"&sybols=USD,EUR,GBP,CHF\"\n",
    "        \n",
    "        # Call the api\n",
    "        request = requests.get(api)\n",
    "        \n",
    "        # Store the results on a list\n",
    "        exchange_rates.append(request.json())\n",
    "    \n",
    "    return exchange_rates\n",
    "\n",
    "# Uncomment if you want the api to load the data\n",
    "\"\"\"\n",
    "# Get the exchange data\n",
    "exchange_rates = get_exchange_data(purchases)\n",
    "\n",
    "\n",
    "# Convert the json's recived from the api to json's and store it in a pandas Series \n",
    "data = pd.Series([json.dumps(e) for e in exchange_rates])\n",
    "\n",
    "# Write the data to a csv file\n",
    "data.to_csv('data/exchange_rates.csv')\n",
    "\"\"\""
   ]
  },
  {
   "cell_type": "code",
   "execution_count": 5,
   "id": "4b3769c5",
   "metadata": {},
   "outputs": [],
   "source": [
    "# Get the exchange data from the csv generated before\n",
    "exchanges = [json.loads(a) for a in pd.read_csv('data/exchange_rates.csv', header = None, index_col = 0, squeeze = True)[0:]]\n",
    "\n",
    "# Transform the data to a dictionary indexed by the dates and containing the exchanges of the keys that are present on the purchases\n",
    "ex_rates = {}\n",
    "for e in exchanges:\n",
    "    ex_rates[e[\"date\"]] = {'EUR' : e[\"rates\"][\"EUR\"], 'USD' : e[\"rates\"][\"USD\"], 'GBP' : e[\"rates\"][\"GBP\"], 'CHF' : e[\"rates\"][\"CHF\"]}"
   ]
  },
  {
   "cell_type": "markdown",
   "id": "66058de7",
   "metadata": {},
   "source": [
    "## Computations"
   ]
  },
  {
   "cell_type": "code",
   "execution_count": 6,
   "id": "5b193271",
   "metadata": {},
   "outputs": [],
   "source": [
    "def income(purchase, exchange_rates):\n",
    "    # Get the exchange rate of the purchase given the date and the currency\n",
    "    rate = exchange_rates[purchase[\"datetime\"].split(' ')[0]][purchase[\"currency\"]]\n",
    "\n",
    "    # Add the price converted to EUR to the total\n",
    "    return purchase[\"order_amount_gross\"] / rate\n",
    "    \n",
    "#Compute the total income\n",
    "def total_income(purchases, exchange_rates):\n",
    "    total = 0\n",
    "    for p in purchases:\n",
    "        # Add income to the total\n",
    "        total += income(p, exchange_rates)\n",
    "    \n",
    "    return total\n",
    "\n",
    "def income_by_country(purchases, exchange_rates):\n",
    "    # Initialize a dictionary indexed by the countries that contains the total income for the country and the users\n",
    "    countries = {p[\"ip_country\"] : {\"income\" : 0, \"users\" : set()} for p in purchases}\n",
    "    \n",
    "    for p in purchases:\n",
    "        # Add payment to the country\n",
    "        countries[p[\"ip_country\"]][\"income\"]  += income(p, exchange_rates)\n",
    "        # Add the user to the country\n",
    "        countries[p[\"ip_country\"]][\"users\"].add(p[\"user_id\"])\n",
    "        \n",
    "    return countries\n",
    "\n",
    "def income_by_resiter_date(new_users, purchases, exchange_rates):\n",
    "    # Initialize a dictionary indexed by the user_id's that contains the date they registered\n",
    "    dates_user = {user[\"user_id\"] : user[\"datetime\"].split(' ')[0] for user in new_users}\n",
    "\n",
    "    # Initialize a dictionary indexed by the dates that contains the income from the users that registered that day\n",
    "    date_income = {p[\"datetime\"].split(' ')[0] : 0 for p in purchases}\n",
    "    for p in purchases:\n",
    "        # If the date of the purchase is the same that the one when the user registered then add it\n",
    "        if dates_user[p[\"user_id\"]] == p[\"datetime\"].split(' ')[0]:\n",
    "            date_income[p[\"datetime\"].split(' ')[0]] += income(p, exchange_rates)\n",
    "\n",
    "    # Convert the dictionary to a list containing only the dates in february ordered \n",
    "    return sorted([(date, value) for (date, value) in date_income.items() if date >= '2021-02-01'])"
   ]
  },
  {
   "cell_type": "code",
   "execution_count": 7,
   "id": "298cb044",
   "metadata": {},
   "outputs": [
    {
     "name": "stdout",
     "output_type": "stream",
     "text": [
      "Volumen total de ingresos generados:  72542.45505115224 \n",
      "\n",
      "Número total de pagos:  2861 \n",
      "\n",
      "Número total de jugadores:  102941 \n",
      "\n",
      "Número total de jugadores que han realizado alguna compra:  699 \n",
      "\n",
      "Promedio de ingresos generados por jugador:  0.704699342838638 \n",
      "\n",
      "Promedio de pagos por jugador:  0.027792619073061266 \n",
      "\n",
      "Promedio de ingresos por comprador agrupado por el país desde el que se registraron:\n",
      "\t CL :  87.68302957885926\n",
      "\t BR :  99.16995049059311\n",
      "\t AU :  116.82727345538085\n",
      "\t MY :  119.2598857191774\n",
      "\t CR :  95.19741268969169\n",
      "\t NZ :  85.20965043770808\n",
      "\t ID :  100.26733195295658\n",
      "\t AR :  49.602076964682304\n",
      "\t PH :  18.576274236354436\n",
      "\t VN :  7.510919939288205\n",
      "\t MV :  8.716488944633157\n",
      "\t ZA :  54.80264573853317\n",
      "\t BN :  17.909810443913937\n",
      "\t LK :  57.39418936093888\n",
      "\t GA :  3.8557410171980697\n",
      "\t ZW :  202.3607562396504\n",
      "\t PY :  21.14310689161744\n",
      "\t GF :  90.37544533579108\n",
      "\t GH :  81.64253261571315\n",
      "\t MZ :  21.85547548321636\n",
      "\t PA :  69.24922702091246\n",
      "\t LR :  176.95350724023518\n",
      "\t NG :  54.02828077654826\n",
      "\t CO :  57.37300556550942\n",
      "\t PF :  7.73925235876928\n",
      "\t MQ :  11.954731987347339\n",
      "\t VE :  94.0806253525744\n",
      "\n",
      "\n",
      "Ingresos totales por día de registro\n",
      "\n",
      "\t 2021-02-01 :  129.10502159451568\n",
      "\t 2021-02-02 :  27.18792010715782\n",
      "\t 2021-02-03 :  34.81827975510155\n",
      "\t 2021-02-04 :  69.9337177556276\n",
      "\t 2021-02-05 :  79.47672578570479\n",
      "\t 2021-02-06 :  277.95310624452134\n",
      "\t 2021-02-07 :  148.79877572645088\n",
      "\t 2021-02-08 :  28.532439562552717\n",
      "\t 2021-02-09 :  95.02716282936282\n",
      "\t 2021-02-10 :  101.97804324370662\n",
      "\t 2021-02-11 :  82.15067854916552\n",
      "\t 2021-02-12 :  53.865587544985644\n",
      "\t 2021-02-13 :  15.465177150621601\n",
      "\t 2021-02-14 :  71.01923957987358\n",
      "\t 2021-02-15 :  0\n",
      "\t 2021-02-16 :  234.12468661390747\n",
      "\t 2021-02-17 :  114.66464476055557\n",
      "\t 2021-02-18 :  22.74257402290353\n",
      "\t 2021-02-19 :  721.4152591663644\n",
      "\t 2021-02-20 :  43.93275334223504\n",
      "\t 2021-02-21 :  151.452222801223\n",
      "\t 2021-02-22 :  191.5580854362681\n",
      "\t 2021-02-23 :  80.44641823286547\n",
      "\t 2021-02-24 :  114.27264794776596\n",
      "\t 2021-02-25 :  6.494923890408863\n",
      "\t 2021-02-26 :  69.43784359089253\n",
      "\t 2021-02-27 :  166.14063442706745\n",
      "\t 2021-02-28 :  422.7316714713636\n"
     ]
    }
   ],
   "source": [
    "# Total income\n",
    "print(\"Volumen total de ingresos generados: \", total_income(purchases, ex_rates), \"\\n\")\n",
    "\n",
    "# Number of pauments\n",
    "print(\"Número total de pagos: \", len(purchases), \"\\n\")\n",
    "\n",
    "# Number of players\n",
    "print(\"Número total de jugadores: \", len(new_users), \"\\n\")\n",
    "\n",
    "# Number of players that have done a purchase\n",
    "print(\"Número total de jugadores que han realizado alguna compra: \", len(set([x[\"user_id\"] for x in purchases])), \"\\n\")\n",
    "\n",
    "# Average income by user\n",
    "print(\"Promedio de ingresos generados por jugador: \", total_income(purchases, ex_rates) / len(new_users), \"\\n\")\n",
    "\n",
    "# Average payments by user\n",
    "print(\"Promedio de pagos por jugador: \", len(purchases) / len(new_users), \"\\n\")\n",
    "\n",
    "# Average per buyer gruped by country\n",
    "print(\"Promedio de ingresos por comprador agrupado por el país desde el que se registraron:\")\n",
    "for (country, value) in income_by_country(purchases, ex_rates).items():\n",
    "    print(\"\\t\", country, \": \", value[\"income\"] / len(value[\"users\"]))\n",
    "print(\"\\n\")\n",
    "\n",
    "# Total income by day of registration\n",
    "print(\"Ingresos totales por día de registro\\n\")\n",
    "for (date, value) in income_by_resiter_date(new_users, purchases, ex_rates):\n",
    "    print(\"\\t\", date, \": \", value)"
   ]
  }
 ],
 "metadata": {
  "kernelspec": {
   "display_name": "Python 3 (ipykernel)",
   "language": "python",
   "name": "python3"
  },
  "language_info": {
   "codemirror_mode": {
    "name": "ipython",
    "version": 3
   },
   "file_extension": ".py",
   "mimetype": "text/x-python",
   "name": "python",
   "nbconvert_exporter": "python",
   "pygments_lexer": "ipython3",
   "version": "3.9.7"
  }
 },
 "nbformat": 4,
 "nbformat_minor": 5
}
