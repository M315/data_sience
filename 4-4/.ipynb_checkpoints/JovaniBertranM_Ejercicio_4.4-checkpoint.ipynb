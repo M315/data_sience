{
 "cells": [
  {
   "cell_type": "markdown",
   "id": "4e1f2e54",
   "metadata": {},
   "source": [
    "# 4.4"
   ]
  },
  {
   "cell_type": "code",
   "execution_count": 1,
   "id": "7bf6356c",
   "metadata": {},
   "outputs": [],
   "source": [
    "import pandas as pd\n",
    "import numpy as np\n",
    "\n",
    "import seaborn as sns\n",
    "import matplotlib.pyplot as plt\n",
    "\n",
    "from scipy import stats\n",
    "\n",
    "from sklearn import metrics\n",
    "from sklearn.preprocessing import StandardScaler\n",
    "from sklearn.preprocessing import Normalizer\n",
    "from sklearn.linear_model import LinearRegression\n",
    "from sklearn.ensemble import RandomForestRegressor\n",
    "from sklearn.neural_network import MLPRegressor\n",
    "from sklearn.model_selection import train_test_split\n",
    "\n",
    "import torch\n",
    "import torch.nn as nn\n",
    "from torch.autograd import Variable\n",
    "from torch.utils.data import DataLoader"
   ]
  },
  {
   "cell_type": "markdown",
   "id": "be39d11b",
   "metadata": {},
   "source": [
    "## Load Data"
   ]
  },
  {
   "cell_type": "code",
   "execution_count": 2,
   "id": "60289c95",
   "metadata": {},
   "outputs": [],
   "source": [
    "# Get train data data\n",
    "\n",
    "train_1 = pd.read_csv('data/train_1.csv')\n",
    "train_2 = pd.read_csv('data/train_2.csv')\n",
    "\n",
    "train = pd.merge(train_1, train_2, on=\"ID\")\n",
    "\n",
    "# Get test data data\n",
    "\n",
    "predict_1 = pd.read_csv('data/predict_1.csv')\n",
    "predict_2 = pd.read_csv('data/predict_2.csv')\n",
    "\n",
    "predict = pd.merge(predict_1, predict_2, on=\"ID\")"
   ]
  },
  {
   "cell_type": "code",
   "execution_count": 3,
   "id": "619e393b",
   "metadata": {},
   "outputs": [],
   "source": [
    "# Function that shows basin information of the data frame:\n",
    "\n",
    "def show_df(df):\n",
    "    print(\"Data Frame:\\n\\n\", df.head())\n",
    "    print(\"\\nShape: \",df.shape)\n",
    "    print(\"\\nNulls:\\n\", df.isnull().values.sum())\n",
    "    print(\"\\nDuplicados:\\n\", df.duplicated().values.sum())\n",
    "    print(\"\\nTypes:\")\n",
    "    for column in df:\n",
    "        print(\"\\t\", '{:<20}'.format(column), '{:>8}'.format(str(df[column].dtype)))"
   ]
  },
  {
   "cell_type": "code",
   "execution_count": 4,
   "id": "7b1f4656",
   "metadata": {},
   "outputs": [
    {
     "name": "stdout",
     "output_type": "stream",
     "text": [
      "Data Frame:\n",
      "\n",
      "    ID    zn  chas     rm     dis  rad  tax  medv     crim  indus    nox   age  \\\n",
      "0   1  18.0     0  6.575  4.0900    1  296  24.0  0.00632   2.31  0.538  65.2   \n",
      "1   2   0.0     0  6.421  4.9671    2  242  21.6  0.02731   7.07  0.469  78.9   \n",
      "2   4   0.0     0  6.998  6.0622    3  222  33.4  0.03237   2.18  0.458  45.8   \n",
      "3   5   0.0     0  7.147  6.0622    3  222  36.2  0.06905   2.18  0.458  54.2   \n",
      "4   7  12.5     0  6.012  5.5605    5  311  22.9  0.08829   7.87  0.524  66.6   \n",
      "\n",
      "   ptratio   black  lstat  \n",
      "0     15.3  396.90   4.98  \n",
      "1     17.8  396.90   9.14  \n",
      "2     18.7  394.63   2.94  \n",
      "3     18.7  396.90   5.33  \n",
      "4     15.2  395.60  12.43  \n",
      "\n",
      "Shape:  (333, 15)\n",
      "\n",
      "Nulls:\n",
      " 0\n",
      "\n",
      "Duplicados:\n",
      " 0\n",
      "\n",
      "Types:\n",
      "\t ID                      int64\n",
      "\t zn                    float64\n",
      "\t chas                    int64\n",
      "\t rm                    float64\n",
      "\t dis                   float64\n",
      "\t rad                     int64\n",
      "\t tax                     int64\n",
      "\t medv                  float64\n",
      "\t crim                  float64\n",
      "\t indus                 float64\n",
      "\t nox                   float64\n",
      "\t age                   float64\n",
      "\t ptratio               float64\n",
      "\t black                 float64\n",
      "\t lstat                 float64\n"
     ]
    }
   ],
   "source": [
    "show_df(train)"
   ]
  },
  {
   "cell_type": "markdown",
   "id": "c3f04231",
   "metadata": {},
   "source": [
    "## Clean Data\n",
    "\n",
    "Vemos que no hay ni elementos duplicados ni nulos. Vamos a ver si hay outliers."
   ]
  },
  {
   "cell_type": "code",
   "execution_count": 5,
   "id": "2a42d56b",
   "metadata": {},
   "outputs": [],
   "source": [
    "# Function that shows basic statistical quantities of each column of the DataFrame\n",
    "\n",
    "def statistics(df):\n",
    "    print('{:<23}'.format('Column'), '{:<23}'.format('Mean'), '{:<23}'.format('Std'), '{:<10}'.format('Median'), '{:<10}'.format('Min'), '{:<10}'.format('Max'),'\\n')\n",
    "    for col in df:\n",
    "        print('{:<23}'.format(col), '{:<23}'.format(df[col].mean()), '{:<23}'.format(df[col].std()), '{:<10}'.format(df[col].median()), '{:<10}'.format(df[col].min()), '{:<10}'.format(df[col].max()))"
   ]
  },
  {
   "cell_type": "code",
   "execution_count": 6,
   "id": "db2300fa",
   "metadata": {},
   "outputs": [
    {
     "name": "stdout",
     "output_type": "stream",
     "text": [
      "Column                  Mean                    Std                     Median     Min        Max        \n",
      "\n",
      "ID                      250.95195195195194      147.85943780185968      244.0      1          506       \n",
      "zn                      10.68918918918919       22.674761796618185      0.0        0.0        100.0     \n",
      "chas                    0.06006006006006006     0.23795564281644857     0.0        0          1         \n",
      "rm                      6.265618618618616       0.7039515757334481      6.202      3.561      8.725     \n",
      "dis                     3.7099336336336335      1.9811230514407006      3.0923     1.1296     10.7103   \n",
      "rad                     9.633633633633634       8.742174349631075       5.0        1          24        \n",
      "tax                     409.27927927927925      170.84198846058226      330.0      188        711       \n",
      "medv                    22.768768768768783      9.17346802731542        21.6       5.0        50.0      \n",
      "crim                    3.3603414714714708      7.3522718367811075      0.26169    0.00632    73.5341   \n",
      "indus                   11.29348348348346       6.998123104477307       9.9        0.74       27.74     \n",
      "nox                     0.557144144144145       0.114954508302893       0.538      0.385      0.871     \n",
      "age                     68.22642642642641       28.13334360562339       76.7       6.0        100.0     \n",
      "ptratio                 18.448048048047994      2.151821329439083       19.0       12.6       21.2      \n",
      "black                   359.4660960960953       86.584566857184         392.05     3.5        396.9     \n",
      "lstat                   12.515435435435432      7.067780803585784       10.97      1.73       37.97     \n"
     ]
    }
   ],
   "source": [
    "# Check the statistics to find if there are outliers or unbalanced columns\n",
    "statistics(train)"
   ]
  },
  {
   "cell_type": "code",
   "execution_count": 7,
   "id": "3854ad8c",
   "metadata": {},
   "outputs": [
    {
     "name": "stdout",
     "output_type": "stream",
     "text": [
      "\n",
      "--------------------  ID  --------------------\n",
      "\n"
     ]
    },
    {
     "data": {
      "image/png": "[encoded data removed]",
      "text/plain": [
       "<Figure size 720x360 with 1 Axes>"
      ]
     },
     "metadata": {
      "needs_background": "light"
     },
     "output_type": "display_data"
    },
    {
     "name": "stdout",
     "output_type": "stream",
     "text": [
      "\n",
      "--------------------  zn  --------------------\n",
      "\n"
     ]
    },
    {
     "data": {
      "image/png": "[encoded data removed]",
      "text/plain": [
       "<Figure size 720x360 with 1 Axes>"
      ]
     },
     "metadata": {
      "needs_background": "light"
     },
     "output_type": "display_data"
    },
    {
     "name": "stdout",
     "output_type": "stream",
     "text": [
      "\n",
      "--------------------  chas  --------------------\n",
      "\n"
     ]
    },
    {
     "data": {
      "image/png": "[encoded data removed]",
      "text/plain": [
       "<Figure size 720x360 with 1 Axes>"
      ]
     },
     "metadata": {
      "needs_background": "light"
     },
     "output_type": "display_data"
    },
    {
     "name": "stdout",
     "output_type": "stream",
     "text": [
      "\n",
      "--------------------  rm  --------------------\n",
      "\n"
     ]
    },
    {
     "data": {
      "image/png": "[encoded data removed]",
      "text/plain": [
       "<Figure size 720x360 with 1 Axes>"
      ]
     },
     "metadata": {
      "needs_background": "light"
     },
     "output_type": "display_data"
    },
    {
     "name": "stdout",
     "output_type": "stream",
     "text": [
      "\n",
      "--------------------  dis  --------------------\n",
      "\n"
     ]
    },
    {
     "data": {
      "image/png": "[encoded data removed]",
      "text/plain": [
       "<Figure size 720x360 with 1 Axes>"
      ]
     },
     "metadata": {
      "needs_background": "light"
     },
     "output_type": "display_data"
    },
    {
     "name": "stdout",
     "output_type": "stream",
     "text": [
      "\n",
      "--------------------  rad  --------------------\n",
      "\n"
     ]
    },
    {
     "data": {
      "image/png": "[encoded data removed]",
      "text/plain": [
       "<Figure size 720x360 with 1 Axes>"
      ]
     },
     "metadata": {
      "needs_background": "light"
     },
     "output_type": "display_data"
    },
    {
     "name": "stdout",
     "output_type": "stream",
     "text": [
      "\n",
      "--------------------  tax  --------------------\n",
      "\n"
     ]
    },
    {
     "data": {
      "image/png": "[encoded data removed]",
      "text/plain": [
       "<Figure size 720x360 with 1 Axes>"
      ]
     },
     "metadata": {
      "needs_background": "light"
     },
     "output_type": "display_data"
    },
    {
     "name": "stdout",
     "output_type": "stream",
     "text": [
      "\n",
      "--------------------  medv  --------------------\n",
      "\n"
     ]
    },
    {
     "data": {
      "image/png": "[encoded data removed]",
      "text/plain": [
       "<Figure size 720x360 with 1 Axes>"
      ]
     },
     "metadata": {
      "needs_background": "light"
     },
     "output_type": "display_data"
    },
    {
     "name": "stdout",
     "output_type": "stream",
     "text": [
      "\n",
      "--------------------  crim  --------------------\n",
      "\n"
     ]
    },
    {
     "data": {
      "image/png": "[encoded data removed]",
      "text/plain": [
       "<Figure size 720x360 with 1 Axes>"
      ]
     },
     "metadata": {
      "needs_background": "light"
     },
     "output_type": "display_data"
    },
    {
     "name": "stdout",
     "output_type": "stream",
     "text": [
      "\n",
      "--------------------  indus  --------------------\n",
      "\n"
     ]
    },
    {
     "data": {
      "image/png": "[encoded data removed]",
      "text/plain": [
       "<Figure size 720x360 with 1 Axes>"
      ]
     },
     "metadata": {
      "needs_background": "light"
     },
     "output_type": "display_data"
    },
    {
     "name": "stdout",
     "output_type": "stream",
     "text": [
      "\n",
      "--------------------  nox  --------------------\n",
      "\n"
     ]
    },
    {
     "data": {
      "image/png": "[encoded data removed]",
      "text/plain": [
       "<Figure size 720x360 with 1 Axes>"
      ]
     },
     "metadata": {
      "needs_background": "light"
     },
     "output_type": "display_data"
    },
    {
     "name": "stdout",
     "output_type": "stream",
     "text": [
      "\n",
      "--------------------  age  --------------------\n",
      "\n"
     ]
    },
    {
     "data": {
      "image/png": "[encoded data removed]",
      "text/plain": [
       "<Figure size 720x360 with 1 Axes>"
      ]
     },
     "metadata": {
      "needs_background": "light"
     },
     "output_type": "display_data"
    },
    {
     "name": "stdout",
     "output_type": "stream",
     "text": [
      "\n",
      "--------------------  ptratio  --------------------\n",
      "\n"
     ]
    },
    {
     "data": {
      "image/png": "[encoded data removed]",
      "text/plain": [
       "<Figure size 720x360 with 1 Axes>"
      ]
     },
     "metadata": {
      "needs_background": "light"
     },
     "output_type": "display_data"
    },
    {
     "name": "stdout",
     "output_type": "stream",
     "text": [
      "\n",
      "--------------------  black  --------------------\n",
      "\n"
     ]
    },
    {
     "data": {
      "image/png": "[encoded data removed]",
      "text/plain": [
       "<Figure size 720x360 with 1 Axes>"
      ]
     },
     "metadata": {
      "needs_background": "light"
     },
     "output_type": "display_data"
    },
    {
     "name": "stdout",
     "output_type": "stream",
     "text": [
      "\n",
      "--------------------  lstat  --------------------\n",
      "\n"
     ]
    },
    {
     "data": {
      "image/png": "[encoded data removed]",
      "text/plain": [
       "<Figure size 720x360 with 1 Axes>"
      ]
     },
     "metadata": {
      "needs_background": "light"
     },
     "output_type": "display_data"
    }
   ],
   "source": [
    "# We use matplotlib to print the boxplots ans identify what sigma will clean the best our model.\n",
    "# We usualy use 3 sigmas but we don't want to discart to much data nor too little.\n",
    "\n",
    "for column in train:\n",
    "    print(\"\\n-------------------- \", column, \" --------------------\\n\")\n",
    "    \n",
    "    fig = plt.figure(figsize = (10,5))\n",
    "    \n",
    "    mean = np.mean(train[column])\n",
    "    std = np.std(train[column])\n",
    "    whis = np.interp([mean-4*std, mean+4*std], np.sort(train[column]), np.linspace(0,1,train[column].size)) * 100\n",
    "    \n",
    "    red_square = dict(markerfacecolor = 'r', marker = 's')\n",
    "    train.boxplot([column], whis = whis, vert = False, flierprops = red_square)\n",
    "    plt.show()"
   ]
  },
  {
   "cell_type": "markdown",
   "id": "61a5254f",
   "metadata": {},
   "source": [
    "Using a 4 sigma boxplot we can see that the only outliers are in crime and black, and the ones from black are not that far from the thresh hold, but we might clean them as they might affect our model.\n",
    "\n",
    "* We use 4 sigma deviation instead of 3 which is more usual because of the lack of data, we only have 333 observations to train and it's better not discart too many"
   ]
  },
  {
   "cell_type": "code",
   "execution_count": 8,
   "id": "efff7708",
   "metadata": {},
   "outputs": [],
   "source": [
    "# Function to discard the values that are greater than sigma times the std\n",
    "def clean_outliers(df, sigma):\n",
    "    new = df.copy()\n",
    "    for col in new:\n",
    "        new = new[(np.abs(stats.zscore(new[col])) < sigma)]\n",
    "  \n",
    "    return new"
   ]
  },
  {
   "cell_type": "code",
   "execution_count": 9,
   "id": "213d7990",
   "metadata": {},
   "outputs": [
    {
     "data": {
      "text/plain": [
       "(323, 15)"
      ]
     },
     "execution_count": 9,
     "metadata": {},
     "output_type": "execute_result"
    }
   ],
   "source": [
    "train_clean = clean_outliers(train, 4)\n",
    "train_clean.shape"
   ]
  },
  {
   "cell_type": "markdown",
   "id": "9009dbe7",
   "metadata": {},
   "source": [
    "We have discarted only 10 values, if we would have used 3 sigmas we would have discarted 74 values insted.\n",
    "\n",
    "Lets now see if there is any correlation between variables that makes us discard any."
   ]
  },
  {
   "cell_type": "code",
   "execution_count": 10,
   "id": "d07b0d50",
   "metadata": {},
   "outputs": [
    {
     "data": {
      "text/plain": [
       "<AxesSubplot:>"
      ]
     },
     "execution_count": 10,
     "metadata": {},
     "output_type": "execute_result"
    },
    {
     "data": {
      "image/png": "[encoded data removed]",
      "text/plain": [
       "<Figure size 1152x360 with 2 Axes>"
      ]
     },
     "metadata": {
      "needs_background": "light"
     },
     "output_type": "display_data"
    }
   ],
   "source": [
    "# Plot the correlation matrix:\n",
    "\n",
    "plt.figure(figsize = (16, 5))\n",
    "sns.heatmap(train_clean.corr(), annot = True)"
   ]
  },
  {
   "cell_type": "markdown",
   "id": "13e67ad9",
   "metadata": {},
   "source": [
    "As we can see rad is highly correlated with tax, this makes sence as the more taxes people pay the better the communications wiht the roads will be. So as they are highly correlated and the relation seems causal, we can discard the rad varaible.\n",
    "\n",
    "We will drop ID as it's not relevant for the model."
   ]
  },
  {
   "cell_type": "code",
   "execution_count": 11,
   "id": "883ebcf2",
   "metadata": {},
   "outputs": [
    {
     "data": {
      "text/html": [
       "<div>\n",
       "<style scoped>\n",
       "    .dataframe tbody tr th:only-of-type {\n",
       "        vertical-align: middle;\n",
       "    }\n",
       "\n",
       "    .dataframe tbody tr th {\n",
       "        vertical-align: top;\n",
       "    }\n",
       "\n",
       "    .dataframe thead th {\n",
       "        text-align: right;\n",
       "    }\n",
       "</style>\n",
       "<table border=\"1\" class=\"dataframe\">\n",
       "  <thead>\n",
       "    <tr style=\"text-align: right;\">\n",
       "      <th></th>\n",
       "      <th>zn</th>\n",
       "      <th>chas</th>\n",
       "      <th>rm</th>\n",
       "      <th>dis</th>\n",
       "      <th>tax</th>\n",
       "      <th>medv</th>\n",
       "      <th>crim</th>\n",
       "      <th>indus</th>\n",
       "      <th>nox</th>\n",
       "      <th>age</th>\n",
       "      <th>ptratio</th>\n",
       "      <th>black</th>\n",
       "      <th>lstat</th>\n",
       "    </tr>\n",
       "  </thead>\n",
       "  <tbody>\n",
       "    <tr>\n",
       "      <th>count</th>\n",
       "      <td>323.000000</td>\n",
       "      <td>323.000000</td>\n",
       "      <td>323.000000</td>\n",
       "      <td>323.000000</td>\n",
       "      <td>323.000000</td>\n",
       "      <td>323.000000</td>\n",
       "      <td>323.000000</td>\n",
       "      <td>323.000000</td>\n",
       "      <td>323.000000</td>\n",
       "      <td>323.000000</td>\n",
       "      <td>323.000000</td>\n",
       "      <td>323.000000</td>\n",
       "      <td>323.000000</td>\n",
       "    </tr>\n",
       "    <tr>\n",
       "      <th>mean</th>\n",
       "      <td>11.020124</td>\n",
       "      <td>0.061920</td>\n",
       "      <td>6.279830</td>\n",
       "      <td>3.762297</td>\n",
       "      <td>401.331269</td>\n",
       "      <td>23.163777</td>\n",
       "      <td>2.643375</td>\n",
       "      <td>11.082755</td>\n",
       "      <td>0.553359</td>\n",
       "      <td>67.522291</td>\n",
       "      <td>18.393808</td>\n",
       "      <td>368.756533</td>\n",
       "      <td>12.178916</td>\n",
       "    </tr>\n",
       "    <tr>\n",
       "      <th>std</th>\n",
       "      <td>22.944581</td>\n",
       "      <td>0.241383</td>\n",
       "      <td>0.704402</td>\n",
       "      <td>1.987314</td>\n",
       "      <td>167.282069</td>\n",
       "      <td>9.005789</td>\n",
       "      <td>5.013281</td>\n",
       "      <td>7.000809</td>\n",
       "      <td>0.114456</td>\n",
       "      <td>28.212492</td>\n",
       "      <td>2.162374</td>\n",
       "      <td>66.606344</td>\n",
       "      <td>6.798312</td>\n",
       "    </tr>\n",
       "    <tr>\n",
       "      <th>min</th>\n",
       "      <td>0.000000</td>\n",
       "      <td>0.000000</td>\n",
       "      <td>3.561000</td>\n",
       "      <td>1.129600</td>\n",
       "      <td>188.000000</td>\n",
       "      <td>5.600000</td>\n",
       "      <td>0.006320</td>\n",
       "      <td>0.740000</td>\n",
       "      <td>0.385000</td>\n",
       "      <td>6.000000</td>\n",
       "      <td>12.600000</td>\n",
       "      <td>43.060000</td>\n",
       "      <td>1.730000</td>\n",
       "    </tr>\n",
       "    <tr>\n",
       "      <th>25%</th>\n",
       "      <td>0.000000</td>\n",
       "      <td>0.000000</td>\n",
       "      <td>5.885500</td>\n",
       "      <td>2.169150</td>\n",
       "      <td>277.000000</td>\n",
       "      <td>17.800000</td>\n",
       "      <td>0.073735</td>\n",
       "      <td>5.040000</td>\n",
       "      <td>0.453000</td>\n",
       "      <td>44.350000</td>\n",
       "      <td>17.150000</td>\n",
       "      <td>377.705000</td>\n",
       "      <td>6.925000</td>\n",
       "    </tr>\n",
       "    <tr>\n",
       "      <th>50%</th>\n",
       "      <td>0.000000</td>\n",
       "      <td>0.000000</td>\n",
       "      <td>6.211000</td>\n",
       "      <td>3.132300</td>\n",
       "      <td>329.000000</td>\n",
       "      <td>21.800000</td>\n",
       "      <td>0.241030</td>\n",
       "      <td>8.560000</td>\n",
       "      <td>0.532000</td>\n",
       "      <td>76.500000</td>\n",
       "      <td>18.700000</td>\n",
       "      <td>392.300000</td>\n",
       "      <td>10.590000</td>\n",
       "    </tr>\n",
       "    <tr>\n",
       "      <th>75%</th>\n",
       "      <td>12.500000</td>\n",
       "      <td>0.000000</td>\n",
       "      <td>6.617000</td>\n",
       "      <td>5.164950</td>\n",
       "      <td>666.000000</td>\n",
       "      <td>25.150000</td>\n",
       "      <td>2.542505</td>\n",
       "      <td>18.100000</td>\n",
       "      <td>0.624000</td>\n",
       "      <td>93.350000</td>\n",
       "      <td>20.200000</td>\n",
       "      <td>396.290000</td>\n",
       "      <td>15.890000</td>\n",
       "    </tr>\n",
       "    <tr>\n",
       "      <th>max</th>\n",
       "      <td>100.000000</td>\n",
       "      <td>1.000000</td>\n",
       "      <td>8.725000</td>\n",
       "      <td>10.710300</td>\n",
       "      <td>711.000000</td>\n",
       "      <td>50.000000</td>\n",
       "      <td>28.655800</td>\n",
       "      <td>27.740000</td>\n",
       "      <td>0.871000</td>\n",
       "      <td>100.000000</td>\n",
       "      <td>21.200000</td>\n",
       "      <td>396.900000</td>\n",
       "      <td>37.970000</td>\n",
       "    </tr>\n",
       "  </tbody>\n",
       "</table>\n",
       "</div>"
      ],
      "text/plain": [
       "               zn        chas          rm         dis         tax        medv  \\\n",
       "count  323.000000  323.000000  323.000000  323.000000  323.000000  323.000000   \n",
       "mean    11.020124    0.061920    6.279830    3.762297  401.331269   23.163777   \n",
       "std     22.944581    0.241383    0.704402    1.987314  167.282069    9.005789   \n",
       "min      0.000000    0.000000    3.561000    1.129600  188.000000    5.600000   \n",
       "25%      0.000000    0.000000    5.885500    2.169150  277.000000   17.800000   \n",
       "50%      0.000000    0.000000    6.211000    3.132300  329.000000   21.800000   \n",
       "75%     12.500000    0.000000    6.617000    5.164950  666.000000   25.150000   \n",
       "max    100.000000    1.000000    8.725000   10.710300  711.000000   50.000000   \n",
       "\n",
       "             crim       indus         nox         age     ptratio       black  \\\n",
       "count  323.000000  323.000000  323.000000  323.000000  323.000000  323.000000   \n",
       "mean     2.643375   11.082755    0.553359   67.522291   18.393808  368.756533   \n",
       "std      5.013281    7.000809    0.114456   28.212492    2.162374   66.606344   \n",
       "min      0.006320    0.740000    0.385000    6.000000   12.600000   43.060000   \n",
       "25%      0.073735    5.040000    0.453000   44.350000   17.150000  377.705000   \n",
       "50%      0.241030    8.560000    0.532000   76.500000   18.700000  392.300000   \n",
       "75%      2.542505   18.100000    0.624000   93.350000   20.200000  396.290000   \n",
       "max     28.655800   27.740000    0.871000  100.000000   21.200000  396.900000   \n",
       "\n",
       "            lstat  \n",
       "count  323.000000  \n",
       "mean    12.178916  \n",
       "std      6.798312  \n",
       "min      1.730000  \n",
       "25%      6.925000  \n",
       "50%     10.590000  \n",
       "75%     15.890000  \n",
       "max     37.970000  "
      ]
     },
     "execution_count": 11,
     "metadata": {},
     "output_type": "execute_result"
    }
   ],
   "source": [
    "train_final = train_clean.drop(['ID', 'rad'], axis = 1)\n",
    "train_final.describe()"
   ]
  },
  {
   "cell_type": "markdown",
   "id": "4b78ab38",
   "metadata": {},
   "source": [
    "We discart the rad column in the predict data, for now we don't discart the outliers, in case we dont get good results we will try to clean them and see if it matters."
   ]
  },
  {
   "cell_type": "code",
   "execution_count": 12,
   "id": "1c4ced08",
   "metadata": {},
   "outputs": [
    {
     "data": {
      "text/html": [
       "<div>\n",
       "<style scoped>\n",
       "    .dataframe tbody tr th:only-of-type {\n",
       "        vertical-align: middle;\n",
       "    }\n",
       "\n",
       "    .dataframe tbody tr th {\n",
       "        vertical-align: top;\n",
       "    }\n",
       "\n",
       "    .dataframe thead th {\n",
       "        text-align: right;\n",
       "    }\n",
       "</style>\n",
       "<table border=\"1\" class=\"dataframe\">\n",
       "  <thead>\n",
       "    <tr style=\"text-align: right;\">\n",
       "      <th></th>\n",
       "      <th>zn</th>\n",
       "      <th>chas</th>\n",
       "      <th>rm</th>\n",
       "      <th>dis</th>\n",
       "      <th>tax</th>\n",
       "      <th>crim</th>\n",
       "      <th>indus</th>\n",
       "      <th>nox</th>\n",
       "      <th>age</th>\n",
       "      <th>ptratio</th>\n",
       "      <th>black</th>\n",
       "      <th>lstat</th>\n",
       "    </tr>\n",
       "  </thead>\n",
       "  <tbody>\n",
       "    <tr>\n",
       "      <th>count</th>\n",
       "      <td>173.000000</td>\n",
       "      <td>173.000000</td>\n",
       "      <td>173.000000</td>\n",
       "      <td>173.000000</td>\n",
       "      <td>173.000000</td>\n",
       "      <td>173.000000</td>\n",
       "      <td>173.000000</td>\n",
       "      <td>173.000000</td>\n",
       "      <td>173.000000</td>\n",
       "      <td>173.000000</td>\n",
       "      <td>173.000000</td>\n",
       "      <td>173.000000</td>\n",
       "    </tr>\n",
       "    <tr>\n",
       "      <th>mean</th>\n",
       "      <td>12.661850</td>\n",
       "      <td>0.086705</td>\n",
       "      <td>6.321237</td>\n",
       "      <td>3.958865</td>\n",
       "      <td>406.231214</td>\n",
       "      <td>4.100862</td>\n",
       "      <td>10.835145</td>\n",
       "      <td>0.549981</td>\n",
       "      <td>69.245665</td>\n",
       "      <td>18.469942</td>\n",
       "      <td>351.299711</td>\n",
       "      <td>12.917977</td>\n",
       "    </tr>\n",
       "    <tr>\n",
       "      <th>std</th>\n",
       "      <td>24.536277</td>\n",
       "      <td>0.282219</td>\n",
       "      <td>0.700621</td>\n",
       "      <td>2.324131</td>\n",
       "      <td>164.480626</td>\n",
       "      <td>10.607761</td>\n",
       "      <td>6.596488</td>\n",
       "      <td>0.117826</td>\n",
       "      <td>28.248244</td>\n",
       "      <td>2.196196</td>\n",
       "      <td>99.781464</td>\n",
       "      <td>7.293408</td>\n",
       "    </tr>\n",
       "    <tr>\n",
       "      <th>min</th>\n",
       "      <td>0.000000</td>\n",
       "      <td>0.000000</td>\n",
       "      <td>4.138000</td>\n",
       "      <td>1.178100</td>\n",
       "      <td>187.000000</td>\n",
       "      <td>0.013810</td>\n",
       "      <td>0.460000</td>\n",
       "      <td>0.392000</td>\n",
       "      <td>2.900000</td>\n",
       "      <td>12.600000</td>\n",
       "      <td>0.320000</td>\n",
       "      <td>1.920000</td>\n",
       "    </tr>\n",
       "    <tr>\n",
       "      <th>25%</th>\n",
       "      <td>0.000000</td>\n",
       "      <td>0.000000</td>\n",
       "      <td>5.895000</td>\n",
       "      <td>2.010700</td>\n",
       "      <td>279.000000</td>\n",
       "      <td>0.082210</td>\n",
       "      <td>5.320000</td>\n",
       "      <td>0.447000</td>\n",
       "      <td>42.800000</td>\n",
       "      <td>17.000000</td>\n",
       "      <td>371.720000</td>\n",
       "      <td>6.870000</td>\n",
       "    </tr>\n",
       "    <tr>\n",
       "      <th>50%</th>\n",
       "      <td>0.000000</td>\n",
       "      <td>0.000000</td>\n",
       "      <td>6.223000</td>\n",
       "      <td>3.421100</td>\n",
       "      <td>330.000000</td>\n",
       "      <td>0.251990</td>\n",
       "      <td>8.560000</td>\n",
       "      <td>0.538000</td>\n",
       "      <td>79.200000</td>\n",
       "      <td>19.100000</td>\n",
       "      <td>390.070000</td>\n",
       "      <td>12.120000</td>\n",
       "    </tr>\n",
       "    <tr>\n",
       "      <th>75%</th>\n",
       "      <td>20.000000</td>\n",
       "      <td>0.000000</td>\n",
       "      <td>6.674000</td>\n",
       "      <td>5.400700</td>\n",
       "      <td>666.000000</td>\n",
       "      <td>3.673670</td>\n",
       "      <td>18.100000</td>\n",
       "      <td>0.624000</td>\n",
       "      <td>94.600000</td>\n",
       "      <td>20.200000</td>\n",
       "      <td>396.060000</td>\n",
       "      <td>17.210000</td>\n",
       "    </tr>\n",
       "    <tr>\n",
       "      <th>max</th>\n",
       "      <td>95.000000</td>\n",
       "      <td>1.000000</td>\n",
       "      <td>8.780000</td>\n",
       "      <td>12.126500</td>\n",
       "      <td>711.000000</td>\n",
       "      <td>88.976200</td>\n",
       "      <td>27.740000</td>\n",
       "      <td>0.871000</td>\n",
       "      <td>100.000000</td>\n",
       "      <td>22.000000</td>\n",
       "      <td>396.900000</td>\n",
       "      <td>34.370000</td>\n",
       "    </tr>\n",
       "  </tbody>\n",
       "</table>\n",
       "</div>"
      ],
      "text/plain": [
       "               zn        chas          rm         dis         tax        crim  \\\n",
       "count  173.000000  173.000000  173.000000  173.000000  173.000000  173.000000   \n",
       "mean    12.661850    0.086705    6.321237    3.958865  406.231214    4.100862   \n",
       "std     24.536277    0.282219    0.700621    2.324131  164.480626   10.607761   \n",
       "min      0.000000    0.000000    4.138000    1.178100  187.000000    0.013810   \n",
       "25%      0.000000    0.000000    5.895000    2.010700  279.000000    0.082210   \n",
       "50%      0.000000    0.000000    6.223000    3.421100  330.000000    0.251990   \n",
       "75%     20.000000    0.000000    6.674000    5.400700  666.000000    3.673670   \n",
       "max     95.000000    1.000000    8.780000   12.126500  711.000000   88.976200   \n",
       "\n",
       "            indus         nox         age     ptratio       black       lstat  \n",
       "count  173.000000  173.000000  173.000000  173.000000  173.000000  173.000000  \n",
       "mean    10.835145    0.549981   69.245665   18.469942  351.299711   12.917977  \n",
       "std      6.596488    0.117826   28.248244    2.196196   99.781464    7.293408  \n",
       "min      0.460000    0.392000    2.900000   12.600000    0.320000    1.920000  \n",
       "25%      5.320000    0.447000   42.800000   17.000000  371.720000    6.870000  \n",
       "50%      8.560000    0.538000   79.200000   19.100000  390.070000   12.120000  \n",
       "75%     18.100000    0.624000   94.600000   20.200000  396.060000   17.210000  \n",
       "max     27.740000    0.871000  100.000000   22.000000  396.900000   34.370000  "
      ]
     },
     "execution_count": 12,
     "metadata": {},
     "output_type": "execute_result"
    }
   ],
   "source": [
    "predict_final = predict.drop(['ID', 'rad'], axis = 1)\n",
    "predict_final.describe()"
   ]
  },
  {
   "cell_type": "markdown",
   "id": "353908e3",
   "metadata": {},
   "source": [
    "## Model"
   ]
  },
  {
   "cell_type": "markdown",
   "id": "d629c2df",
   "metadata": {},
   "source": [
    "### Set train data and test data"
   ]
  },
  {
   "cell_type": "code",
   "execution_count": 13,
   "id": "aba31692",
   "metadata": {},
   "outputs": [],
   "source": [
    "# Set train data\n",
    "y = train_final.pop('medv')\n",
    "X = train_final\n",
    "\n",
    "# Split the data 80% for train and 20% for testing\n",
    "X_train, X_test, y_train, y_test = train_test_split(X, y, test_size = 0.15)\n",
    "\n",
    "# Set test data\n",
    "X_predict = predict_final"
   ]
  },
  {
   "cell_type": "markdown",
   "id": "05c6661c",
   "metadata": {},
   "source": [
    "### Normalization"
   ]
  },
  {
   "cell_type": "code",
   "execution_count": 14,
   "id": "cf214bcc",
   "metadata": {},
   "outputs": [],
   "source": [
    "# We use SatandardScaler from sklearn to normalize the data\n",
    "\n",
    "# Initialize the normalizer and train it with train data\n",
    "scaler_X = StandardScaler()\n",
    "scaler_X = scaler_X.fit(X_train)\n",
    "\n",
    "# Normalize the train data\n",
    "scaled_X = scaler_X.transform(X_train)\n",
    "\n",
    "# Normalize the test data\n",
    "scaled_X_test = scaler_X.transform(X_test)\n",
    "\n",
    "# Normalize the predict data\n",
    "scaled_X_predict = scaler_X.transform(X_predict)"
   ]
  },
  {
   "cell_type": "markdown",
   "id": "2e906f2e",
   "metadata": {},
   "source": [
    "### Random Forest Regression"
   ]
  },
  {
   "cell_type": "code",
   "execution_count": 15,
   "id": "4edf2634",
   "metadata": {},
   "outputs": [],
   "source": [
    "# Define the model\n",
    "rf = RandomForestRegressor(max_depth = 10)\n",
    "\n",
    "# Train the model\n",
    "rf = rf.fit(scaled_X, y_train)"
   ]
  },
  {
   "cell_type": "code",
   "execution_count": 16,
   "id": "f4002090",
   "metadata": {},
   "outputs": [
    {
     "name": "stdout",
     "output_type": "stream",
     "text": [
      "0.8159763158139537\n"
     ]
    }
   ],
   "source": [
    "# Results\n",
    "rf_score = rf.score(scaled_X_test, y_test)\n",
    "print(rf_score)"
   ]
  },
  {
   "cell_type": "markdown",
   "id": "d997fc91",
   "metadata": {},
   "source": [
    "### Sklearn Neural Network"
   ]
  },
  {
   "cell_type": "code",
   "execution_count": 17,
   "id": "7f78fe3c",
   "metadata": {},
   "outputs": [],
   "source": [
    "# Define the model\n",
    "sk_mlp = MLPRegressor(hidden_layer_sizes=(60, 120, 120, 60), max_iter = 10000)\n",
    "\n",
    "# Train the model\n",
    "sk_mlp = sk_mlp.fit(scaled_X, y_train)"
   ]
  },
  {
   "cell_type": "code",
   "execution_count": 18,
   "id": "8ea48292",
   "metadata": {},
   "outputs": [
    {
     "name": "stdout",
     "output_type": "stream",
     "text": [
      "0.8225113720063122\n"
     ]
    }
   ],
   "source": [
    "# Results\n",
    "sk_mlp_score = sk_mlp.score(scaled_X_test, y_test)\n",
    "print(sk_mlp_score)"
   ]
  },
  {
   "cell_type": "markdown",
   "id": "a9d52434",
   "metadata": {},
   "source": [
    "### Pytorch"
   ]
  },
  {
   "cell_type": "code",
   "execution_count": 19,
   "id": "e427ccfa",
   "metadata": {},
   "outputs": [],
   "source": [
    "class MLP(nn.Module):\n",
    "    '''\n",
    "    Multilayer Perceptron for regression.\n",
    "    '''\n",
    "    def __init__(self):\n",
    "        super().__init__()\n",
    "        self.layers = nn.Sequential(\n",
    "            nn.Linear(12, 60),\n",
    "            nn.ReLU(),\n",
    "            nn.Linear(60, 120),\n",
    "            nn.ReLU(),\n",
    "            nn.Linear(120, 120),\n",
    "            nn.ReLU(),\n",
    "            nn.Linear(120, 60),\n",
    "            nn.ReLU(),\n",
    "            nn.Linear(60, 1)\n",
    "        )\n",
    "\n",
    "\n",
    "    def forward(self, x):\n",
    "        '''\n",
    "          Forward pass\n",
    "        '''\n",
    "        return self.layers(x)"
   ]
  },
  {
   "cell_type": "code",
   "execution_count": 20,
   "id": "32aad1cc",
   "metadata": {},
   "outputs": [],
   "source": [
    "# Transform the data to numpy array of type float\n",
    "features_train = np.array(scaled_X).astype('float32')\n",
    "targets_train = np.array(y_train).astype('float32')\n",
    "\n",
    "features_test = np.array(scaled_X_test).astype('float32')\n",
    "targets_test = np.array(y_test).astype('float32')\n",
    "\n",
    "# Create feature and targets tensor for train set.\n",
    "featuresTrain = torch.from_numpy(features_train)\n",
    "targetsTrain = torch.from_numpy(targets_train)\n",
    "\n",
    "featuresTest = torch.from_numpy(features_test)\n",
    "targetsTest = torch.from_numpy(targets_test)\n",
    "\n",
    "# batch_size, epoch and iteration\n",
    "batch_size = len(features_train)\n",
    "n_iters = 50000\n",
    "num_epochs = n_iters / (len(features_train) / batch_size)\n",
    "num_epochs = int(num_epochs)\n",
    "\n",
    "# Pytorch train and test sets\n",
    "train = torch.utils.data.TensorDataset(featuresTrain, targetsTrain)\n",
    "test = torch.utils.data.TensorDataset(featuresTest, targetsTest)\n",
    "\n",
    "# data loader\n",
    "train_loader = DataLoader(train, batch_size = batch_size, shuffle = True)\n",
    "test_loader = DataLoader(test, batch_size = batch_size, shuffle = True)\n",
    "\n",
    "# Initialize the MLP\n",
    "torch_mlp = MLP()\n",
    "\n",
    "# Define the loss function and optimizer\n",
    "loss_function = nn.MSELoss()\n",
    "optimizer = torch.optim.Adam(torch_mlp.parameters(), lr=1e-5)"
   ]
  },
  {
   "cell_type": "code",
   "execution_count": 21,
   "id": "02d3171d",
   "metadata": {},
   "outputs": [
    {
     "name": "stdout",
     "output_type": "stream",
     "text": [
      "Iteration: 5000  Loss: 23.31366539001465\n",
      "Iteration: 10000  Loss: 8.666630744934082\n",
      "Iteration: 15000  Loss: 3.1433141231536865\n",
      "Iteration: 20000  Loss: 0.32897892594337463\n",
      "Iteration: 25000  Loss: 0.017047764733433723\n",
      "Iteration: 30000  Loss: 0.0020577190443873405\n",
      "Iteration: 35000  Loss: 0.0006877155974507332\n",
      "Iteration: 40000  Loss: 0.0003352299681864679\n",
      "Iteration: 45000  Loss: 0.0001815626019379124\n",
      "Iteration: 50000  Loss: 5.2419843996176496e-05\n"
     ]
    }
   ],
   "source": [
    "# Run the training loop\n",
    "count = 0\n",
    "loss_list = []\n",
    "iteration_list = []\n",
    "\n",
    "for epoch in range(num_epochs):\n",
    "    # Iterate over the DataLoader for training data\n",
    "    for i, (inputs, targets) in enumerate(train_loader):\n",
    "\n",
    "        inputs = Variable(inputs)\n",
    "        targets = Variable(targets.reshape(-1, 1))\n",
    "\n",
    "        # Zero the gradients\n",
    "        optimizer.zero_grad()\n",
    "\n",
    "        # Perform forward pass\n",
    "        outputs = torch_mlp(inputs)\n",
    "\n",
    "        # Compute loss\n",
    "        loss = loss_function(outputs, targets)\n",
    "\n",
    "        # Perform backward pass\n",
    "        loss.backward()\n",
    "\n",
    "        # Perform optimization\n",
    "        optimizer.step()\n",
    "        \n",
    "        count += 1\n",
    "        \n",
    "        if count % 500 == 0:\n",
    "            # store loss and iteration\n",
    "            loss_list.append(loss.data)\n",
    "            iteration_list.append(count)\n",
    "            \n",
    "            # Print Loss\n",
    "            if count % 5000 == 0:\n",
    "                print('Iteration: {}  Loss: {}'.format(count, loss.data))"
   ]
  },
  {
   "cell_type": "code",
   "execution_count": 22,
   "id": "a6fab9d8",
   "metadata": {},
   "outputs": [
    {
     "data": {
      "image/png": "[encoded data removed]",
      "text/plain": [
       "<Figure size 432x288 with 1 Axes>"
      ]
     },
     "metadata": {
      "needs_background": "light"
     },
     "output_type": "display_data"
    }
   ],
   "source": [
    "plt.plot(iteration_list,loss_list)\n",
    "plt.xlabel(\"Number of iteration\")\n",
    "plt.ylabel(\"Loss\")\n",
    "plt.title(\"ANN: Loss vs Number of iteration\")\n",
    "plt.show()"
   ]
  },
  {
   "cell_type": "code",
   "execution_count": 23,
   "id": "b0de71fd",
   "metadata": {},
   "outputs": [],
   "source": [
    "def r2_score(output, target):\n",
    "    target_mean = torch.mean(target)\n",
    "    ss_tot = torch.sum((target - target_mean) ** 2)\n",
    "    ss_res = torch.sum((target - output) ** 2)\n",
    "    r2 = 1 - (ss_res / ss_tot)\n",
    "    return r2"
   ]
  },
  {
   "cell_type": "code",
   "execution_count": 24,
   "id": "3989e141",
   "metadata": {},
   "outputs": [
    {
     "name": "stdout",
     "output_type": "stream",
     "text": [
      "R2 Score :  0.7785812020301819\n",
      "MSE :  15.488675117492676\n"
     ]
    }
   ],
   "source": [
    "# Results\n",
    "inputs = Variable(featuresTest)\n",
    "targets = Variable(targetsTest.reshape(-1, 1))\n",
    "outputs = torch_mlp(inputs)\n",
    "\n",
    "torch_mlp_score = r2_score(outputs, targets).item()\n",
    "\n",
    "print(\"R2 Score : \", r2_score(outputs, targets).item())\n",
    "print(\"MSE : \", loss_function(outputs, targets).item())"
   ]
  },
  {
   "cell_type": "markdown",
   "id": "b60aa703",
   "metadata": {},
   "source": [
    "## Predictions"
   ]
  },
  {
   "cell_type": "code",
   "execution_count": 25,
   "id": "aac73459",
   "metadata": {},
   "outputs": [],
   "source": [
    "rf_predictions = rf.predict(scaled_X_predict)\n",
    "sk_mlp_predictions = sk_mlp.predict(scaled_X_predict)\n",
    "\n",
    "# Transform the data to numpy array of type float\n",
    "features_predict = np.array(scaled_X_predict).astype('float32')\n",
    "\n",
    "# Create feature tensor for predict set.\n",
    "featuresPredict = torch.from_numpy(features_predict)\n",
    "inputs = Variable(featuresPredict)\n",
    "\n",
    "# Torch predictions\n",
    "torch_mlp_predictions = torch_mlp(inputs).detach().numpy().reshape(1, -1)[0]"
   ]
  },
  {
   "cell_type": "markdown",
   "id": "a635ad4f",
   "metadata": {},
   "source": [
    "To produce the final prediction as we can't ensure that any model is better than other we will use a weighted mean of them to generate a more robust model."
   ]
  },
  {
   "cell_type": "code",
   "execution_count": 26,
   "id": "952d1570",
   "metadata": {},
   "outputs": [
    {
     "name": "stdout",
     "output_type": "stream",
     "text": [
      "[33.7367783  25.14589568 17.40738905 18.04194713 18.2176331  19.92982341\n",
      " 18.81300193 16.89359351 15.30066561 18.49134513 17.38440461 21.27652626\n",
      " 17.18158867 15.27828174 21.58534752 23.80835585 22.60131251 30.74895392\n",
      " 17.26722475 26.10473213 21.41091743 25.65397607 21.45620239 21.06861212\n",
      " 20.62286626 20.59712876 23.59206471 24.24525749 24.36468743 27.05144944\n",
      " 42.12087434 43.94041947 33.82679404 19.45401802 16.87392722 22.41120422\n",
      " 16.40044733 14.096079   18.84075563 21.10721568 15.63673095 18.36811321\n",
      " 18.68520159 17.10572458 15.66195251 15.24416573 13.81286773 15.27922068\n",
      " 18.59660929 17.43387348 17.25359624 35.31925178 46.1758438  21.9037915\n",
      " 27.71411508 26.84211502 31.41725241 47.79651548 40.02890853 36.86253978\n",
      " 30.60756222 45.04725715 20.7787738  17.49347147 18.33826656 24.29895666\n",
      " 25.73695604 31.20100133 16.48938633 22.22841327 28.2861776  47.49822972\n",
      " 33.20653737 31.92162428 24.88189574 27.08988261 18.32770883 19.41583611\n",
      " 22.52169794 29.92155848 22.07384116 20.06896748 41.8602661  50.18680786\n",
      " 37.96252482 32.94814321 45.96293192 25.47559781 21.61418226 31.571936\n",
      " 34.12258622 29.75963085 26.20829251 40.54512142 21.14603746 23.26436173\n",
      " 32.50418553 22.63073625 28.60557022 26.15133824 36.00664632 29.32043901\n",
      " 29.9442224  20.32704957 23.24660828 24.07769425 23.577672   21.35109826\n",
      " 17.96078199 22.68289313 23.69773782 18.65602966 21.47381152 19.96083958\n",
      " 18.53451225 21.61820126 19.9007225  23.64388934 25.80955832 31.54502211\n",
      " 20.06046694 21.47163556 19.05111662 23.06230492 37.00808802 43.66280604\n",
      " 33.75325598  9.48597393  8.6724793  45.63817873  9.78053333  7.87707642\n",
      "  8.97214953 17.06284681 18.89848293 16.04748203 15.10835555 16.28080302\n",
      " 14.05225622  9.88071382 21.53275576 15.56357647 16.63155785 40.15443108\n",
      " 12.87248726 11.00907657 10.64790156 16.91406328 20.06294886 20.75260867\n",
      " 11.40428899 14.14162202 13.87181499  9.58240046 10.87033231  8.97953587\n",
      " 16.82860404 14.99884427 14.41811276 12.55505878 14.70304333 18.36163424\n",
      " 25.41700975 15.55329575 29.93718428 21.56835985 10.83130417 22.60103868\n",
      " 21.33949581 16.32959994 22.70667321 20.24448857 22.44538108]\n"
     ]
    }
   ],
   "source": [
    "final_predicction = ((rf_predictions * rf_score) \n",
    "                     + (sk_mlp_predictions * sk_mlp_score) \n",
    "                     + (torch_mlp_predictions * torch_mlp_score)) / (rf_score + sk_mlp_score + torch_mlp_score)\n",
    "print(final_predicction)"
   ]
  },
  {
   "cell_type": "markdown",
   "id": "14dd0765",
   "metadata": {},
   "source": [
    "## Conclusions"
   ]
  },
  {
   "cell_type": "markdown",
   "id": "e0e0e606",
   "metadata": {},
   "source": [
    "With such little amount of data the models are highly dependent on the data split, the results vary significantly on depending on how the data have spliten and that producces a quite noisy models.\n",
    "\n",
    "In general the Random Forest have produced better results, that the MultiLayer Perceptron models, and the sklear preceptron gets better results than the torch model mainly because it uses more hyperparameters to refine the learning process.\n",
    "\n",
    "Finally to generate a more robust model we combine all of them via a weighted mean to generate the predictions."
   ]
  }
 ],
 "metadata": {
  "kernelspec": {
   "display_name": "Python 3 (ipykernel)",
   "language": "python",
   "name": "python3"
  },
  "language_info": {
   "codemirror_mode": {
    "name": "ipython",
    "version": 3
   },
   "file_extension": ".py",
   "mimetype": "text/x-python",
   "name": "python",
   "nbconvert_exporter": "python",
   "pygments_lexer": "ipython3",
   "version": "3.9.7"
  }
 },
 "nbformat": 4,
 "nbformat_minor": 5
}
